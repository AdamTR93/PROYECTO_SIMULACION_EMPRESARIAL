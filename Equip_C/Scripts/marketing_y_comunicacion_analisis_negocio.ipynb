{
 "cells": [
  {
   "cell_type": "code",
   "execution_count": 7,
   "metadata": {},
   "outputs": [],
   "source": [
    "import pymysql\n",
    "import seaborn as sns\n",
    "import pandas as pd\n",
    "import matplotlib.pyplot as plt"
   ]
  },
  {
   "cell_type": "code",
   "execution_count": 5,
   "metadata": {},
   "outputs": [
    {
     "name": "stdout",
     "output_type": "stream",
     "text": [
      "<class 'pandas.core.frame.DataFrame'>\n",
      "RangeIndex: 11163 entries, 0 to 11162\n",
      "Data columns (total 18 columns):\n",
      " #   Column         Non-Null Count  Dtype  \n",
      "---  ------         --------------  -----  \n",
      " 0   id             11163 non-null  int64  \n",
      " 1   age            11163 non-null  float64\n",
      " 2   job            11163 non-null  object \n",
      " 3   marital        11163 non-null  object \n",
      " 4   education      11163 non-null  object \n",
      " 5   is_in_default  11163 non-null  int64  \n",
      " 6   balance        11163 non-null  int64  \n",
      " 7   housing        11163 non-null  int64  \n",
      " 8   loan           11163 non-null  int64  \n",
      " 9   contact        11163 non-null  object \n",
      " 10  day            11163 non-null  int64  \n",
      " 11  month          11163 non-null  object \n",
      " 12  duration       11163 non-null  int64  \n",
      " 13  campaign       11163 non-null  int64  \n",
      " 14  pdays          11163 non-null  int64  \n",
      " 15  previous       11163 non-null  int64  \n",
      " 16  poutcome       11163 non-null  object \n",
      " 17  deposit        11163 non-null  int64  \n",
      "dtypes: float64(1), int64(11), object(6)\n",
      "memory usage: 1.5+ MB\n"
     ]
    }
   ],
   "source": [
    "df_BANK_marketing = pd.read_parquet('df_BANK_marketing.parquet')\n",
    "df_BANK_marketing.info()"
   ]
  }
 ],
 "metadata": {
  "kernelspec": {
   "display_name": "Python 3",
   "language": "python",
   "name": "python3"
  },
  "language_info": {
   "codemirror_mode": {
    "name": "ipython",
    "version": 3
   },
   "file_extension": ".py",
   "mimetype": "text/x-python",
   "name": "python",
   "nbconvert_exporter": "python",
   "pygments_lexer": "ipython3",
   "version": "3.12.2"
  }
 },
 "nbformat": 4,
 "nbformat_minor": 2
}
