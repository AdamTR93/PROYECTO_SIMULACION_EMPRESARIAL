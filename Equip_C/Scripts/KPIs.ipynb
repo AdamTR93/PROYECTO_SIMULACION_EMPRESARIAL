{
 "cells": [
  {
   "cell_type": "code",
   "execution_count": null,
   "metadata": {},
   "outputs": [],
   "source": [
    "import pandas as pd"
   ]
  },
  {
   "cell_type": "markdown",
   "metadata": {},
   "source": [
    "## DATAFRAME"
   ]
  },
  {
   "cell_type": "code",
   "execution_count": null,
   "metadata": {},
   "outputs": [],
   "source": [
    "df_BANK_marketing = pd.read_parquet(\"df_BANK_marketing.parquet\")\n",
    "df_BANK_marketing"
   ]
  },
  {
   "cell_type": "markdown",
   "metadata": {},
   "source": [
    "## 1) KPI Conversion Deposito"
   ]
  },
  {
   "cell_type": "code",
   "execution_count": null,
   "metadata": {},
   "outputs": [],
   "source": [
    "deposito=df_BANK_marketing['deposit']\n",
    "df_deposito=pd.DataFrame(deposito, columns=['deposit']).reset_index()\n",
    "df_deposito\n",
    "conversion_deposito = (df_deposito[df_deposito['deposit']==1].count()/df_deposito['deposit'].count())*100\n",
    "conversion_deposito.round(2)"
   ]
  },
  {
   "cell_type": "markdown",
   "metadata": {},
   "source": [
    "## 2) Promedio de la duración de las llamadas de los suscriptores"
   ]
  },
  {
   "cell_type": "code",
   "execution_count": null,
   "metadata": {},
   "outputs": [],
   "source": [
    "## número de suscriptores\n",
    "suscriptores = df_BANK_marketing[df_BANK_marketing['deposit']==1]\n",
    "num_suscriptores = suscriptores[['duration']].count()\n",
    "num_suscriptores"
   ]
  },
  {
   "cell_type": "code",
   "execution_count": null,
   "metadata": {},
   "outputs": [],
   "source": [
    "## sumatorio de la duracion de las  llamadas hechas a suscriptores\n",
    "sumatorio_duracion_llamadas = suscriptores['duration'].sum().round(2)\n",
    "sumatorio_duracion_llamadas"
   ]
  },
  {
   "cell_type": "code",
   "execution_count": null,
   "metadata": {},
   "outputs": [],
   "source": [
    "## promedio de las llamadas a suscriptores\n",
    "promedio_llamadas_suscriptores = (sumatorio_duracion_llamadas/num_suscriptores).round(2)\n",
    "promedio_llamadas_suscriptores"
   ]
  },
  {
   "cell_type": "markdown",
   "metadata": {},
   "source": [
    "## 3) Porcentage de llamadas a teléfono fijo o a móvil"
   ]
  },
  {
   "cell_type": "code",
   "execution_count": null,
   "metadata": {},
   "outputs": [],
   "source": [
    "## número de llamadas a móvil y teléfono\n",
    "contacto = df_BANK_marketing['contact']\n",
    "contacto.count()\n",
    "df_contacto=pd.DataFrame(contacto, columns=['contact']).reset_index()\n",
    "df_contacto\n",
    "llamadas = df_contacto[(df_contacto['contact'] == 'cellular')|(df_contacto['contact'] == 'telephone')].count()\n",
    "llamadas"
   ]
  },
  {
   "cell_type": "code",
   "execution_count": null,
   "metadata": {},
   "outputs": [],
   "source": [
    "porcentage = ((llamadas/(contacto.count()))*100).round(2)\n",
    "porcentage"
   ]
  },
  {
   "cell_type": "markdown",
   "metadata": {},
   "source": [
    "## 4) Promedio de contactos previos de suscriptores"
   ]
  },
  {
   "cell_type": "code",
   "execution_count": null,
   "metadata": {},
   "outputs": [],
   "source": [
    "## sumatorio del número de contactos previos de suscriptores\n",
    "previous = df_BANK_marketing[['previous']].sum()\n",
    "previous"
   ]
  },
  {
   "cell_type": "code",
   "execution_count": null,
   "metadata": {},
   "outputs": [],
   "source": [
    "suscriptores[['previous']]"
   ]
  },
  {
   "cell_type": "code",
   "execution_count": null,
   "metadata": {},
   "outputs": [],
   "source": [
    "promedio_contactos_previos = (df_BANK_marketing[['previous']].sum())/suscriptores[['previous']]\n",
    "promedio_contactos_previos.round(2)"
   ]
  },
  {
   "cell_type": "markdown",
   "metadata": {},
   "source": [
    "## 5) Mes con mayor tasa de conversión"
   ]
  },
  {
   "cell_type": "code",
   "execution_count": null,
   "metadata": {},
   "outputs": [],
   "source": [
    "df_BANK_marketing[['month','campaign', 'deposit']]"
   ]
  },
  {
   "cell_type": "code",
   "execution_count": null,
   "metadata": {},
   "outputs": [],
   "source": [
    "## Número de suscriptores en el mes\n",
    "num_susc = df_BANK_marketing.groupby(['month']).deposit.sum().sort_values(ascending=False)\n",
    "df_num_susc = pd.DataFrame(num_susc, columns =['deposit']).reset_index()\n",
    "df_num_susc = df_num_susc.rename(columns = {'deposit':'num_suscriptores'})\n",
    "df_num_susc"
   ]
  },
  {
   "cell_type": "code",
   "execution_count": null,
   "metadata": {},
   "outputs": [],
   "source": [
    "# Número de clientes contactados en el mes\n",
    "num_cliente_cont = df_BANK_marketing.groupby(['month']).deposit.count().sort_values(ascending=False)\n",
    "df_num_cliente_cont = pd.DataFrame(num_cliente_cont, columns =['deposit']).reset_index()\n",
    "df_num_cliente_cont = df_num_cliente_cont.rename(columns = {'deposit':'num_clientes_cont'})\n",
    "df_num_cliente_cont"
   ]
  },
  {
   "cell_type": "code",
   "execution_count": null,
   "metadata": {},
   "outputs": [],
   "source": [
    "## concatenar las dos tablas\n",
    "concatenar = pd.merge(df_num_susc,df_num_cliente_cont, on='month')\n",
    "concatenar['dividir'] = ((concatenar['num_suscriptores']/concatenar['num_clientes_cont'])*100).round(2)\n",
    "df_ordenar = concatenar.sort_values(by='dividir', ascending=False)\n",
    "df_ordenar.head(1)"
   ]
  }
 ],
 "metadata": {
  "kernelspec": {
   "display_name": "base",
   "language": "python",
   "name": "python3"
  },
  "language_info": {
   "codemirror_mode": {
    "name": "ipython",
    "version": 3
   },
   "file_extension": ".py",
   "mimetype": "text/x-python",
   "name": "python",
   "nbconvert_exporter": "python",
   "pygments_lexer": "ipython3",
   "version": "3.11.9"
  }
 },
 "nbformat": 4,
 "nbformat_minor": 2
}
