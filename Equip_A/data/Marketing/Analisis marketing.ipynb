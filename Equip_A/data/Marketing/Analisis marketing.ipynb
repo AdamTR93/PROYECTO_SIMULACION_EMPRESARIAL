{
 "cells": [
  {
   "cell_type": "code",
   "execution_count": 2,
   "metadata": {},
   "outputs": [],
   "source": [
    "import pandas as pd\n",
    "import numpy as np\n",
    "import matplotlib.pyplot as plt\n",
    "import seaborn as sns\n",
    "from datetime import date, time, datetime\n",
    "\n",
    "import mysql.connector\n",
    "from mysql.connector import Error"
   ]
  },
  {
   "cell_type": "code",
   "execution_count": 3,
   "metadata": {},
   "outputs": [
    {
     "name": "stdout",
     "output_type": "stream",
     "text": [
      "conectado\n"
     ]
    },
    {
     "name": "stderr",
     "output_type": "stream",
     "text": [
      "C:\\Users\\Laura\\AppData\\Local\\Temp\\ipykernel_13164\\3518449963.py:15: UserWarning: pandas only supports SQLAlchemy connectable (engine/connection) or database string URI or sqlite3 DBAPI2 connection. Other DBAPI2 objects are not tested. Please consider using SQLAlchemy.\n",
      "  df=pd.read_sql(sql,connection)\n"
     ]
    },
    {
     "name": "stdout",
     "output_type": "stream",
     "text": [
      "Connection is closed\n"
     ]
    }
   ],
   "source": [
    "\n",
    "\n",
    "connection = mysql.connector.connect(host='212.227.90.6',\n",
    "                                         database='EquipA',\n",
    "                                         user='EquipoA',\n",
    "                                         password='E1q2u3i4p5oA')\n",
    "\n",
    "\n",
    "\n",
    "try:\n",
    "   if connection.is_connected():\n",
    "      print(\"conectado\")\n",
    "\n",
    "      df = pd.DataFrame\n",
    "      sql= \"SELECT *  FROM EquipA.v_marketing2\"\n",
    "   \n",
    "      df=pd.read_sql(sql,connection)\n",
    "\n",
    "except Error as e:\n",
    "    print(\"Error while connecting to MySQL\", e)\n",
    "\n",
    "finally:\n",
    "   if connection.is_connected():\n",
    "        connection.close()\n",
    "        print(\"Connection is closed\")\n"
   ]
  },
  {
   "cell_type": "code",
   "execution_count": 4,
   "metadata": {},
   "outputs": [
    {
     "data": {
      "text/html": [
       "<div>\n",
       "<style scoped>\n",
       "    .dataframe tbody tr th:only-of-type {\n",
       "        vertical-align: middle;\n",
       "    }\n",
       "\n",
       "    .dataframe tbody tr th {\n",
       "        vertical-align: top;\n",
       "    }\n",
       "\n",
       "    .dataframe thead th {\n",
       "        text-align: right;\n",
       "    }\n",
       "</style>\n",
       "<table border=\"1\" class=\"dataframe\">\n",
       "  <thead>\n",
       "    <tr style=\"text-align: right;\">\n",
       "      <th></th>\n",
       "      <th>id</th>\n",
       "      <th>age</th>\n",
       "      <th>job</th>\n",
       "      <th>marital</th>\n",
       "      <th>education</th>\n",
       "      <th>default_credit</th>\n",
       "      <th>contact</th>\n",
       "      <th>contact_day</th>\n",
       "      <th>contact_month</th>\n",
       "      <th>duration</th>\n",
       "      <th>campaign</th>\n",
       "      <th>pdays</th>\n",
       "      <th>previous</th>\n",
       "      <th>poutcome</th>\n",
       "      <th>deposit</th>\n",
       "      <th>duration_slot</th>\n",
       "      <th>age_slot</th>\n",
       "      <th>pdays_slot</th>\n",
       "    </tr>\n",
       "  </thead>\n",
       "  <tbody>\n",
       "    <tr>\n",
       "      <th>0</th>\n",
       "      <td>1</td>\n",
       "      <td>59</td>\n",
       "      <td>admin</td>\n",
       "      <td>married</td>\n",
       "      <td>secondary</td>\n",
       "      <td>no</td>\n",
       "      <td>unknown</td>\n",
       "      <td>5</td>\n",
       "      <td>may</td>\n",
       "      <td>1042</td>\n",
       "      <td>1</td>\n",
       "      <td>-1</td>\n",
       "      <td>0</td>\n",
       "      <td>n/a</td>\n",
       "      <td>yes</td>\n",
       "      <td>dmas10</td>\n",
       "      <td>5X</td>\n",
       "      <td>nc</td>\n",
       "    </tr>\n",
       "    <tr>\n",
       "      <th>1</th>\n",
       "      <td>2</td>\n",
       "      <td>59</td>\n",
       "      <td>admin</td>\n",
       "      <td>married</td>\n",
       "      <td>secondary</td>\n",
       "      <td>no</td>\n",
       "      <td>unknown</td>\n",
       "      <td>5</td>\n",
       "      <td>may</td>\n",
       "      <td>1042</td>\n",
       "      <td>1</td>\n",
       "      <td>-1</td>\n",
       "      <td>0</td>\n",
       "      <td>n/a</td>\n",
       "      <td>yes</td>\n",
       "      <td>dmas10</td>\n",
       "      <td>5X</td>\n",
       "      <td>nc</td>\n",
       "    </tr>\n",
       "    <tr>\n",
       "      <th>2</th>\n",
       "      <td>3</td>\n",
       "      <td>56</td>\n",
       "      <td>admin</td>\n",
       "      <td>married</td>\n",
       "      <td>secondary</td>\n",
       "      <td>no</td>\n",
       "      <td>unknown</td>\n",
       "      <td>5</td>\n",
       "      <td>may</td>\n",
       "      <td>1467</td>\n",
       "      <td>1</td>\n",
       "      <td>-1</td>\n",
       "      <td>0</td>\n",
       "      <td>n/a</td>\n",
       "      <td>yes</td>\n",
       "      <td>dmas10</td>\n",
       "      <td>5X</td>\n",
       "      <td>nc</td>\n",
       "    </tr>\n",
       "    <tr>\n",
       "      <th>3</th>\n",
       "      <td>4</td>\n",
       "      <td>41</td>\n",
       "      <td>technician</td>\n",
       "      <td>married</td>\n",
       "      <td>secondary</td>\n",
       "      <td>no</td>\n",
       "      <td>unknown</td>\n",
       "      <td>5</td>\n",
       "      <td>may</td>\n",
       "      <td>1389</td>\n",
       "      <td>1</td>\n",
       "      <td>-1</td>\n",
       "      <td>0</td>\n",
       "      <td>n/a</td>\n",
       "      <td>yes</td>\n",
       "      <td>dmas10</td>\n",
       "      <td>4X</td>\n",
       "      <td>nc</td>\n",
       "    </tr>\n",
       "    <tr>\n",
       "      <th>4</th>\n",
       "      <td>5</td>\n",
       "      <td>55</td>\n",
       "      <td>services</td>\n",
       "      <td>married</td>\n",
       "      <td>secondary</td>\n",
       "      <td>no</td>\n",
       "      <td>unknown</td>\n",
       "      <td>5</td>\n",
       "      <td>may</td>\n",
       "      <td>579</td>\n",
       "      <td>1</td>\n",
       "      <td>-1</td>\n",
       "      <td>0</td>\n",
       "      <td>n/a</td>\n",
       "      <td>yes</td>\n",
       "      <td>d10</td>\n",
       "      <td>5X</td>\n",
       "      <td>nc</td>\n",
       "    </tr>\n",
       "    <tr>\n",
       "      <th>...</th>\n",
       "      <td>...</td>\n",
       "      <td>...</td>\n",
       "      <td>...</td>\n",
       "      <td>...</td>\n",
       "      <td>...</td>\n",
       "      <td>...</td>\n",
       "      <td>...</td>\n",
       "      <td>...</td>\n",
       "      <td>...</td>\n",
       "      <td>...</td>\n",
       "      <td>...</td>\n",
       "      <td>...</td>\n",
       "      <td>...</td>\n",
       "      <td>...</td>\n",
       "      <td>...</td>\n",
       "      <td>...</td>\n",
       "      <td>...</td>\n",
       "      <td>...</td>\n",
       "    </tr>\n",
       "    <tr>\n",
       "      <th>16158</th>\n",
       "      <td>21379</td>\n",
       "      <td>26</td>\n",
       "      <td>admin</td>\n",
       "      <td>married</td>\n",
       "      <td>secondary</td>\n",
       "      <td>no</td>\n",
       "      <td>cellular</td>\n",
       "      <td>15</td>\n",
       "      <td>jun</td>\n",
       "      <td>155</td>\n",
       "      <td>1</td>\n",
       "      <td>105</td>\n",
       "      <td>1</td>\n",
       "      <td>failure</td>\n",
       "      <td>yes</td>\n",
       "      <td>d05</td>\n",
       "      <td>2X</td>\n",
       "      <td>m04</td>\n",
       "    </tr>\n",
       "    <tr>\n",
       "      <th>16159</th>\n",
       "      <td>21380</td>\n",
       "      <td>37</td>\n",
       "      <td>admin</td>\n",
       "      <td>married</td>\n",
       "      <td>secondary</td>\n",
       "      <td>no</td>\n",
       "      <td>cellular</td>\n",
       "      <td>27</td>\n",
       "      <td>may</td>\n",
       "      <td>242</td>\n",
       "      <td>1</td>\n",
       "      <td>212</td>\n",
       "      <td>1</td>\n",
       "      <td>success</td>\n",
       "      <td>yes</td>\n",
       "      <td>d05</td>\n",
       "      <td>3X</td>\n",
       "      <td>m08</td>\n",
       "    </tr>\n",
       "    <tr>\n",
       "      <th>16160</th>\n",
       "      <td>21381</td>\n",
       "      <td>45</td>\n",
       "      <td>management</td>\n",
       "      <td>married</td>\n",
       "      <td>tertiary</td>\n",
       "      <td>no</td>\n",
       "      <td>cellular</td>\n",
       "      <td>30</td>\n",
       "      <td>jul</td>\n",
       "      <td>61</td>\n",
       "      <td>3</td>\n",
       "      <td>-1</td>\n",
       "      <td>0</td>\n",
       "      <td>n/a</td>\n",
       "      <td>no</td>\n",
       "      <td>d02</td>\n",
       "      <td>4X</td>\n",
       "      <td>nc</td>\n",
       "    </tr>\n",
       "    <tr>\n",
       "      <th>16161</th>\n",
       "      <td>21382</td>\n",
       "      <td>44</td>\n",
       "      <td>services</td>\n",
       "      <td>single</td>\n",
       "      <td>secondary</td>\n",
       "      <td>no</td>\n",
       "      <td>cellular</td>\n",
       "      <td>12</td>\n",
       "      <td>may</td>\n",
       "      <td>193</td>\n",
       "      <td>1</td>\n",
       "      <td>-1</td>\n",
       "      <td>0</td>\n",
       "      <td>n/a</td>\n",
       "      <td>yes</td>\n",
       "      <td>d05</td>\n",
       "      <td>4X</td>\n",
       "      <td>nc</td>\n",
       "    </tr>\n",
       "    <tr>\n",
       "      <th>16162</th>\n",
       "      <td>21383</td>\n",
       "      <td>32</td>\n",
       "      <td>management</td>\n",
       "      <td>married</td>\n",
       "      <td>tertiary</td>\n",
       "      <td>no</td>\n",
       "      <td>cellular</td>\n",
       "      <td>4</td>\n",
       "      <td>may</td>\n",
       "      <td>77</td>\n",
       "      <td>2</td>\n",
       "      <td>-1</td>\n",
       "      <td>0</td>\n",
       "      <td>n/a</td>\n",
       "      <td>no</td>\n",
       "      <td>d02</td>\n",
       "      <td>3X</td>\n",
       "      <td>nc</td>\n",
       "    </tr>\n",
       "  </tbody>\n",
       "</table>\n",
       "<p>16163 rows × 18 columns</p>\n",
       "</div>"
      ],
      "text/plain": [
       "          id  age         job  marital  education default_credit   contact  \\\n",
       "0          1   59       admin  married  secondary             no   unknown   \n",
       "1          2   59       admin  married  secondary             no   unknown   \n",
       "2          3   56       admin  married  secondary             no   unknown   \n",
       "3          4   41  technician  married  secondary             no   unknown   \n",
       "4          5   55    services  married  secondary             no   unknown   \n",
       "...      ...  ...         ...      ...        ...            ...       ...   \n",
       "16158  21379   26       admin  married  secondary             no  cellular   \n",
       "16159  21380   37       admin  married  secondary             no  cellular   \n",
       "16160  21381   45  management  married   tertiary             no  cellular   \n",
       "16161  21382   44    services   single  secondary             no  cellular   \n",
       "16162  21383   32  management  married   tertiary             no  cellular   \n",
       "\n",
       "       contact_day contact_month  duration  campaign  pdays  previous  \\\n",
       "0                5           may      1042         1     -1         0   \n",
       "1                5           may      1042         1     -1         0   \n",
       "2                5           may      1467         1     -1         0   \n",
       "3                5           may      1389         1     -1         0   \n",
       "4                5           may       579         1     -1         0   \n",
       "...            ...           ...       ...       ...    ...       ...   \n",
       "16158           15           jun       155         1    105         1   \n",
       "16159           27           may       242         1    212         1   \n",
       "16160           30           jul        61         3     -1         0   \n",
       "16161           12           may       193         1     -1         0   \n",
       "16162            4           may        77         2     -1         0   \n",
       "\n",
       "      poutcome deposit duration_slot age_slot pdays_slot  \n",
       "0          n/a     yes        dmas10       5X         nc  \n",
       "1          n/a     yes        dmas10       5X         nc  \n",
       "2          n/a     yes        dmas10       5X         nc  \n",
       "3          n/a     yes        dmas10       4X         nc  \n",
       "4          n/a     yes           d10       5X         nc  \n",
       "...        ...     ...           ...      ...        ...  \n",
       "16158  failure     yes           d05       2X        m04  \n",
       "16159  success     yes           d05       3X        m08  \n",
       "16160      n/a      no           d02       4X         nc  \n",
       "16161      n/a     yes           d05       4X         nc  \n",
       "16162      n/a      no           d02       3X         nc  \n",
       "\n",
       "[16163 rows x 18 columns]"
      ]
     },
     "execution_count": 4,
     "metadata": {},
     "output_type": "execute_result"
    }
   ],
   "source": [
    "df"
   ]
  },
  {
   "cell_type": "code",
   "execution_count": 5,
   "metadata": {},
   "outputs": [
    {
     "name": "stdout",
     "output_type": "stream",
     "text": [
      "<class 'pandas.core.frame.DataFrame'>\n",
      "RangeIndex: 16163 entries, 0 to 16162\n",
      "Data columns (total 18 columns):\n",
      " #   Column          Non-Null Count  Dtype \n",
      "---  ------          --------------  ----- \n",
      " 0   id              16163 non-null  int64 \n",
      " 1   age             16163 non-null  int64 \n",
      " 2   job             16163 non-null  object\n",
      " 3   marital         16163 non-null  object\n",
      " 4   education       16163 non-null  object\n",
      " 5   default_credit  16163 non-null  object\n",
      " 6   contact         16163 non-null  object\n",
      " 7   contact_day     16163 non-null  int64 \n",
      " 8   contact_month   16163 non-null  object\n",
      " 9   duration        16163 non-null  int64 \n",
      " 10  campaign        16163 non-null  int64 \n",
      " 11  pdays           16163 non-null  int64 \n",
      " 12  previous        16163 non-null  int64 \n",
      " 13  poutcome        16163 non-null  object\n",
      " 14  deposit         16163 non-null  object\n",
      " 15  duration_slot   16163 non-null  object\n",
      " 16  age_slot        16163 non-null  object\n",
      " 17  pdays_slot      16163 non-null  object\n",
      "dtypes: int64(7), object(11)\n",
      "memory usage: 2.2+ MB\n"
     ]
    }
   ],
   "source": [
    "df.info()"
   ]
  },
  {
   "cell_type": "code",
   "execution_count": 6,
   "metadata": {},
   "outputs": [
    {
     "data": {
      "text/html": [
       "<div>\n",
       "<style scoped>\n",
       "    .dataframe tbody tr th:only-of-type {\n",
       "        vertical-align: middle;\n",
       "    }\n",
       "\n",
       "    .dataframe tbody tr th {\n",
       "        vertical-align: top;\n",
       "    }\n",
       "\n",
       "    .dataframe thead th {\n",
       "        text-align: right;\n",
       "    }\n",
       "</style>\n",
       "<table border=\"1\" class=\"dataframe\">\n",
       "  <thead>\n",
       "    <tr style=\"text-align: right;\">\n",
       "      <th></th>\n",
       "      <th>id</th>\n",
       "      <th>age</th>\n",
       "      <th>contact_day</th>\n",
       "      <th>duration</th>\n",
       "      <th>campaign</th>\n",
       "      <th>pdays</th>\n",
       "      <th>previous</th>\n",
       "    </tr>\n",
       "  </thead>\n",
       "  <tbody>\n",
       "    <tr>\n",
       "      <th>count</th>\n",
       "      <td>16163.000000</td>\n",
       "      <td>16163.000000</td>\n",
       "      <td>16163.000000</td>\n",
       "      <td>16163.000000</td>\n",
       "      <td>16163.000000</td>\n",
       "      <td>16163.000000</td>\n",
       "      <td>16163.000000</td>\n",
       "    </tr>\n",
       "    <tr>\n",
       "      <th>mean</th>\n",
       "      <td>9696.799233</td>\n",
       "      <td>41.265297</td>\n",
       "      <td>15.647157</td>\n",
       "      <td>372.542288</td>\n",
       "      <td>2.508816</td>\n",
       "      <td>51.326734</td>\n",
       "      <td>0.824909</td>\n",
       "    </tr>\n",
       "    <tr>\n",
       "      <th>std</th>\n",
       "      <td>6754.310906</td>\n",
       "      <td>11.961583</td>\n",
       "      <td>8.417469</td>\n",
       "      <td>345.261981</td>\n",
       "      <td>2.751196</td>\n",
       "      <td>109.031324</td>\n",
       "      <td>2.241574</td>\n",
       "    </tr>\n",
       "    <tr>\n",
       "      <th>min</th>\n",
       "      <td>1.000000</td>\n",
       "      <td>18.000000</td>\n",
       "      <td>1.000000</td>\n",
       "      <td>2.000000</td>\n",
       "      <td>1.000000</td>\n",
       "      <td>-1.000000</td>\n",
       "      <td>0.000000</td>\n",
       "    </tr>\n",
       "    <tr>\n",
       "      <th>25%</th>\n",
       "      <td>4041.500000</td>\n",
       "      <td>32.000000</td>\n",
       "      <td>8.000000</td>\n",
       "      <td>139.000000</td>\n",
       "      <td>1.000000</td>\n",
       "      <td>-1.000000</td>\n",
       "      <td>0.000000</td>\n",
       "    </tr>\n",
       "    <tr>\n",
       "      <th>50%</th>\n",
       "      <td>8082.000000</td>\n",
       "      <td>39.000000</td>\n",
       "      <td>15.000000</td>\n",
       "      <td>255.000000</td>\n",
       "      <td>2.000000</td>\n",
       "      <td>-1.000000</td>\n",
       "      <td>0.000000</td>\n",
       "    </tr>\n",
       "    <tr>\n",
       "      <th>75%</th>\n",
       "      <td>17342.500000</td>\n",
       "      <td>49.000000</td>\n",
       "      <td>22.000000</td>\n",
       "      <td>498.000000</td>\n",
       "      <td>3.000000</td>\n",
       "      <td>10.000000</td>\n",
       "      <td>1.000000</td>\n",
       "    </tr>\n",
       "    <tr>\n",
       "      <th>max</th>\n",
       "      <td>21383.000000</td>\n",
       "      <td>95.000000</td>\n",
       "      <td>31.000000</td>\n",
       "      <td>3881.000000</td>\n",
       "      <td>63.000000</td>\n",
       "      <td>854.000000</td>\n",
       "      <td>58.000000</td>\n",
       "    </tr>\n",
       "  </tbody>\n",
       "</table>\n",
       "</div>"
      ],
      "text/plain": [
       "                 id           age   contact_day      duration      campaign  \\\n",
       "count  16163.000000  16163.000000  16163.000000  16163.000000  16163.000000   \n",
       "mean    9696.799233     41.265297     15.647157    372.542288      2.508816   \n",
       "std     6754.310906     11.961583      8.417469    345.261981      2.751196   \n",
       "min        1.000000     18.000000      1.000000      2.000000      1.000000   \n",
       "25%     4041.500000     32.000000      8.000000    139.000000      1.000000   \n",
       "50%     8082.000000     39.000000     15.000000    255.000000      2.000000   \n",
       "75%    17342.500000     49.000000     22.000000    498.000000      3.000000   \n",
       "max    21383.000000     95.000000     31.000000   3881.000000     63.000000   \n",
       "\n",
       "              pdays      previous  \n",
       "count  16163.000000  16163.000000  \n",
       "mean      51.326734      0.824909  \n",
       "std      109.031324      2.241574  \n",
       "min       -1.000000      0.000000  \n",
       "25%       -1.000000      0.000000  \n",
       "50%       -1.000000      0.000000  \n",
       "75%       10.000000      1.000000  \n",
       "max      854.000000     58.000000  "
      ]
     },
     "execution_count": 6,
     "metadata": {},
     "output_type": "execute_result"
    }
   ],
   "source": [
    "df.describe()"
   ]
  },
  {
   "cell_type": "code",
   "execution_count": 7,
   "metadata": {},
   "outputs": [
    {
     "data": {
      "image/png": "[encoded data removed]",
      "text/plain": [
       "<Figure size 640x480 with 1 Axes>"
      ]
     },
     "metadata": {},
     "output_type": "display_data"
    }
   ],
   "source": [
    "plt.hist(df[\"contact\"],bins=20)\n",
    "plt.show()"
   ]
  },
  {
   "cell_type": "code",
   "execution_count": 51,
   "metadata": {},
   "outputs": [
    {
     "data": {
      "image/png": "[encoded data removed]",
      "text/plain": [
       "<Figure size 640x480 with 1 Axes>"
      ]
     },
     "metadata": {},
     "output_type": "display_data"
    }
   ],
   "source": [
    "plt.hist(df[\"age\"],bins=20)\n",
    "plt.show()"
   ]
  },
  {
   "cell_type": "code",
   "execution_count": 9,
   "metadata": {},
   "outputs": [
    {
     "data": {
      "image/png": "[encoded data removed]",
      "text/plain": [
       "<Figure size 640x480 with 1 Axes>"
      ]
     },
     "metadata": {},
     "output_type": "display_data"
    }
   ],
   "source": [
    "plt.hist(df[\"duration\"],bins=20)\n",
    "plt.xticks(rotation=35)\n",
    "plt.show()"
   ]
  },
  {
   "cell_type": "code",
   "execution_count": 10,
   "metadata": {},
   "outputs": [
    {
     "data": {
      "image/png": "[encoded data removed]",
      "text/plain": [
       "<Figure size 640x480 with 1 Axes>"
      ]
     },
     "metadata": {},
     "output_type": "display_data"
    }
   ],
   "source": [
    "plt.hist(df[\"previous\"],bins=30)\n",
    "plt.xticks(rotation=35)\n",
    "plt.show()"
   ]
  },
  {
   "cell_type": "code",
   "execution_count": 11,
   "metadata": {},
   "outputs": [
    {
     "data": {
      "image/png": "[encoded data removed]",
      "text/plain": [
       "<Figure size 640x480 with 1 Axes>"
      ]
     },
     "metadata": {},
     "output_type": "display_data"
    }
   ],
   "source": [
    "plt.hist(df[\"poutcome\"],bins=30)\n",
    "plt.xticks(rotation=35)\n",
    "plt.show()"
   ]
  },
  {
   "cell_type": "code",
   "execution_count": 12,
   "metadata": {},
   "outputs": [
    {
     "data": {
      "text/plain": [
       "<Axes: xlabel='contact', ylabel='Count'>"
      ]
     },
     "execution_count": 12,
     "metadata": {},
     "output_type": "execute_result"
    },
    {
     "data": {
      "image/png": "[encoded data removed]",
      "text/plain": [
       "<Figure size 640x480 with 1 Axes>"
      ]
     },
     "metadata": {},
     "output_type": "display_data"
    }
   ],
   "source": [
    "sns.histplot(data=df,x=\"contact\",hue=\"deposit\")"
   ]
  },
  {
   "cell_type": "code",
   "execution_count": 59,
   "metadata": {},
   "outputs": [
    {
     "data": {
      "image/png": "[encoded data removed]",
      "text/plain": [
       "<Figure size 640x480 with 1 Axes>"
      ]
     },
     "metadata": {},
     "output_type": "display_data"
    }
   ],
   "source": [
    "sns.countplot(data=df,x=\"contact\",hue=\"deposit\")\n",
    "\n",
    "plt.show()"
   ]
  },
  {
   "cell_type": "code",
   "execution_count": 14,
   "metadata": {},
   "outputs": [
    {
     "data": {
      "text/html": [
       "<div>\n",
       "<style scoped>\n",
       "    .dataframe tbody tr th:only-of-type {\n",
       "        vertical-align: middle;\n",
       "    }\n",
       "\n",
       "    .dataframe tbody tr th {\n",
       "        vertical-align: top;\n",
       "    }\n",
       "\n",
       "    .dataframe thead th {\n",
       "        text-align: right;\n",
       "    }\n",
       "</style>\n",
       "<table border=\"1\" class=\"dataframe\">\n",
       "  <thead>\n",
       "    <tr style=\"text-align: right;\">\n",
       "      <th></th>\n",
       "      <th>id</th>\n",
       "      <th>age</th>\n",
       "      <th>job</th>\n",
       "      <th>marital</th>\n",
       "      <th>education</th>\n",
       "      <th>default_credit</th>\n",
       "      <th>contact</th>\n",
       "      <th>contact_day</th>\n",
       "      <th>contact_month</th>\n",
       "      <th>duration</th>\n",
       "      <th>campaign</th>\n",
       "      <th>pdays</th>\n",
       "      <th>previous</th>\n",
       "      <th>poutcome</th>\n",
       "      <th>deposit</th>\n",
       "      <th>duration_slot</th>\n",
       "      <th>age_slot</th>\n",
       "      <th>pdays_slot</th>\n",
       "    </tr>\n",
       "  </thead>\n",
       "  <tbody>\n",
       "    <tr>\n",
       "      <th>0</th>\n",
       "      <td>1</td>\n",
       "      <td>59</td>\n",
       "      <td>admin</td>\n",
       "      <td>married</td>\n",
       "      <td>secondary</td>\n",
       "      <td>no</td>\n",
       "      <td>unknown</td>\n",
       "      <td>5</td>\n",
       "      <td>may</td>\n",
       "      <td>1042</td>\n",
       "      <td>1</td>\n",
       "      <td>-1</td>\n",
       "      <td>0</td>\n",
       "      <td>n/a</td>\n",
       "      <td>yes</td>\n",
       "      <td>dmas10</td>\n",
       "      <td>5X</td>\n",
       "      <td>nc</td>\n",
       "    </tr>\n",
       "    <tr>\n",
       "      <th>1</th>\n",
       "      <td>2</td>\n",
       "      <td>59</td>\n",
       "      <td>admin</td>\n",
       "      <td>married</td>\n",
       "      <td>secondary</td>\n",
       "      <td>no</td>\n",
       "      <td>unknown</td>\n",
       "      <td>5</td>\n",
       "      <td>may</td>\n",
       "      <td>1042</td>\n",
       "      <td>1</td>\n",
       "      <td>-1</td>\n",
       "      <td>0</td>\n",
       "      <td>n/a</td>\n",
       "      <td>yes</td>\n",
       "      <td>dmas10</td>\n",
       "      <td>5X</td>\n",
       "      <td>nc</td>\n",
       "    </tr>\n",
       "    <tr>\n",
       "      <th>2</th>\n",
       "      <td>3</td>\n",
       "      <td>56</td>\n",
       "      <td>admin</td>\n",
       "      <td>married</td>\n",
       "      <td>secondary</td>\n",
       "      <td>no</td>\n",
       "      <td>unknown</td>\n",
       "      <td>5</td>\n",
       "      <td>may</td>\n",
       "      <td>1467</td>\n",
       "      <td>1</td>\n",
       "      <td>-1</td>\n",
       "      <td>0</td>\n",
       "      <td>n/a</td>\n",
       "      <td>yes</td>\n",
       "      <td>dmas10</td>\n",
       "      <td>5X</td>\n",
       "      <td>nc</td>\n",
       "    </tr>\n",
       "    <tr>\n",
       "      <th>3</th>\n",
       "      <td>4</td>\n",
       "      <td>41</td>\n",
       "      <td>technician</td>\n",
       "      <td>married</td>\n",
       "      <td>secondary</td>\n",
       "      <td>no</td>\n",
       "      <td>unknown</td>\n",
       "      <td>5</td>\n",
       "      <td>may</td>\n",
       "      <td>1389</td>\n",
       "      <td>1</td>\n",
       "      <td>-1</td>\n",
       "      <td>0</td>\n",
       "      <td>n/a</td>\n",
       "      <td>yes</td>\n",
       "      <td>dmas10</td>\n",
       "      <td>4X</td>\n",
       "      <td>nc</td>\n",
       "    </tr>\n",
       "    <tr>\n",
       "      <th>4</th>\n",
       "      <td>5</td>\n",
       "      <td>55</td>\n",
       "      <td>services</td>\n",
       "      <td>married</td>\n",
       "      <td>secondary</td>\n",
       "      <td>no</td>\n",
       "      <td>unknown</td>\n",
       "      <td>5</td>\n",
       "      <td>may</td>\n",
       "      <td>579</td>\n",
       "      <td>1</td>\n",
       "      <td>-1</td>\n",
       "      <td>0</td>\n",
       "      <td>n/a</td>\n",
       "      <td>yes</td>\n",
       "      <td>d10</td>\n",
       "      <td>5X</td>\n",
       "      <td>nc</td>\n",
       "    </tr>\n",
       "  </tbody>\n",
       "</table>\n",
       "</div>"
      ],
      "text/plain": [
       "   id  age         job  marital  education default_credit  contact  \\\n",
       "0   1   59       admin  married  secondary             no  unknown   \n",
       "1   2   59       admin  married  secondary             no  unknown   \n",
       "2   3   56       admin  married  secondary             no  unknown   \n",
       "3   4   41  technician  married  secondary             no  unknown   \n",
       "4   5   55    services  married  secondary             no  unknown   \n",
       "\n",
       "   contact_day contact_month  duration  campaign  pdays  previous poutcome  \\\n",
       "0            5           may      1042         1     -1         0      n/a   \n",
       "1            5           may      1042         1     -1         0      n/a   \n",
       "2            5           may      1467         1     -1         0      n/a   \n",
       "3            5           may      1389         1     -1         0      n/a   \n",
       "4            5           may       579         1     -1         0      n/a   \n",
       "\n",
       "  deposit duration_slot age_slot pdays_slot  \n",
       "0     yes        dmas10       5X         nc  \n",
       "1     yes        dmas10       5X         nc  \n",
       "2     yes        dmas10       5X         nc  \n",
       "3     yes        dmas10       4X         nc  \n",
       "4     yes           d10       5X         nc  "
      ]
     },
     "execution_count": 14,
     "metadata": {},
     "output_type": "execute_result"
    }
   ],
   "source": [
    "dfmenos6calls=df[df[\"campaign\"]<6]\n",
    "dfmenos6calls.head()"
   ]
  },
  {
   "cell_type": "code",
   "execution_count": 15,
   "metadata": {},
   "outputs": [
    {
     "data": {
      "text/plain": [
       "<Axes: xlabel='campaign', ylabel='count'>"
      ]
     },
     "execution_count": 15,
     "metadata": {},
     "output_type": "execute_result"
    },
    {
     "data": {
      "image/png": "[encoded data removed]",
      "text/plain": [
       "<Figure size 640x480 with 1 Axes>"
      ]
     },
     "metadata": {},
     "output_type": "display_data"
    }
   ],
   "source": [
    "sns.countplot(data=dfmenos6calls,x=\"campaign\",hue=\"contact\")"
   ]
  },
  {
   "cell_type": "code",
   "execution_count": 16,
   "metadata": {},
   "outputs": [
    {
     "data": {
      "text/plain": [
       "8081    d02\n",
       "8007    d02\n",
       "8004    d02\n",
       "8002    d02\n",
       "8001    d02\n",
       "Name: duration_slot, dtype: object"
      ]
     },
     "execution_count": 16,
     "metadata": {},
     "output_type": "execute_result"
    }
   ],
   "source": [
    "dslot=df[\"duration_slot\"].sort_values()\n",
    "dslot.head()"
   ]
  },
  {
   "cell_type": "code",
   "execution_count": null,
   "metadata": {},
   "outputs": [],
   "source": []
  },
  {
   "cell_type": "code",
   "execution_count": 17,
   "metadata": {},
   "outputs": [
    {
     "data": {
      "text/plain": [
       "duration_slot\n",
       "d02       4422\n",
       "d05       4769\n",
       "d07       2427\n",
       "d10       1405\n",
       "dmas10    3140\n",
       "Name: id, dtype: int64"
      ]
     },
     "execution_count": 17,
     "metadata": {},
     "output_type": "execute_result"
    }
   ],
   "source": [
    "totalslot=df.groupby(\"duration_slot\")[\"id\"].count()\n",
    "totalslot"
   ]
  },
  {
   "cell_type": "code",
   "execution_count": 18,
   "metadata": {},
   "outputs": [
    {
     "data": {
      "text/plain": [
       "duration_slot  contact  \n",
       "d02            cellular     2908\n",
       "               telephone     355\n",
       "               unknown      1159\n",
       "d05            cellular     3521\n",
       "               telephone     339\n",
       "               unknown       909\n",
       "d07            cellular     1838\n",
       "               telephone     194\n",
       "               unknown       395\n",
       "d10            cellular     1071\n",
       "               telephone      86\n",
       "               unknown       248\n",
       "dmas10         cellular     2290\n",
       "               telephone     173\n",
       "               unknown       677\n",
       "Name: id, dtype: int64"
      ]
     },
     "execution_count": 18,
     "metadata": {},
     "output_type": "execute_result"
    }
   ],
   "source": [
    "totalslot=df.groupby([\"duration_slot\",\"contact\"])[\"id\"].count()\n",
    "totalslot"
   ]
  },
  {
   "cell_type": "code",
   "execution_count": 19,
   "metadata": {},
   "outputs": [
    {
     "data": {
      "text/html": [
       "<div>\n",
       "<style scoped>\n",
       "    .dataframe tbody tr th:only-of-type {\n",
       "        vertical-align: middle;\n",
       "    }\n",
       "\n",
       "    .dataframe tbody tr th {\n",
       "        vertical-align: top;\n",
       "    }\n",
       "\n",
       "    .dataframe thead th {\n",
       "        text-align: right;\n",
       "    }\n",
       "</style>\n",
       "<table border=\"1\" class=\"dataframe\">\n",
       "  <thead>\n",
       "    <tr style=\"text-align: right;\">\n",
       "      <th></th>\n",
       "      <th>duration_slot</th>\n",
       "      <th>contact</th>\n",
       "      <th>id</th>\n",
       "    </tr>\n",
       "  </thead>\n",
       "  <tbody>\n",
       "    <tr>\n",
       "      <th>0</th>\n",
       "      <td>d02</td>\n",
       "      <td>cellular</td>\n",
       "      <td>2908</td>\n",
       "    </tr>\n",
       "    <tr>\n",
       "      <th>1</th>\n",
       "      <td>d02</td>\n",
       "      <td>telephone</td>\n",
       "      <td>355</td>\n",
       "    </tr>\n",
       "    <tr>\n",
       "      <th>2</th>\n",
       "      <td>d02</td>\n",
       "      <td>unknown</td>\n",
       "      <td>1159</td>\n",
       "    </tr>\n",
       "    <tr>\n",
       "      <th>3</th>\n",
       "      <td>d05</td>\n",
       "      <td>cellular</td>\n",
       "      <td>3521</td>\n",
       "    </tr>\n",
       "    <tr>\n",
       "      <th>4</th>\n",
       "      <td>d05</td>\n",
       "      <td>telephone</td>\n",
       "      <td>339</td>\n",
       "    </tr>\n",
       "    <tr>\n",
       "      <th>5</th>\n",
       "      <td>d05</td>\n",
       "      <td>unknown</td>\n",
       "      <td>909</td>\n",
       "    </tr>\n",
       "    <tr>\n",
       "      <th>6</th>\n",
       "      <td>d07</td>\n",
       "      <td>cellular</td>\n",
       "      <td>1838</td>\n",
       "    </tr>\n",
       "    <tr>\n",
       "      <th>7</th>\n",
       "      <td>d07</td>\n",
       "      <td>telephone</td>\n",
       "      <td>194</td>\n",
       "    </tr>\n",
       "    <tr>\n",
       "      <th>8</th>\n",
       "      <td>d07</td>\n",
       "      <td>unknown</td>\n",
       "      <td>395</td>\n",
       "    </tr>\n",
       "    <tr>\n",
       "      <th>9</th>\n",
       "      <td>d10</td>\n",
       "      <td>cellular</td>\n",
       "      <td>1071</td>\n",
       "    </tr>\n",
       "    <tr>\n",
       "      <th>10</th>\n",
       "      <td>d10</td>\n",
       "      <td>telephone</td>\n",
       "      <td>86</td>\n",
       "    </tr>\n",
       "    <tr>\n",
       "      <th>11</th>\n",
       "      <td>d10</td>\n",
       "      <td>unknown</td>\n",
       "      <td>248</td>\n",
       "    </tr>\n",
       "    <tr>\n",
       "      <th>12</th>\n",
       "      <td>dmas10</td>\n",
       "      <td>cellular</td>\n",
       "      <td>2290</td>\n",
       "    </tr>\n",
       "    <tr>\n",
       "      <th>13</th>\n",
       "      <td>dmas10</td>\n",
       "      <td>telephone</td>\n",
       "      <td>173</td>\n",
       "    </tr>\n",
       "    <tr>\n",
       "      <th>14</th>\n",
       "      <td>dmas10</td>\n",
       "      <td>unknown</td>\n",
       "      <td>677</td>\n",
       "    </tr>\n",
       "  </tbody>\n",
       "</table>\n",
       "</div>"
      ],
      "text/plain": [
       "   duration_slot    contact    id\n",
       "0            d02   cellular  2908\n",
       "1            d02  telephone   355\n",
       "2            d02    unknown  1159\n",
       "3            d05   cellular  3521\n",
       "4            d05  telephone   339\n",
       "5            d05    unknown   909\n",
       "6            d07   cellular  1838\n",
       "7            d07  telephone   194\n",
       "8            d07    unknown   395\n",
       "9            d10   cellular  1071\n",
       "10           d10  telephone    86\n",
       "11           d10    unknown   248\n",
       "12        dmas10   cellular  2290\n",
       "13        dmas10  telephone   173\n",
       "14        dmas10    unknown   677"
      ]
     },
     "execution_count": 19,
     "metadata": {},
     "output_type": "execute_result"
    }
   ],
   "source": [
    "dfts=totalslot.reset_index()\n",
    "dfts"
   ]
  },
  {
   "cell_type": "code",
   "execution_count": 20,
   "metadata": {},
   "outputs": [
    {
     "data": {
      "image/png": "[encoded data removed]",
      "text/plain": [
       "<Figure size 640x480 with 1 Axes>"
      ]
     },
     "metadata": {},
     "output_type": "display_data"
    }
   ],
   "source": [
    "ax=sns.countplot(data=dfmenos6calls,x=\"duration_slot\",hue=\"contact\",order=dslot)\n",
    "ax.bar_label(ax.containers[0])\n",
    "ax.bar_label(ax.containers[1])\n",
    "ax.bar_label(ax.containers[2])\n",
    "plt.show()"
   ]
  },
  {
   "cell_type": "code",
   "execution_count": 21,
   "metadata": {},
   "outputs": [
    {
     "data": {
      "image/png": "[encoded data removed]",
      "text/plain": [
       "<Figure size 640x480 with 1 Axes>"
      ]
     },
     "metadata": {},
     "output_type": "display_data"
    }
   ],
   "source": [
    "ax=sns.countplot(data=dfmenos6calls,x=\"duration_slot\",hue=\"contact\",order=dslot)\n",
    "\n",
    "\n",
    "for c in ax.containers:\n",
    "    total=df['duration_slot'].count()\n",
    "    ax.bar_label(c, fmt=lambda x: f'{(x/total)*100:0.1f}%')\n",
    "plt.show()"
   ]
  },
  {
   "cell_type": "code",
   "execution_count": 22,
   "metadata": {},
   "outputs": [
    {
     "name": "stdout",
     "output_type": "stream",
     "text": [
      "deposit      no   yes\n",
      "contact              \n",
      "cellular   5319  6309\n",
      "telephone   569   578\n",
      "unknown    2616   772\n"
     ]
    }
   ],
   "source": [
    "cross_tab=pd.crosstab(index=df['contact'],columns=df['deposit'])\n",
    "print(cross_tab)\n"
   ]
  },
  {
   "cell_type": "code",
   "execution_count": 23,
   "metadata": {},
   "outputs": [
    {
     "data": {
      "text/plain": [
       "age_slot  contact  \n",
       "1X        cellular       29\n",
       "          telephone       2\n",
       "2X        cellular     1695\n",
       "          telephone     101\n",
       "          unknown       407\n",
       "3X        cellular     4698\n",
       "          telephone     233\n",
       "          unknown      1333\n",
       "4X        cellular     2607\n",
       "          telephone     235\n",
       "          unknown       955\n",
       "5X        cellular     1816\n",
       "          telephone     273\n",
       "          unknown       638\n",
       "6X        cellular      536\n",
       "          telephone     106\n",
       "          unknown        55\n",
       "7X        cellular      209\n",
       "          telephone     130\n",
       "8X        cellular       31\n",
       "          telephone      63\n",
       "9X        cellular        7\n",
       "          telephone       4\n",
       "Name: id, dtype: int64"
      ]
     },
     "execution_count": 23,
     "metadata": {},
     "output_type": "execute_result"
    }
   ],
   "source": [
    "totalslotage=df.groupby([\"age_slot\",\"contact\"])[\"id\"].count()\n",
    "totalslotage"
   ]
  },
  {
   "cell_type": "code",
   "execution_count": 24,
   "metadata": {},
   "outputs": [],
   "source": [
    "dageslot=df[\"age_slot\"].sort_values()"
   ]
  },
  {
   "cell_type": "code",
   "execution_count": 25,
   "metadata": {},
   "outputs": [
    {
     "data": {
      "image/png": "[encoded data removed]",
      "text/plain": [
       "<Figure size 640x480 with 1 Axes>"
      ]
     },
     "metadata": {},
     "output_type": "display_data"
    }
   ],
   "source": [
    "a=sns.countplot(data=df,x=\"age_slot\",hue=\"contact\",order=dageslot)\n",
    "a.set_xlabel(\"Edad\")\n",
    "a.set_ylabel(\"Llamadas\")\n",
    "a.axes.set_xticks(ticks=dageslot.unique(),labels=[\"18-19\",\"20-29\",\"30-39\",\"40-49\",\"50-59\",\"60-69\",\"70-79\",\"80-89\",\"90-99\"])\n",
    "plt.show()"
   ]
  },
  {
   "cell_type": "markdown",
   "metadata": {},
   "source": [
    "Entender de dónde vienen contactos  unknown"
   ]
  },
  {
   "cell_type": "code",
   "execution_count": 26,
   "metadata": {},
   "outputs": [
    {
     "data": {
      "text/html": [
       "<div>\n",
       "<style scoped>\n",
       "    .dataframe tbody tr th:only-of-type {\n",
       "        vertical-align: middle;\n",
       "    }\n",
       "\n",
       "    .dataframe tbody tr th {\n",
       "        vertical-align: top;\n",
       "    }\n",
       "\n",
       "    .dataframe thead th {\n",
       "        text-align: right;\n",
       "    }\n",
       "</style>\n",
       "<table border=\"1\" class=\"dataframe\">\n",
       "  <thead>\n",
       "    <tr style=\"text-align: right;\">\n",
       "      <th></th>\n",
       "      <th>id</th>\n",
       "      <th>age</th>\n",
       "      <th>job</th>\n",
       "      <th>marital</th>\n",
       "      <th>education</th>\n",
       "      <th>default_credit</th>\n",
       "      <th>contact</th>\n",
       "      <th>contact_day</th>\n",
       "      <th>contact_month</th>\n",
       "      <th>duration</th>\n",
       "      <th>campaign</th>\n",
       "      <th>pdays</th>\n",
       "      <th>previous</th>\n",
       "      <th>poutcome</th>\n",
       "      <th>deposit</th>\n",
       "      <th>duration_slot</th>\n",
       "      <th>age_slot</th>\n",
       "      <th>pdays_slot</th>\n",
       "    </tr>\n",
       "  </thead>\n",
       "  <tbody>\n",
       "    <tr>\n",
       "      <th>0</th>\n",
       "      <td>1</td>\n",
       "      <td>59</td>\n",
       "      <td>admin</td>\n",
       "      <td>married</td>\n",
       "      <td>secondary</td>\n",
       "      <td>no</td>\n",
       "      <td>unknown</td>\n",
       "      <td>5</td>\n",
       "      <td>may</td>\n",
       "      <td>1042</td>\n",
       "      <td>1</td>\n",
       "      <td>-1</td>\n",
       "      <td>0</td>\n",
       "      <td>n/a</td>\n",
       "      <td>yes</td>\n",
       "      <td>dmas10</td>\n",
       "      <td>5X</td>\n",
       "      <td>nc</td>\n",
       "    </tr>\n",
       "    <tr>\n",
       "      <th>1</th>\n",
       "      <td>2</td>\n",
       "      <td>59</td>\n",
       "      <td>admin</td>\n",
       "      <td>married</td>\n",
       "      <td>secondary</td>\n",
       "      <td>no</td>\n",
       "      <td>unknown</td>\n",
       "      <td>5</td>\n",
       "      <td>may</td>\n",
       "      <td>1042</td>\n",
       "      <td>1</td>\n",
       "      <td>-1</td>\n",
       "      <td>0</td>\n",
       "      <td>n/a</td>\n",
       "      <td>yes</td>\n",
       "      <td>dmas10</td>\n",
       "      <td>5X</td>\n",
       "      <td>nc</td>\n",
       "    </tr>\n",
       "    <tr>\n",
       "      <th>2</th>\n",
       "      <td>3</td>\n",
       "      <td>56</td>\n",
       "      <td>admin</td>\n",
       "      <td>married</td>\n",
       "      <td>secondary</td>\n",
       "      <td>no</td>\n",
       "      <td>unknown</td>\n",
       "      <td>5</td>\n",
       "      <td>may</td>\n",
       "      <td>1467</td>\n",
       "      <td>1</td>\n",
       "      <td>-1</td>\n",
       "      <td>0</td>\n",
       "      <td>n/a</td>\n",
       "      <td>yes</td>\n",
       "      <td>dmas10</td>\n",
       "      <td>5X</td>\n",
       "      <td>nc</td>\n",
       "    </tr>\n",
       "    <tr>\n",
       "      <th>3</th>\n",
       "      <td>4</td>\n",
       "      <td>41</td>\n",
       "      <td>technician</td>\n",
       "      <td>married</td>\n",
       "      <td>secondary</td>\n",
       "      <td>no</td>\n",
       "      <td>unknown</td>\n",
       "      <td>5</td>\n",
       "      <td>may</td>\n",
       "      <td>1389</td>\n",
       "      <td>1</td>\n",
       "      <td>-1</td>\n",
       "      <td>0</td>\n",
       "      <td>n/a</td>\n",
       "      <td>yes</td>\n",
       "      <td>dmas10</td>\n",
       "      <td>4X</td>\n",
       "      <td>nc</td>\n",
       "    </tr>\n",
       "    <tr>\n",
       "      <th>4</th>\n",
       "      <td>5</td>\n",
       "      <td>55</td>\n",
       "      <td>services</td>\n",
       "      <td>married</td>\n",
       "      <td>secondary</td>\n",
       "      <td>no</td>\n",
       "      <td>unknown</td>\n",
       "      <td>5</td>\n",
       "      <td>may</td>\n",
       "      <td>579</td>\n",
       "      <td>1</td>\n",
       "      <td>-1</td>\n",
       "      <td>0</td>\n",
       "      <td>n/a</td>\n",
       "      <td>yes</td>\n",
       "      <td>d10</td>\n",
       "      <td>5X</td>\n",
       "      <td>nc</td>\n",
       "    </tr>\n",
       "    <tr>\n",
       "      <th>...</th>\n",
       "      <td>...</td>\n",
       "      <td>...</td>\n",
       "      <td>...</td>\n",
       "      <td>...</td>\n",
       "      <td>...</td>\n",
       "      <td>...</td>\n",
       "      <td>...</td>\n",
       "      <td>...</td>\n",
       "      <td>...</td>\n",
       "      <td>...</td>\n",
       "      <td>...</td>\n",
       "      <td>...</td>\n",
       "      <td>...</td>\n",
       "      <td>...</td>\n",
       "      <td>...</td>\n",
       "      <td>...</td>\n",
       "      <td>...</td>\n",
       "      <td>...</td>\n",
       "    </tr>\n",
       "    <tr>\n",
       "      <th>16146</th>\n",
       "      <td>21367</td>\n",
       "      <td>50</td>\n",
       "      <td>blue-collar</td>\n",
       "      <td>married</td>\n",
       "      <td>primary</td>\n",
       "      <td>no</td>\n",
       "      <td>unknown</td>\n",
       "      <td>6</td>\n",
       "      <td>may</td>\n",
       "      <td>678</td>\n",
       "      <td>1</td>\n",
       "      <td>-1</td>\n",
       "      <td>0</td>\n",
       "      <td>n/a</td>\n",
       "      <td>no</td>\n",
       "      <td>dmas10</td>\n",
       "      <td>5X</td>\n",
       "      <td>nc</td>\n",
       "    </tr>\n",
       "    <tr>\n",
       "      <th>16147</th>\n",
       "      <td>21368</td>\n",
       "      <td>39</td>\n",
       "      <td>blue-collar</td>\n",
       "      <td>divorced</td>\n",
       "      <td>primary</td>\n",
       "      <td>yes</td>\n",
       "      <td>unknown</td>\n",
       "      <td>5</td>\n",
       "      <td>jun</td>\n",
       "      <td>181</td>\n",
       "      <td>2</td>\n",
       "      <td>-1</td>\n",
       "      <td>0</td>\n",
       "      <td>n/a</td>\n",
       "      <td>no</td>\n",
       "      <td>d05</td>\n",
       "      <td>3X</td>\n",
       "      <td>nc</td>\n",
       "    </tr>\n",
       "    <tr>\n",
       "      <th>16148</th>\n",
       "      <td>21369</td>\n",
       "      <td>36</td>\n",
       "      <td>blue-collar</td>\n",
       "      <td>married</td>\n",
       "      <td>primary</td>\n",
       "      <td>no</td>\n",
       "      <td>unknown</td>\n",
       "      <td>20</td>\n",
       "      <td>may</td>\n",
       "      <td>1063</td>\n",
       "      <td>2</td>\n",
       "      <td>-1</td>\n",
       "      <td>0</td>\n",
       "      <td>n/a</td>\n",
       "      <td>yes</td>\n",
       "      <td>dmas10</td>\n",
       "      <td>3X</td>\n",
       "      <td>nc</td>\n",
       "    </tr>\n",
       "    <tr>\n",
       "      <th>16152</th>\n",
       "      <td>21373</td>\n",
       "      <td>41</td>\n",
       "      <td>blue-collar</td>\n",
       "      <td>married</td>\n",
       "      <td>secondary</td>\n",
       "      <td>no</td>\n",
       "      <td>unknown</td>\n",
       "      <td>15</td>\n",
       "      <td>may</td>\n",
       "      <td>1162</td>\n",
       "      <td>4</td>\n",
       "      <td>-1</td>\n",
       "      <td>0</td>\n",
       "      <td>n/a</td>\n",
       "      <td>yes</td>\n",
       "      <td>dmas10</td>\n",
       "      <td>4X</td>\n",
       "      <td>nc</td>\n",
       "    </tr>\n",
       "    <tr>\n",
       "      <th>16156</th>\n",
       "      <td>21377</td>\n",
       "      <td>44</td>\n",
       "      <td>technician</td>\n",
       "      <td>divorced</td>\n",
       "      <td>secondary</td>\n",
       "      <td>no</td>\n",
       "      <td>unknown</td>\n",
       "      <td>26</td>\n",
       "      <td>may</td>\n",
       "      <td>788</td>\n",
       "      <td>11</td>\n",
       "      <td>-1</td>\n",
       "      <td>0</td>\n",
       "      <td>n/a</td>\n",
       "      <td>yes</td>\n",
       "      <td>dmas10</td>\n",
       "      <td>4X</td>\n",
       "      <td>nc</td>\n",
       "    </tr>\n",
       "  </tbody>\n",
       "</table>\n",
       "<p>3388 rows × 18 columns</p>\n",
       "</div>"
      ],
      "text/plain": [
       "          id  age          job   marital  education default_credit  contact  \\\n",
       "0          1   59        admin   married  secondary             no  unknown   \n",
       "1          2   59        admin   married  secondary             no  unknown   \n",
       "2          3   56        admin   married  secondary             no  unknown   \n",
       "3          4   41   technician   married  secondary             no  unknown   \n",
       "4          5   55     services   married  secondary             no  unknown   \n",
       "...      ...  ...          ...       ...        ...            ...      ...   \n",
       "16146  21367   50  blue-collar   married    primary             no  unknown   \n",
       "16147  21368   39  blue-collar  divorced    primary            yes  unknown   \n",
       "16148  21369   36  blue-collar   married    primary             no  unknown   \n",
       "16152  21373   41  blue-collar   married  secondary             no  unknown   \n",
       "16156  21377   44   technician  divorced  secondary             no  unknown   \n",
       "\n",
       "       contact_day contact_month  duration  campaign  pdays  previous  \\\n",
       "0                5           may      1042         1     -1         0   \n",
       "1                5           may      1042         1     -1         0   \n",
       "2                5           may      1467         1     -1         0   \n",
       "3                5           may      1389         1     -1         0   \n",
       "4                5           may       579         1     -1         0   \n",
       "...            ...           ...       ...       ...    ...       ...   \n",
       "16146            6           may       678         1     -1         0   \n",
       "16147            5           jun       181         2     -1         0   \n",
       "16148           20           may      1063         2     -1         0   \n",
       "16152           15           may      1162         4     -1         0   \n",
       "16156           26           may       788        11     -1         0   \n",
       "\n",
       "      poutcome deposit duration_slot age_slot pdays_slot  \n",
       "0          n/a     yes        dmas10       5X         nc  \n",
       "1          n/a     yes        dmas10       5X         nc  \n",
       "2          n/a     yes        dmas10       5X         nc  \n",
       "3          n/a     yes        dmas10       4X         nc  \n",
       "4          n/a     yes           d10       5X         nc  \n",
       "...        ...     ...           ...      ...        ...  \n",
       "16146      n/a      no        dmas10       5X         nc  \n",
       "16147      n/a      no           d05       3X         nc  \n",
       "16148      n/a     yes        dmas10       3X         nc  \n",
       "16152      n/a     yes        dmas10       4X         nc  \n",
       "16156      n/a     yes        dmas10       4X         nc  \n",
       "\n",
       "[3388 rows x 18 columns]"
      ]
     },
     "execution_count": 26,
     "metadata": {},
     "output_type": "execute_result"
    }
   ],
   "source": [
    "df_Contact_Unk=df[df[\"contact\"]==\"unknown\"]\n",
    "df_Contact_Unk"
   ]
  },
  {
   "cell_type": "code",
   "execution_count": 27,
   "metadata": {},
   "outputs": [
    {
     "data": {
      "text/plain": [
       "3388"
      ]
     },
     "execution_count": 27,
     "metadata": {},
     "output_type": "execute_result"
    }
   ],
   "source": [
    "df_Contact_Unk[\"id\"].count()"
   ]
  },
  {
   "cell_type": "code",
   "execution_count": 28,
   "metadata": {},
   "outputs": [
    {
     "data": {
      "text/html": [
       "<div>\n",
       "<style scoped>\n",
       "    .dataframe tbody tr th:only-of-type {\n",
       "        vertical-align: middle;\n",
       "    }\n",
       "\n",
       "    .dataframe tbody tr th {\n",
       "        vertical-align: top;\n",
       "    }\n",
       "\n",
       "    .dataframe thead th {\n",
       "        text-align: right;\n",
       "    }\n",
       "</style>\n",
       "<table border=\"1\" class=\"dataframe\">\n",
       "  <thead>\n",
       "    <tr style=\"text-align: right;\">\n",
       "      <th></th>\n",
       "      <th>id</th>\n",
       "      <th>age</th>\n",
       "      <th>contact_day</th>\n",
       "      <th>duration</th>\n",
       "      <th>campaign</th>\n",
       "      <th>pdays</th>\n",
       "      <th>previous</th>\n",
       "    </tr>\n",
       "  </thead>\n",
       "  <tbody>\n",
       "    <tr>\n",
       "      <th>count</th>\n",
       "      <td>3388.000000</td>\n",
       "      <td>3388.000000</td>\n",
       "      <td>3388.000000</td>\n",
       "      <td>3388.000000</td>\n",
       "      <td>3388.000000</td>\n",
       "      <td>3388.000000</td>\n",
       "      <td>3388.000000</td>\n",
       "    </tr>\n",
       "    <tr>\n",
       "      <th>mean</th>\n",
       "      <td>10428.408501</td>\n",
       "      <td>40.386068</td>\n",
       "      <td>15.713105</td>\n",
       "      <td>366.613341</td>\n",
       "      <td>2.767119</td>\n",
       "      <td>2.602715</td>\n",
       "      <td>0.033058</td>\n",
       "    </tr>\n",
       "    <tr>\n",
       "      <th>std</th>\n",
       "      <td>6342.276517</td>\n",
       "      <td>9.414934</td>\n",
       "      <td>8.378469</td>\n",
       "      <td>384.244706</td>\n",
       "      <td>3.553433</td>\n",
       "      <td>45.502383</td>\n",
       "      <td>0.757269</td>\n",
       "    </tr>\n",
       "    <tr>\n",
       "      <th>min</th>\n",
       "      <td>1.000000</td>\n",
       "      <td>20.000000</td>\n",
       "      <td>1.000000</td>\n",
       "      <td>3.000000</td>\n",
       "      <td>1.000000</td>\n",
       "      <td>-1.000000</td>\n",
       "      <td>0.000000</td>\n",
       "    </tr>\n",
       "    <tr>\n",
       "      <th>25%</th>\n",
       "      <td>6341.250000</td>\n",
       "      <td>33.000000</td>\n",
       "      <td>8.000000</td>\n",
       "      <td>115.000000</td>\n",
       "      <td>1.000000</td>\n",
       "      <td>-1.000000</td>\n",
       "      <td>0.000000</td>\n",
       "    </tr>\n",
       "    <tr>\n",
       "      <th>50%</th>\n",
       "      <td>9066.500000</td>\n",
       "      <td>39.000000</td>\n",
       "      <td>16.000000</td>\n",
       "      <td>226.000000</td>\n",
       "      <td>2.000000</td>\n",
       "      <td>-1.000000</td>\n",
       "      <td>0.000000</td>\n",
       "    </tr>\n",
       "    <tr>\n",
       "      <th>75%</th>\n",
       "      <td>17362.000000</td>\n",
       "      <td>47.000000</td>\n",
       "      <td>21.000000</td>\n",
       "      <td>496.500000</td>\n",
       "      <td>3.000000</td>\n",
       "      <td>-1.000000</td>\n",
       "      <td>0.000000</td>\n",
       "    </tr>\n",
       "    <tr>\n",
       "      <th>max</th>\n",
       "      <td>21377.000000</td>\n",
       "      <td>61.000000</td>\n",
       "      <td>31.000000</td>\n",
       "      <td>3881.000000</td>\n",
       "      <td>63.000000</td>\n",
       "      <td>782.000000</td>\n",
       "      <td>41.000000</td>\n",
       "    </tr>\n",
       "  </tbody>\n",
       "</table>\n",
       "</div>"
      ],
      "text/plain": [
       "                 id          age  contact_day     duration     campaign  \\\n",
       "count   3388.000000  3388.000000  3388.000000  3388.000000  3388.000000   \n",
       "mean   10428.408501    40.386068    15.713105   366.613341     2.767119   \n",
       "std     6342.276517     9.414934     8.378469   384.244706     3.553433   \n",
       "min        1.000000    20.000000     1.000000     3.000000     1.000000   \n",
       "25%     6341.250000    33.000000     8.000000   115.000000     1.000000   \n",
       "50%     9066.500000    39.000000    16.000000   226.000000     2.000000   \n",
       "75%    17362.000000    47.000000    21.000000   496.500000     3.000000   \n",
       "max    21377.000000    61.000000    31.000000  3881.000000    63.000000   \n",
       "\n",
       "             pdays     previous  \n",
       "count  3388.000000  3388.000000  \n",
       "mean      2.602715     0.033058  \n",
       "std      45.502383     0.757269  \n",
       "min      -1.000000     0.000000  \n",
       "25%      -1.000000     0.000000  \n",
       "50%      -1.000000     0.000000  \n",
       "75%      -1.000000     0.000000  \n",
       "max     782.000000    41.000000  "
      ]
     },
     "execution_count": 28,
     "metadata": {},
     "output_type": "execute_result"
    }
   ],
   "source": [
    "df_Contact_Unk.describe()"
   ]
  },
  {
   "cell_type": "code",
   "execution_count": 29,
   "metadata": {},
   "outputs": [
    {
     "data": {
      "text/plain": [
       "campaign\n",
       "1     1401\n",
       "2      890\n",
       "3      458\n",
       "4      222\n",
       "5      113\n",
       "6       60\n",
       "9       43\n",
       "7       41\n",
       "8       33\n",
       "10      23\n",
       "11      20\n",
       "12      14\n",
       "15      10\n",
       "18      10\n",
       "13       9\n",
       "14       6\n",
       "17       5\n",
       "26       4\n",
       "16       4\n",
       "23       3\n",
       "32       3\n",
       "20       2\n",
       "19       2\n",
       "29       2\n",
       "30       2\n",
       "41       2\n",
       "63       2\n",
       "21       1\n",
       "24       1\n",
       "25       1\n",
       "28       1\n",
       "Name: count, dtype: int64"
      ]
     },
     "execution_count": 29,
     "metadata": {},
     "output_type": "execute_result"
    }
   ],
   "source": [
    "df_Contact_Unk.value_counts(\"campaign\")"
   ]
  },
  {
   "cell_type": "code",
   "execution_count": 30,
   "metadata": {},
   "outputs": [
    {
     "data": {
      "text/plain": [
       "<Axes: xlabel='campaign', ylabel='count'>"
      ]
     },
     "execution_count": 30,
     "metadata": {},
     "output_type": "execute_result"
    },
    {
     "data": {
      "image/png": "[encoded data removed]",
      "text/plain": [
       "<Figure size 640x480 with 1 Axes>"
      ]
     },
     "metadata": {},
     "output_type": "display_data"
    }
   ],
   "source": [
    "sns.countplot(data=df_Contact_Unk,x=\"campaign\",hue=\"contact\")"
   ]
  },
  {
   "cell_type": "markdown",
   "metadata": {},
   "source": [
    "Podemos observar que la mayoría han tenido pocos contactos "
   ]
  },
  {
   "cell_type": "code",
   "execution_count": 31,
   "metadata": {},
   "outputs": [
    {
     "data": {
      "text/plain": [
       "poutcome\n",
       "n/a        3360\n",
       "failure      11\n",
       "other         9\n",
       "success       8\n",
       "Name: count, dtype: int64"
      ]
     },
     "execution_count": 31,
     "metadata": {},
     "output_type": "execute_result"
    }
   ],
   "source": [
    "df_Contact_Unk.value_counts(\"poutcome\")"
   ]
  },
  {
   "cell_type": "code",
   "execution_count": 32,
   "metadata": {},
   "outputs": [
    {
     "data": {
      "text/plain": [
       "pdays_slot\n",
       "nc       3360\n",
       "mas15      11\n",
       "m15         8\n",
       "m04         3\n",
       "m03         2\n",
       "m05         2\n",
       "m06         1\n",
       "m12         1\n",
       "Name: count, dtype: int64"
      ]
     },
     "execution_count": 32,
     "metadata": {},
     "output_type": "execute_result"
    }
   ],
   "source": [
    "df_Contact_Unk.value_counts(\"pdays_slot\")"
   ]
  },
  {
   "cell_type": "code",
   "execution_count": 33,
   "metadata": {},
   "outputs": [
    {
     "data": {
      "text/plain": [
       "previous\n",
       "0     3360\n",
       "2       10\n",
       "1        8\n",
       "4        4\n",
       "6        4\n",
       "3        1\n",
       "41       1\n",
       "Name: count, dtype: int64"
      ]
     },
     "execution_count": 33,
     "metadata": {},
     "output_type": "execute_result"
    }
   ],
   "source": [
    "df_Contact_Unk.value_counts(\"previous\")"
   ]
  },
  {
   "cell_type": "code",
   "execution_count": 34,
   "metadata": {},
   "outputs": [
    {
     "data": {
      "text/plain": [
       "<Axes: xlabel='previous', ylabel='count'>"
      ]
     },
     "execution_count": 34,
     "metadata": {},
     "output_type": "execute_result"
    },
    {
     "data": {
      "image/png": "[encoded data removed]",
      "text/plain": [
       "<Figure size 640x480 with 1 Axes>"
      ]
     },
     "metadata": {},
     "output_type": "display_data"
    }
   ],
   "source": [
    "sns.countplot(data=df_Contact_Unk,x=\"previous\",hue=\"contact\")"
   ]
  },
  {
   "cell_type": "markdown",
   "metadata": {},
   "source": [
    "Segun vemos en previous y pdays hay 3360 (99%) que sí habian sido contactados y 28 (1%) no contactados previamente, parece que hay una relación entre haber contactado anteriormente para otra campaña y tener este campo informado."
   ]
  },
  {
   "cell_type": "markdown",
   "metadata": {},
   "source": [
    "Estudiamos los registros de los que no habían sido contactados antes"
   ]
  },
  {
   "cell_type": "code",
   "execution_count": 35,
   "metadata": {},
   "outputs": [
    {
     "data": {
      "text/html": [
       "<div>\n",
       "<style scoped>\n",
       "    .dataframe tbody tr th:only-of-type {\n",
       "        vertical-align: middle;\n",
       "    }\n",
       "\n",
       "    .dataframe tbody tr th {\n",
       "        vertical-align: top;\n",
       "    }\n",
       "\n",
       "    .dataframe thead th {\n",
       "        text-align: right;\n",
       "    }\n",
       "</style>\n",
       "<table border=\"1\" class=\"dataframe\">\n",
       "  <thead>\n",
       "    <tr style=\"text-align: right;\">\n",
       "      <th></th>\n",
       "      <th>id</th>\n",
       "      <th>age</th>\n",
       "      <th>job</th>\n",
       "      <th>marital</th>\n",
       "      <th>education</th>\n",
       "      <th>default_credit</th>\n",
       "      <th>contact</th>\n",
       "      <th>contact_day</th>\n",
       "      <th>contact_month</th>\n",
       "      <th>duration</th>\n",
       "      <th>campaign</th>\n",
       "      <th>pdays</th>\n",
       "      <th>previous</th>\n",
       "      <th>poutcome</th>\n",
       "      <th>deposit</th>\n",
       "      <th>duration_slot</th>\n",
       "      <th>age_slot</th>\n",
       "      <th>pdays_slot</th>\n",
       "    </tr>\n",
       "  </thead>\n",
       "  <tbody>\n",
       "    <tr>\n",
       "      <th>0</th>\n",
       "      <td>1</td>\n",
       "      <td>59</td>\n",
       "      <td>admin</td>\n",
       "      <td>married</td>\n",
       "      <td>secondary</td>\n",
       "      <td>no</td>\n",
       "      <td>unknown</td>\n",
       "      <td>5</td>\n",
       "      <td>may</td>\n",
       "      <td>1042</td>\n",
       "      <td>1</td>\n",
       "      <td>-1</td>\n",
       "      <td>0</td>\n",
       "      <td>n/a</td>\n",
       "      <td>yes</td>\n",
       "      <td>dmas10</td>\n",
       "      <td>5X</td>\n",
       "      <td>nc</td>\n",
       "    </tr>\n",
       "    <tr>\n",
       "      <th>1</th>\n",
       "      <td>2</td>\n",
       "      <td>59</td>\n",
       "      <td>admin</td>\n",
       "      <td>married</td>\n",
       "      <td>secondary</td>\n",
       "      <td>no</td>\n",
       "      <td>unknown</td>\n",
       "      <td>5</td>\n",
       "      <td>may</td>\n",
       "      <td>1042</td>\n",
       "      <td>1</td>\n",
       "      <td>-1</td>\n",
       "      <td>0</td>\n",
       "      <td>n/a</td>\n",
       "      <td>yes</td>\n",
       "      <td>dmas10</td>\n",
       "      <td>5X</td>\n",
       "      <td>nc</td>\n",
       "    </tr>\n",
       "    <tr>\n",
       "      <th>2</th>\n",
       "      <td>3</td>\n",
       "      <td>56</td>\n",
       "      <td>admin</td>\n",
       "      <td>married</td>\n",
       "      <td>secondary</td>\n",
       "      <td>no</td>\n",
       "      <td>unknown</td>\n",
       "      <td>5</td>\n",
       "      <td>may</td>\n",
       "      <td>1467</td>\n",
       "      <td>1</td>\n",
       "      <td>-1</td>\n",
       "      <td>0</td>\n",
       "      <td>n/a</td>\n",
       "      <td>yes</td>\n",
       "      <td>dmas10</td>\n",
       "      <td>5X</td>\n",
       "      <td>nc</td>\n",
       "    </tr>\n",
       "    <tr>\n",
       "      <th>3</th>\n",
       "      <td>4</td>\n",
       "      <td>41</td>\n",
       "      <td>technician</td>\n",
       "      <td>married</td>\n",
       "      <td>secondary</td>\n",
       "      <td>no</td>\n",
       "      <td>unknown</td>\n",
       "      <td>5</td>\n",
       "      <td>may</td>\n",
       "      <td>1389</td>\n",
       "      <td>1</td>\n",
       "      <td>-1</td>\n",
       "      <td>0</td>\n",
       "      <td>n/a</td>\n",
       "      <td>yes</td>\n",
       "      <td>dmas10</td>\n",
       "      <td>4X</td>\n",
       "      <td>nc</td>\n",
       "    </tr>\n",
       "    <tr>\n",
       "      <th>4</th>\n",
       "      <td>5</td>\n",
       "      <td>55</td>\n",
       "      <td>services</td>\n",
       "      <td>married</td>\n",
       "      <td>secondary</td>\n",
       "      <td>no</td>\n",
       "      <td>unknown</td>\n",
       "      <td>5</td>\n",
       "      <td>may</td>\n",
       "      <td>579</td>\n",
       "      <td>1</td>\n",
       "      <td>-1</td>\n",
       "      <td>0</td>\n",
       "      <td>n/a</td>\n",
       "      <td>yes</td>\n",
       "      <td>d10</td>\n",
       "      <td>5X</td>\n",
       "      <td>nc</td>\n",
       "    </tr>\n",
       "  </tbody>\n",
       "</table>\n",
       "</div>"
      ],
      "text/plain": [
       "   id  age         job  marital  education default_credit  contact  \\\n",
       "0   1   59       admin  married  secondary             no  unknown   \n",
       "1   2   59       admin  married  secondary             no  unknown   \n",
       "2   3   56       admin  married  secondary             no  unknown   \n",
       "3   4   41  technician  married  secondary             no  unknown   \n",
       "4   5   55    services  married  secondary             no  unknown   \n",
       "\n",
       "   contact_day contact_month  duration  campaign  pdays  previous poutcome  \\\n",
       "0            5           may      1042         1     -1         0      n/a   \n",
       "1            5           may      1042         1     -1         0      n/a   \n",
       "2            5           may      1467         1     -1         0      n/a   \n",
       "3            5           may      1389         1     -1         0      n/a   \n",
       "4            5           may       579         1     -1         0      n/a   \n",
       "\n",
       "  deposit duration_slot age_slot pdays_slot  \n",
       "0     yes        dmas10       5X         nc  \n",
       "1     yes        dmas10       5X         nc  \n",
       "2     yes        dmas10       5X         nc  \n",
       "3     yes        dmas10       4X         nc  \n",
       "4     yes           d10       5X         nc  "
      ]
     },
     "execution_count": 35,
     "metadata": {},
     "output_type": "execute_result"
    }
   ],
   "source": [
    "df_nc=df[df[\"pdays_slot\"]==\"nc\"]\n",
    "df_nc.head()"
   ]
  },
  {
   "cell_type": "code",
   "execution_count": 36,
   "metadata": {},
   "outputs": [
    {
     "data": {
      "text/plain": [
       "12072"
      ]
     },
     "execution_count": 36,
     "metadata": {},
     "output_type": "execute_result"
    }
   ],
   "source": [
    "df_nc[\"id\"].count()"
   ]
  },
  {
   "cell_type": "code",
   "execution_count": 37,
   "metadata": {},
   "outputs": [
    {
     "data": {
      "text/plain": [
       "contact    pdays_slot\n",
       "cellular   nc            7869\n",
       "telephone  nc             843\n",
       "unknown    nc            3360\n",
       "Name: id, dtype: int64"
      ]
     },
     "execution_count": 37,
     "metadata": {},
     "output_type": "execute_result"
    }
   ],
   "source": [
    "df_nc.groupby([\"contact\",\"pdays_slot\"])[\"id\"].count()\n"
   ]
  },
  {
   "cell_type": "code",
   "execution_count": 38,
   "metadata": {},
   "outputs": [
    {
     "data": {
      "text/plain": [
       "<Axes: xlabel='pdays_slot', ylabel='count'>"
      ]
     },
     "execution_count": 38,
     "metadata": {},
     "output_type": "execute_result"
    },
    {
     "data": {
      "image/png": "[encoded data removed]",
      "text/plain": [
       "<Figure size 640x480 with 1 Axes>"
      ]
     },
     "metadata": {},
     "output_type": "display_data"
    }
   ],
   "source": [
    "sns.countplot(data=df_nc,x=\"pdays_slot\",hue=\"contact\")"
   ]
  },
  {
   "cell_type": "code",
   "execution_count": 39,
   "metadata": {},
   "outputs": [
    {
     "data": {
      "text/plain": [
       "<Axes: xlabel='previous', ylabel='count'>"
      ]
     },
     "execution_count": 39,
     "metadata": {},
     "output_type": "execute_result"
    },
    {
     "data": {
      "image/png": "[encoded data removed]",
      "text/plain": [
       "<Figure size 640x480 with 1 Axes>"
      ]
     },
     "metadata": {},
     "output_type": "display_data"
    }
   ],
   "source": [
    "sns.countplot(data=df_nc,x=\"previous\",hue=\"contact\")"
   ]
  },
  {
   "cell_type": "markdown",
   "metadata": {},
   "source": [
    "Vemos que en las llamadas a los que no habian sido contactados previamente (12072), hay 3360 no tienen la informacion de la forma de contacto (28%), por lo que se puede afirmar que la mayoria de los no contactados previamente (el 72%) se están registrando correctamente y no podemos afirmar que la causa de tener unknown en contanto se deba solamente a no haber tenido un contacto previo."
   ]
  },
  {
   "cell_type": "markdown",
   "metadata": {},
   "source": [
    "Exploramos  los que han sido informados previamente"
   ]
  },
  {
   "cell_type": "code",
   "execution_count": 40,
   "metadata": {},
   "outputs": [
    {
     "data": {
      "text/html": [
       "<div>\n",
       "<style scoped>\n",
       "    .dataframe tbody tr th:only-of-type {\n",
       "        vertical-align: middle;\n",
       "    }\n",
       "\n",
       "    .dataframe tbody tr th {\n",
       "        vertical-align: top;\n",
       "    }\n",
       "\n",
       "    .dataframe thead th {\n",
       "        text-align: right;\n",
       "    }\n",
       "</style>\n",
       "<table border=\"1\" class=\"dataframe\">\n",
       "  <thead>\n",
       "    <tr style=\"text-align: right;\">\n",
       "      <th></th>\n",
       "      <th>id</th>\n",
       "      <th>age</th>\n",
       "      <th>job</th>\n",
       "      <th>marital</th>\n",
       "      <th>education</th>\n",
       "      <th>default_credit</th>\n",
       "      <th>contact</th>\n",
       "      <th>contact_day</th>\n",
       "      <th>contact_month</th>\n",
       "      <th>duration</th>\n",
       "      <th>campaign</th>\n",
       "      <th>pdays</th>\n",
       "      <th>previous</th>\n",
       "      <th>poutcome</th>\n",
       "      <th>deposit</th>\n",
       "      <th>duration_slot</th>\n",
       "      <th>age_slot</th>\n",
       "      <th>pdays_slot</th>\n",
       "    </tr>\n",
       "  </thead>\n",
       "  <tbody>\n",
       "    <tr>\n",
       "      <th>891</th>\n",
       "      <td>892</td>\n",
       "      <td>42</td>\n",
       "      <td>admin</td>\n",
       "      <td>single</td>\n",
       "      <td>secondary</td>\n",
       "      <td>no</td>\n",
       "      <td>telephone</td>\n",
       "      <td>21</td>\n",
       "      <td>oct</td>\n",
       "      <td>519</td>\n",
       "      <td>1</td>\n",
       "      <td>166</td>\n",
       "      <td>1</td>\n",
       "      <td>other</td>\n",
       "      <td>yes</td>\n",
       "      <td>d10</td>\n",
       "      <td>4X</td>\n",
       "      <td>m06</td>\n",
       "    </tr>\n",
       "    <tr>\n",
       "      <th>892</th>\n",
       "      <td>893</td>\n",
       "      <td>33</td>\n",
       "      <td>services</td>\n",
       "      <td>married</td>\n",
       "      <td>secondary</td>\n",
       "      <td>no</td>\n",
       "      <td>telephone</td>\n",
       "      <td>21</td>\n",
       "      <td>oct</td>\n",
       "      <td>144</td>\n",
       "      <td>1</td>\n",
       "      <td>91</td>\n",
       "      <td>4</td>\n",
       "      <td>failure</td>\n",
       "      <td>yes</td>\n",
       "      <td>d02</td>\n",
       "      <td>3X</td>\n",
       "      <td>m04</td>\n",
       "    </tr>\n",
       "    <tr>\n",
       "      <th>900</th>\n",
       "      <td>901</td>\n",
       "      <td>56</td>\n",
       "      <td>technician</td>\n",
       "      <td>married</td>\n",
       "      <td>secondary</td>\n",
       "      <td>no</td>\n",
       "      <td>unknown</td>\n",
       "      <td>23</td>\n",
       "      <td>oct</td>\n",
       "      <td>518</td>\n",
       "      <td>1</td>\n",
       "      <td>147</td>\n",
       "      <td>2</td>\n",
       "      <td>success</td>\n",
       "      <td>yes</td>\n",
       "      <td>d10</td>\n",
       "      <td>5X</td>\n",
       "      <td>m05</td>\n",
       "    </tr>\n",
       "    <tr>\n",
       "      <th>934</th>\n",
       "      <td>935</td>\n",
       "      <td>34</td>\n",
       "      <td>admin</td>\n",
       "      <td>married</td>\n",
       "      <td>tertiary</td>\n",
       "      <td>no</td>\n",
       "      <td>unknown</td>\n",
       "      <td>12</td>\n",
       "      <td>nov</td>\n",
       "      <td>114</td>\n",
       "      <td>1</td>\n",
       "      <td>170</td>\n",
       "      <td>3</td>\n",
       "      <td>failure</td>\n",
       "      <td>yes</td>\n",
       "      <td>d02</td>\n",
       "      <td>3X</td>\n",
       "      <td>m06</td>\n",
       "    </tr>\n",
       "    <tr>\n",
       "      <th>952</th>\n",
       "      <td>953</td>\n",
       "      <td>53</td>\n",
       "      <td>retired</td>\n",
       "      <td>married</td>\n",
       "      <td>tertiary</td>\n",
       "      <td>no</td>\n",
       "      <td>cellular</td>\n",
       "      <td>17</td>\n",
       "      <td>nov</td>\n",
       "      <td>1091</td>\n",
       "      <td>2</td>\n",
       "      <td>150</td>\n",
       "      <td>1</td>\n",
       "      <td>success</td>\n",
       "      <td>yes</td>\n",
       "      <td>dmas10</td>\n",
       "      <td>5X</td>\n",
       "      <td>m06</td>\n",
       "    </tr>\n",
       "  </tbody>\n",
       "</table>\n",
       "</div>"
      ],
      "text/plain": [
       "      id  age         job  marital  education default_credit    contact  \\\n",
       "891  892   42       admin   single  secondary             no  telephone   \n",
       "892  893   33    services  married  secondary             no  telephone   \n",
       "900  901   56  technician  married  secondary             no    unknown   \n",
       "934  935   34       admin  married   tertiary             no    unknown   \n",
       "952  953   53     retired  married   tertiary             no   cellular   \n",
       "\n",
       "     contact_day contact_month  duration  campaign  pdays  previous poutcome  \\\n",
       "891           21           oct       519         1    166         1    other   \n",
       "892           21           oct       144         1     91         4  failure   \n",
       "900           23           oct       518         1    147         2  success   \n",
       "934           12           nov       114         1    170         3  failure   \n",
       "952           17           nov      1091         2    150         1  success   \n",
       "\n",
       "    deposit duration_slot age_slot pdays_slot  \n",
       "891     yes           d10       4X        m06  \n",
       "892     yes           d02       3X        m04  \n",
       "900     yes           d10       5X        m05  \n",
       "934     yes           d02       3X        m06  \n",
       "952     yes        dmas10       5X        m06  "
      ]
     },
     "execution_count": 40,
     "metadata": {},
     "output_type": "execute_result"
    }
   ],
   "source": [
    "df_no_nc=df[df[\"pdays_slot\"]!=\"nc\"]\n",
    "df_no_nc.head()"
   ]
  },
  {
   "cell_type": "code",
   "execution_count": 41,
   "metadata": {},
   "outputs": [
    {
     "data": {
      "text/plain": [
       "4091"
      ]
     },
     "execution_count": 41,
     "metadata": {},
     "output_type": "execute_result"
    }
   ],
   "source": [
    "df_no_nc[\"id\"].count()"
   ]
  },
  {
   "cell_type": "code",
   "execution_count": 42,
   "metadata": {},
   "outputs": [
    {
     "data": {
      "text/plain": [
       "contact\n",
       "cellular     3759\n",
       "telephone     304\n",
       "unknown        28\n",
       "Name: id, dtype: int64"
      ]
     },
     "execution_count": 42,
     "metadata": {},
     "output_type": "execute_result"
    }
   ],
   "source": [
    "df_no_nc.groupby([\"contact\"])[\"id\"].count()"
   ]
  },
  {
   "cell_type": "code",
   "execution_count": 43,
   "metadata": {},
   "outputs": [
    {
     "data": {
      "text/plain": [
       "<Axes: xlabel='pdays_slot', ylabel='count'>"
      ]
     },
     "execution_count": 43,
     "metadata": {},
     "output_type": "execute_result"
    },
    {
     "data": {
      "image/png": "[encoded data removed]",
      "text/plain": [
       "<Figure size 640x480 with 1 Axes>"
      ]
     },
     "metadata": {},
     "output_type": "display_data"
    }
   ],
   "source": [
    "sns.countplot(data=df_no_nc,x=\"pdays_slot\",hue=\"contact\",order=df_no_nc[\"pdays_slot\"].sort_values())"
   ]
  },
  {
   "cell_type": "code",
   "execution_count": 44,
   "metadata": {},
   "outputs": [
    {
     "data": {
      "text/plain": [
       "<Axes: xlabel='previous', ylabel='count'>"
      ]
     },
     "execution_count": 44,
     "metadata": {},
     "output_type": "execute_result"
    },
    {
     "data": {
      "image/png": "[encoded data removed]",
      "text/plain": [
       "<Figure size 640x480 with 1 Axes>"
      ]
     },
     "metadata": {},
     "output_type": "display_data"
    }
   ],
   "source": [
    "sns.countplot(data=df_no_nc,x=\"previous\",hue=\"contact\")"
   ]
  },
  {
   "cell_type": "markdown",
   "metadata": {},
   "source": [
    "Continuamos explorando los que tienen contacto unknown para ver si vemos algo más"
   ]
  },
  {
   "cell_type": "code",
   "execution_count": 45,
   "metadata": {},
   "outputs": [
    {
     "data": {
      "text/plain": [
       "deposit\n",
       "no     2616\n",
       "yes     772\n",
       "Name: count, dtype: int64"
      ]
     },
     "execution_count": 45,
     "metadata": {},
     "output_type": "execute_result"
    }
   ],
   "source": [
    "df_Contact_Unk.value_counts(\"deposit\")"
   ]
  },
  {
   "cell_type": "code",
   "execution_count": 46,
   "metadata": {},
   "outputs": [
    {
     "data": {
      "text/plain": [
       "duration_slot\n",
       "d02       1159\n",
       "d05        909\n",
       "d07        395\n",
       "d10        248\n",
       "dmas10     677\n",
       "Name: count, dtype: int64"
      ]
     },
     "execution_count": 46,
     "metadata": {},
     "output_type": "execute_result"
    }
   ],
   "source": [
    "df_Contact_Unk.value_counts(\"duration_slot\").sort_index()"
   ]
  },
  {
   "cell_type": "code",
   "execution_count": 47,
   "metadata": {},
   "outputs": [
    {
     "data": {
      "text/plain": [
       "age_slot\n",
       "2X     407\n",
       "3X    1333\n",
       "4X     955\n",
       "5X     638\n",
       "6X      55\n",
       "Name: count, dtype: int64"
      ]
     },
     "execution_count": 47,
     "metadata": {},
     "output_type": "execute_result"
    }
   ],
   "source": [
    "df_Contact_Unk.value_counts(\"age_slot\").sort_index()"
   ]
  },
  {
   "cell_type": "code",
   "execution_count": 48,
   "metadata": {},
   "outputs": [
    {
     "data": {
      "text/plain": [
       "education\n",
       "primary       662\n",
       "secondary    1840\n",
       "tertiary      749\n",
       "unknown       137\n",
       "Name: count, dtype: int64"
      ]
     },
     "execution_count": 48,
     "metadata": {},
     "output_type": "execute_result"
    }
   ],
   "source": [
    "df_Contact_Unk.value_counts(\"education\").sort_index()"
   ]
  }
 ],
 "metadata": {
  "kernelspec": {
   "display_name": "Python 3",
   "language": "python",
   "name": "python3"
  },
  "language_info": {
   "codemirror_mode": {
    "name": "ipython",
    "version": 3
   },
   "file_extension": ".py",
   "mimetype": "text/x-python",
   "name": "python",
   "nbconvert_exporter": "python",
   "pygments_lexer": "ipython3",
   "version": "3.12.3"
  }
 },
 "nbformat": 4,
 "nbformat_minor": 2
}
