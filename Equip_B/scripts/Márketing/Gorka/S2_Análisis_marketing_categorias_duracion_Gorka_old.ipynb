{
 "cells": [
  {
   "cell_type": "markdown",
   "metadata": {},
   "source": [
    "# SPRINT 2.  MARKETING"
   ]
  },
  {
   "cell_type": "markdown",
   "metadata": {},
   "source": [
    "## 1. IMPORTACIÓN BBDD I CREACIÓN DEL DF"
   ]
  },
  {
   "cell_type": "code",
   "execution_count": 1,
   "metadata": {},
   "outputs": [
    {
     "name": "stdout",
     "output_type": "stream",
     "text": [
      "conexió correcta\n",
      "Taula 'BANK_marketing' carregada correctament.\n",
      "Taula 'BANK_marketing131024' carregada correctament.\n"
     ]
    }
   ],
   "source": [
    "from sqlalchemy import create_engine, inspect\n",
    "import pandas as pd\n",
    "import numpy as np\n",
    "import matplotlib.pyplot as plt\n",
    "import seaborn as sns\n",
    "from datetime import date, time, datetime\n",
    "\n",
    "#Dades de connexió\n",
    "\n",
    "usuario='EquipoB'\n",
    "\n",
    "contraseña=\"E1q2u3i4p5oB\"\n",
    "host='212.227.90.6'\n",
    "puerto=3306\n",
    "nombre_base_datos='EquipB'\n",
    "\n",
    "#Crear la URL de la connexió\n",
    "url_conexion=f\"mysql+pymysql://{usuario}:{contraseña}@{host}:{puerto}/{nombre_base_datos}\"\n",
    "\n",
    "try:\n",
    "    #Crear el engine de SQLAlchemy\n",
    "    engine=create_engine(url_conexion)\n",
    "    cnx=engine.connect()\n",
    "\n",
    "    print(\"conexió correcta\")\n",
    "    #cnx.close()\n",
    "except Exception as e:\n",
    "    print(f\"Error al conectar con SQLAlchemy: {e}\")\n",
    "    \n",
    "#Recordar que inspect del codi anterior quan creo la connexió amb sqlalchemy\n",
    "#from sqlalchemy import create_engine, inspect\n",
    "inspector=inspect(engine)\n",
    "nombre_tablas=inspector.get_table_names()\n",
    "\n",
    "# Diccionario para almacenar los DataFrames\n",
    "df= {}\n",
    "\n",
    "for taula in nombre_tablas:\n",
    "    query=f\"select * from {taula}\"\n",
    "    \n",
    "    try:\n",
    "        df[taula] = pd.read_sql(query, cnx)\n",
    "        print(f\"Taula '{taula}' carregada correctament.\")\n",
    "    except Exception as e:\n",
    "        print(f\"Error al carregar la taula '{taula}':{e}\")\n",
    "cnx.close()"
   ]
  },
  {
   "cell_type": "code",
   "execution_count": 2,
   "metadata": {},
   "outputs": [],
   "source": [
    "def ordenar_categoria_duration(valor):\n",
    "     \n",
    "     orden=0\n",
    "     match valor:\n",
    "         \n",
    "        case \"muy bajo\":\n",
    "            orden=1\n",
    "        case \"bajo\":\n",
    "            orden=2\n",
    "        case \"medio-bajo\":\n",
    "            orden=3\n",
    "        case \"medio-alto\":\n",
    "            orden=4\n",
    "        case \"alto\":\n",
    "            orden=5\n",
    "        case \"muy-alto\":\n",
    "            orden=6\n",
    "        case \"extremo-muy-alto\":\n",
    "            orden=7\n",
    "        case _:\n",
    "            orden=-1\n",
    "     return orden\n",
    "   "
   ]
  },
  {
   "cell_type": "code",
   "execution_count": 3,
   "metadata": {},
   "outputs": [],
   "source": [
    "def cuartiles(df):\n",
    "    #calcular cuartiles\n",
    "    Q1 = df.quantile(0.25)\n",
    "    Q2 = df.quantile(0.50)\n",
    "    Q3 = df.quantile(0.75)\n",
    "\n",
    "    #calcular IQR (rango intercuartílico)\n",
    "    IQR = Q3 - Q1\n",
    "\n",
    "    #calcular límite outliers\n",
    "    min_Q = Q1 - 1.5*IQR\n",
    "    max_Q = Q3 + 1.5*IQR\n",
    "\n",
    "    min_Q_ext=Q1 - 3*IQR\n",
    "    max_Q_ext=Q3 + 3*IQR\n",
    "    \n",
    "    return Q1, Q2, Q3, min_Q, max_Q, min_Q_ext,max_Q_ext\n",
    "\n",
    "def clasificacion_duration(valor):\n",
    "    \n",
    "    if  valor < min_Q_ext:\n",
    "        return \"extremo-muy-bajo\"\n",
    "    elif valor < min_Q:\n",
    "        return \"muy bajo\"\n",
    "    elif valor < Q1:\n",
    "        return \"bajo\"\n",
    "    elif valor < Q2:\n",
    "        return \"medio-bajo\"\n",
    "    elif valor < Q3:\n",
    "        return \"medio-alto\"\n",
    "    elif valor < max_Q:\n",
    "        return \"alto\"\n",
    "    elif valor < max_Q_ext:\n",
    "        return \"muy-alto\"\n",
    "    else:\n",
    "        return \"extremo-muy-alto\""
   ]
  },
  {
   "cell_type": "markdown",
   "metadata": {},
   "source": [
    "## 1.1 Parametros globales de visualización matplotlib seaborn"
   ]
  },
  {
   "cell_type": "code",
   "execution_count": 4,
   "metadata": {},
   "outputs": [],
   "source": [
    "plt.style.use(\"seaborn-v0_8-deep\")\n",
    "\n",
    "# Configuración de parámetros globales para Matplotlib\n",
    "plt.rcParams.update({\n",
    "    'font.size': 12,\n",
    "    'axes.titlesize': 14,\n",
    "    'axes.labelsize': 12,\n",
    "    'legend.fontsize': 10,\n",
    "    'xtick.labelsize': 10,\n",
    "    'ytick.labelsize': 10,\n",
    "    'xtick.major.size': 5,\n",
    "    'ytick.major.size': 5,\n",
    "    'xtick.direction': 'out',\n",
    "    'ytick.direction': 'out',\n",
    "    'figure.figsize': (12, 6),\n",
    "    'figure.dpi': 100,\n",
    "    'legend.loc': 'upper right'\n",
    "})\n",
    "\n",
    "# Configuración de estilo y contexto de Seaborn\n",
    "#sns.set(style=\"whitegrid\")  # Estilo del gráfico\n",
    "sns.set_context(\"notebook\", font_scale=1.2, rc={\n",
    "    \"axes.labelsize\": 12,\n",
    "    \"axes.titlesize\": 13,\n",
    "    \"xtick.labelsize\": 10,\n",
    "    \"ytick.labelsize\": 10,\n",
    "    \"legend.fontsize\": 10,\n",
    "    \"legend.title_fontsize\": 12 \n",
    "})\n"
   ]
  },
  {
   "cell_type": "code",
   "execution_count": 5,
   "metadata": {},
   "outputs": [],
   "source": [
    "df_BANK_marketing=df['BANK_marketing131024']"
   ]
  },
  {
   "cell_type": "code",
   "execution_count": 6,
   "metadata": {},
   "outputs": [
    {
     "data": {
      "text/html": [
       "<div>\n",
       "<style scoped>\n",
       "    .dataframe tbody tr th:only-of-type {\n",
       "        vertical-align: middle;\n",
       "    }\n",
       "\n",
       "    .dataframe tbody tr th {\n",
       "        vertical-align: top;\n",
       "    }\n",
       "\n",
       "    .dataframe thead th {\n",
       "        text-align: right;\n",
       "    }\n",
       "</style>\n",
       "<table border=\"1\" class=\"dataframe\">\n",
       "  <thead>\n",
       "    <tr style=\"text-align: right;\">\n",
       "      <th></th>\n",
       "      <th>id</th>\n",
       "      <th>age</th>\n",
       "      <th>job</th>\n",
       "      <th>marital</th>\n",
       "      <th>education</th>\n",
       "      <th>default</th>\n",
       "      <th>balance</th>\n",
       "      <th>housing</th>\n",
       "      <th>loan</th>\n",
       "      <th>contact</th>\n",
       "      <th>day</th>\n",
       "      <th>month</th>\n",
       "      <th>duration</th>\n",
       "      <th>campaign</th>\n",
       "      <th>pdays</th>\n",
       "      <th>previous</th>\n",
       "      <th>poutcome</th>\n",
       "      <th>deposit</th>\n",
       "    </tr>\n",
       "  </thead>\n",
       "  <tbody>\n",
       "    <tr>\n",
       "      <th>0</th>\n",
       "      <td>1</td>\n",
       "      <td>59</td>\n",
       "      <td>admin.</td>\n",
       "      <td>married</td>\n",
       "      <td>secondary</td>\n",
       "      <td>0</td>\n",
       "      <td>2343</td>\n",
       "      <td>1</td>\n",
       "      <td>0</td>\n",
       "      <td>unknown</td>\n",
       "      <td>5</td>\n",
       "      <td>may</td>\n",
       "      <td>1042</td>\n",
       "      <td>1</td>\n",
       "      <td>-1</td>\n",
       "      <td>0</td>\n",
       "      <td>unknown</td>\n",
       "      <td>1</td>\n",
       "    </tr>\n",
       "    <tr>\n",
       "      <th>1</th>\n",
       "      <td>2</td>\n",
       "      <td>59</td>\n",
       "      <td>admin.</td>\n",
       "      <td>married</td>\n",
       "      <td>secondary</td>\n",
       "      <td>0</td>\n",
       "      <td>2343</td>\n",
       "      <td>1</td>\n",
       "      <td>0</td>\n",
       "      <td>unknown</td>\n",
       "      <td>5</td>\n",
       "      <td>may</td>\n",
       "      <td>1042</td>\n",
       "      <td>1</td>\n",
       "      <td>-1</td>\n",
       "      <td>0</td>\n",
       "      <td>unknown</td>\n",
       "      <td>1</td>\n",
       "    </tr>\n",
       "    <tr>\n",
       "      <th>2</th>\n",
       "      <td>3</td>\n",
       "      <td>56</td>\n",
       "      <td>admin.</td>\n",
       "      <td>married</td>\n",
       "      <td>secondary</td>\n",
       "      <td>0</td>\n",
       "      <td>45</td>\n",
       "      <td>0</td>\n",
       "      <td>0</td>\n",
       "      <td>unknown</td>\n",
       "      <td>5</td>\n",
       "      <td>may</td>\n",
       "      <td>1467</td>\n",
       "      <td>1</td>\n",
       "      <td>-1</td>\n",
       "      <td>0</td>\n",
       "      <td>unknown</td>\n",
       "      <td>1</td>\n",
       "    </tr>\n",
       "    <tr>\n",
       "      <th>3</th>\n",
       "      <td>4</td>\n",
       "      <td>41</td>\n",
       "      <td>technician</td>\n",
       "      <td>married</td>\n",
       "      <td>secondary</td>\n",
       "      <td>0</td>\n",
       "      <td>1270</td>\n",
       "      <td>1</td>\n",
       "      <td>0</td>\n",
       "      <td>unknown</td>\n",
       "      <td>5</td>\n",
       "      <td>may</td>\n",
       "      <td>1389</td>\n",
       "      <td>1</td>\n",
       "      <td>-1</td>\n",
       "      <td>0</td>\n",
       "      <td>unknown</td>\n",
       "      <td>1</td>\n",
       "    </tr>\n",
       "    <tr>\n",
       "      <th>4</th>\n",
       "      <td>5</td>\n",
       "      <td>55</td>\n",
       "      <td>services</td>\n",
       "      <td>married</td>\n",
       "      <td>secondary</td>\n",
       "      <td>0</td>\n",
       "      <td>2476</td>\n",
       "      <td>1</td>\n",
       "      <td>0</td>\n",
       "      <td>unknown</td>\n",
       "      <td>5</td>\n",
       "      <td>may</td>\n",
       "      <td>579</td>\n",
       "      <td>1</td>\n",
       "      <td>-1</td>\n",
       "      <td>0</td>\n",
       "      <td>unknown</td>\n",
       "      <td>1</td>\n",
       "    </tr>\n",
       "  </tbody>\n",
       "</table>\n",
       "</div>"
      ],
      "text/plain": [
       "   id  age         job  marital  education  default  balance  housing  loan  \\\n",
       "0   1   59      admin.  married  secondary        0     2343        1     0   \n",
       "1   2   59      admin.  married  secondary        0     2343        1     0   \n",
       "2   3   56      admin.  married  secondary        0       45        0     0   \n",
       "3   4   41  technician  married  secondary        0     1270        1     0   \n",
       "4   5   55    services  married  secondary        0     2476        1     0   \n",
       "\n",
       "   contact  day month  duration  campaign  pdays  previous poutcome  deposit  \n",
       "0  unknown    5   may      1042         1     -1         0  unknown        1  \n",
       "1  unknown    5   may      1042         1     -1         0  unknown        1  \n",
       "2  unknown    5   may      1467         1     -1         0  unknown        1  \n",
       "3  unknown    5   may      1389         1     -1         0  unknown        1  \n",
       "4  unknown    5   may       579         1     -1         0  unknown        1  "
      ]
     },
     "execution_count": 6,
     "metadata": {},
     "output_type": "execute_result"
    }
   ],
   "source": [
    "df_BANK_marketing.head()\n"
   ]
  },
  {
   "cell_type": "code",
   "execution_count": 7,
   "metadata": {},
   "outputs": [
    {
     "data": {
      "text/html": [
       "<div>\n",
       "<style scoped>\n",
       "    .dataframe tbody tr th:only-of-type {\n",
       "        vertical-align: middle;\n",
       "    }\n",
       "\n",
       "    .dataframe tbody tr th {\n",
       "        vertical-align: top;\n",
       "    }\n",
       "\n",
       "    .dataframe thead th {\n",
       "        text-align: right;\n",
       "    }\n",
       "</style>\n",
       "<table border=\"1\" class=\"dataframe\">\n",
       "  <thead>\n",
       "    <tr style=\"text-align: right;\">\n",
       "      <th></th>\n",
       "      <th>id</th>\n",
       "      <th>age</th>\n",
       "      <th>job</th>\n",
       "      <th>marital</th>\n",
       "      <th>education</th>\n",
       "      <th>default</th>\n",
       "      <th>balance</th>\n",
       "      <th>housing</th>\n",
       "      <th>loan</th>\n",
       "      <th>contact</th>\n",
       "      <th>day</th>\n",
       "      <th>month</th>\n",
       "      <th>duration</th>\n",
       "      <th>campaign</th>\n",
       "      <th>pdays</th>\n",
       "      <th>previous</th>\n",
       "      <th>poutcome</th>\n",
       "      <th>deposit</th>\n",
       "    </tr>\n",
       "  </thead>\n",
       "  <tbody>\n",
       "    <tr>\n",
       "      <th>0</th>\n",
       "      <td>1</td>\n",
       "      <td>59</td>\n",
       "      <td>admin.</td>\n",
       "      <td>married</td>\n",
       "      <td>secondary</td>\n",
       "      <td>0</td>\n",
       "      <td>2343</td>\n",
       "      <td>1</td>\n",
       "      <td>0</td>\n",
       "      <td>unknown</td>\n",
       "      <td>5</td>\n",
       "      <td>may</td>\n",
       "      <td>1042</td>\n",
       "      <td>1</td>\n",
       "      <td>-1</td>\n",
       "      <td>0</td>\n",
       "      <td>unknown</td>\n",
       "      <td>1</td>\n",
       "    </tr>\n",
       "    <tr>\n",
       "      <th>1</th>\n",
       "      <td>2</td>\n",
       "      <td>59</td>\n",
       "      <td>admin.</td>\n",
       "      <td>married</td>\n",
       "      <td>secondary</td>\n",
       "      <td>0</td>\n",
       "      <td>2343</td>\n",
       "      <td>1</td>\n",
       "      <td>0</td>\n",
       "      <td>unknown</td>\n",
       "      <td>5</td>\n",
       "      <td>may</td>\n",
       "      <td>1042</td>\n",
       "      <td>1</td>\n",
       "      <td>-1</td>\n",
       "      <td>0</td>\n",
       "      <td>unknown</td>\n",
       "      <td>1</td>\n",
       "    </tr>\n",
       "    <tr>\n",
       "      <th>2</th>\n",
       "      <td>3</td>\n",
       "      <td>56</td>\n",
       "      <td>admin.</td>\n",
       "      <td>married</td>\n",
       "      <td>secondary</td>\n",
       "      <td>0</td>\n",
       "      <td>45</td>\n",
       "      <td>0</td>\n",
       "      <td>0</td>\n",
       "      <td>unknown</td>\n",
       "      <td>5</td>\n",
       "      <td>may</td>\n",
       "      <td>1467</td>\n",
       "      <td>1</td>\n",
       "      <td>-1</td>\n",
       "      <td>0</td>\n",
       "      <td>unknown</td>\n",
       "      <td>1</td>\n",
       "    </tr>\n",
       "    <tr>\n",
       "      <th>3</th>\n",
       "      <td>4</td>\n",
       "      <td>41</td>\n",
       "      <td>technician</td>\n",
       "      <td>married</td>\n",
       "      <td>secondary</td>\n",
       "      <td>0</td>\n",
       "      <td>1270</td>\n",
       "      <td>1</td>\n",
       "      <td>0</td>\n",
       "      <td>unknown</td>\n",
       "      <td>5</td>\n",
       "      <td>may</td>\n",
       "      <td>1389</td>\n",
       "      <td>1</td>\n",
       "      <td>-1</td>\n",
       "      <td>0</td>\n",
       "      <td>unknown</td>\n",
       "      <td>1</td>\n",
       "    </tr>\n",
       "    <tr>\n",
       "      <th>4</th>\n",
       "      <td>5</td>\n",
       "      <td>55</td>\n",
       "      <td>services</td>\n",
       "      <td>married</td>\n",
       "      <td>secondary</td>\n",
       "      <td>0</td>\n",
       "      <td>2476</td>\n",
       "      <td>1</td>\n",
       "      <td>0</td>\n",
       "      <td>unknown</td>\n",
       "      <td>5</td>\n",
       "      <td>may</td>\n",
       "      <td>579</td>\n",
       "      <td>1</td>\n",
       "      <td>-1</td>\n",
       "      <td>0</td>\n",
       "      <td>unknown</td>\n",
       "      <td>1</td>\n",
       "    </tr>\n",
       "    <tr>\n",
       "      <th>...</th>\n",
       "      <td>...</td>\n",
       "      <td>...</td>\n",
       "      <td>...</td>\n",
       "      <td>...</td>\n",
       "      <td>...</td>\n",
       "      <td>...</td>\n",
       "      <td>...</td>\n",
       "      <td>...</td>\n",
       "      <td>...</td>\n",
       "      <td>...</td>\n",
       "      <td>...</td>\n",
       "      <td>...</td>\n",
       "      <td>...</td>\n",
       "      <td>...</td>\n",
       "      <td>...</td>\n",
       "      <td>...</td>\n",
       "      <td>...</td>\n",
       "      <td>...</td>\n",
       "    </tr>\n",
       "    <tr>\n",
       "      <th>16158</th>\n",
       "      <td>21379</td>\n",
       "      <td>26</td>\n",
       "      <td>admin.</td>\n",
       "      <td>married</td>\n",
       "      <td>secondary</td>\n",
       "      <td>0</td>\n",
       "      <td>1595</td>\n",
       "      <td>0</td>\n",
       "      <td>0</td>\n",
       "      <td>cellular</td>\n",
       "      <td>15</td>\n",
       "      <td>jun</td>\n",
       "      <td>155</td>\n",
       "      <td>1</td>\n",
       "      <td>105</td>\n",
       "      <td>1</td>\n",
       "      <td>failure</td>\n",
       "      <td>1</td>\n",
       "    </tr>\n",
       "    <tr>\n",
       "      <th>16159</th>\n",
       "      <td>21380</td>\n",
       "      <td>37</td>\n",
       "      <td>admin.</td>\n",
       "      <td>married</td>\n",
       "      <td>secondary</td>\n",
       "      <td>0</td>\n",
       "      <td>1967</td>\n",
       "      <td>0</td>\n",
       "      <td>0</td>\n",
       "      <td>cellular</td>\n",
       "      <td>27</td>\n",
       "      <td>may</td>\n",
       "      <td>242</td>\n",
       "      <td>1</td>\n",
       "      <td>212</td>\n",
       "      <td>1</td>\n",
       "      <td>success</td>\n",
       "      <td>1</td>\n",
       "    </tr>\n",
       "    <tr>\n",
       "      <th>16160</th>\n",
       "      <td>21381</td>\n",
       "      <td>45</td>\n",
       "      <td>management</td>\n",
       "      <td>married</td>\n",
       "      <td>tertiary</td>\n",
       "      <td>0</td>\n",
       "      <td>81</td>\n",
       "      <td>0</td>\n",
       "      <td>1</td>\n",
       "      <td>cellular</td>\n",
       "      <td>30</td>\n",
       "      <td>jul</td>\n",
       "      <td>61</td>\n",
       "      <td>3</td>\n",
       "      <td>-1</td>\n",
       "      <td>0</td>\n",
       "      <td>unknown</td>\n",
       "      <td>0</td>\n",
       "    </tr>\n",
       "    <tr>\n",
       "      <th>16161</th>\n",
       "      <td>21382</td>\n",
       "      <td>44</td>\n",
       "      <td>services</td>\n",
       "      <td>single</td>\n",
       "      <td>secondary</td>\n",
       "      <td>0</td>\n",
       "      <td>618</td>\n",
       "      <td>0</td>\n",
       "      <td>0</td>\n",
       "      <td>cellular</td>\n",
       "      <td>12</td>\n",
       "      <td>may</td>\n",
       "      <td>193</td>\n",
       "      <td>1</td>\n",
       "      <td>-1</td>\n",
       "      <td>0</td>\n",
       "      <td>unknown</td>\n",
       "      <td>1</td>\n",
       "    </tr>\n",
       "    <tr>\n",
       "      <th>16162</th>\n",
       "      <td>21383</td>\n",
       "      <td>32</td>\n",
       "      <td>management</td>\n",
       "      <td>married</td>\n",
       "      <td>tertiary</td>\n",
       "      <td>0</td>\n",
       "      <td>2458</td>\n",
       "      <td>1</td>\n",
       "      <td>0</td>\n",
       "      <td>cellular</td>\n",
       "      <td>4</td>\n",
       "      <td>may</td>\n",
       "      <td>77</td>\n",
       "      <td>2</td>\n",
       "      <td>-1</td>\n",
       "      <td>0</td>\n",
       "      <td>unknown</td>\n",
       "      <td>0</td>\n",
       "    </tr>\n",
       "  </tbody>\n",
       "</table>\n",
       "<p>16163 rows × 18 columns</p>\n",
       "</div>"
      ],
      "text/plain": [
       "          id  age         job  marital  education  default  balance  housing  \\\n",
       "0          1   59      admin.  married  secondary        0     2343        1   \n",
       "1          2   59      admin.  married  secondary        0     2343        1   \n",
       "2          3   56      admin.  married  secondary        0       45        0   \n",
       "3          4   41  technician  married  secondary        0     1270        1   \n",
       "4          5   55    services  married  secondary        0     2476        1   \n",
       "...      ...  ...         ...      ...        ...      ...      ...      ...   \n",
       "16158  21379   26      admin.  married  secondary        0     1595        0   \n",
       "16159  21380   37      admin.  married  secondary        0     1967        0   \n",
       "16160  21381   45  management  married   tertiary        0       81        0   \n",
       "16161  21382   44    services   single  secondary        0      618        0   \n",
       "16162  21383   32  management  married   tertiary        0     2458        1   \n",
       "\n",
       "       loan   contact  day month  duration  campaign  pdays  previous  \\\n",
       "0         0   unknown    5   may      1042         1     -1         0   \n",
       "1         0   unknown    5   may      1042         1     -1         0   \n",
       "2         0   unknown    5   may      1467         1     -1         0   \n",
       "3         0   unknown    5   may      1389         1     -1         0   \n",
       "4         0   unknown    5   may       579         1     -1         0   \n",
       "...     ...       ...  ...   ...       ...       ...    ...       ...   \n",
       "16158     0  cellular   15   jun       155         1    105         1   \n",
       "16159     0  cellular   27   may       242         1    212         1   \n",
       "16160     1  cellular   30   jul        61         3     -1         0   \n",
       "16161     0  cellular   12   may       193         1     -1         0   \n",
       "16162     0  cellular    4   may        77         2     -1         0   \n",
       "\n",
       "      poutcome  deposit  \n",
       "0      unknown        1  \n",
       "1      unknown        1  \n",
       "2      unknown        1  \n",
       "3      unknown        1  \n",
       "4      unknown        1  \n",
       "...        ...      ...  \n",
       "16158  failure        1  \n",
       "16159  success        1  \n",
       "16160  unknown        0  \n",
       "16161  unknown        1  \n",
       "16162  unknown        0  \n",
       "\n",
       "[16163 rows x 18 columns]"
      ]
     },
     "execution_count": 7,
     "metadata": {},
     "output_type": "execute_result"
    }
   ],
   "source": [
    "df_BANK_marketing"
   ]
  },
  {
   "cell_type": "markdown",
   "metadata": {},
   "source": [
    "## 2. EDA: ANÁLISIS EXPLORATÓRIO"
   ]
  },
  {
   "cell_type": "markdown",
   "metadata": {},
   "source": [
    "Ya tenemos todos los datos limpios y esto se puede comprobar, ya que ya no tenemos null. En principio, no deberían haber outliers\n"
   ]
  },
  {
   "cell_type": "code",
   "execution_count": 8,
   "metadata": {},
   "outputs": [
    {
     "name": "stdout",
     "output_type": "stream",
     "text": [
      "<class 'pandas.core.frame.DataFrame'>\n",
      "RangeIndex: 16163 entries, 0 to 16162\n",
      "Data columns (total 18 columns):\n",
      " #   Column     Non-Null Count  Dtype \n",
      "---  ------     --------------  ----- \n",
      " 0   id         16163 non-null  int64 \n",
      " 1   age        16163 non-null  int64 \n",
      " 2   job        16163 non-null  object\n",
      " 3   marital    16163 non-null  object\n",
      " 4   education  16163 non-null  object\n",
      " 5   default    16163 non-null  int64 \n",
      " 6   balance    16163 non-null  int64 \n",
      " 7   housing    16163 non-null  int64 \n",
      " 8   loan       16163 non-null  int64 \n",
      " 9   contact    16163 non-null  object\n",
      " 10  day        16163 non-null  int64 \n",
      " 11  month      16163 non-null  object\n",
      " 12  duration   16163 non-null  int64 \n",
      " 13  campaign   16163 non-null  int64 \n",
      " 14  pdays      16163 non-null  int64 \n",
      " 15  previous   16163 non-null  int64 \n",
      " 16  poutcome   16163 non-null  object\n",
      " 17  deposit    16163 non-null  int64 \n",
      "dtypes: int64(12), object(6)\n",
      "memory usage: 2.2+ MB\n"
     ]
    }
   ],
   "source": [
    "df_BANK_marketing.info()\n"
   ]
  },
  {
   "cell_type": "markdown",
   "metadata": {},
   "source": [
    "## 2.1 Verificación estadísticos dataset con cleaning frente original"
   ]
  },
  {
   "cell_type": "code",
   "execution_count": 9,
   "metadata": {},
   "outputs": [
    {
     "data": {
      "text/plain": [
       "management       3727\n",
       "blue-collar      2812\n",
       "technician       2667\n",
       "admin.           1907\n",
       "services         1314\n",
       "retired          1128\n",
       "self-employed     599\n",
       "student           518\n",
       "unemployed        514\n",
       "entrepreneur      472\n",
       "housemaid         399\n",
       "unknown           106\n",
       "Name: job, dtype: int64"
      ]
     },
     "execution_count": 9,
     "metadata": {},
     "output_type": "execute_result"
    }
   ],
   "source": [
    "df_BANK_marketing['job'].value_counts()"
   ]
  },
  {
   "cell_type": "code",
   "execution_count": 10,
   "metadata": {},
   "outputs": [
    {
     "data": {
      "text/plain": [
       "married     9226\n",
       "single      5065\n",
       "divorced    1872\n",
       "Name: marital, dtype: int64"
      ]
     },
     "execution_count": 10,
     "metadata": {},
     "output_type": "execute_result"
    }
   ],
   "source": [
    "df_BANK_marketing['marital'].value_counts()"
   ]
  },
  {
   "cell_type": "code",
   "execution_count": 11,
   "metadata": {},
   "outputs": [
    {
     "data": {
      "text/plain": [
       "secondary    7931\n",
       "tertiary     5355\n",
       "primary      2172\n",
       "unknown       705\n",
       "Name: education, dtype: int64"
      ]
     },
     "execution_count": 11,
     "metadata": {},
     "output_type": "execute_result"
    }
   ],
   "source": [
    "df_BANK_marketing['education'].value_counts()"
   ]
  },
  {
   "cell_type": "code",
   "execution_count": 12,
   "metadata": {},
   "outputs": [
    {
     "data": {
      "text/plain": [
       "0    15922\n",
       "1      241\n",
       "Name: default, dtype: int64"
      ]
     },
     "execution_count": 12,
     "metadata": {},
     "output_type": "execute_result"
    }
   ],
   "source": [
    "df_BANK_marketing['default'].value_counts()"
   ]
  },
  {
   "cell_type": "code",
   "execution_count": 13,
   "metadata": {},
   "outputs": [
    {
     "data": {
      "text/plain": [
       "cellular     11628\n",
       "unknown       3388\n",
       "telephone     1147\n",
       "Name: contact, dtype: int64"
      ]
     },
     "execution_count": 13,
     "metadata": {},
     "output_type": "execute_result"
    }
   ],
   "source": [
    "df_BANK_marketing['contact'].value_counts()"
   ]
  },
  {
   "cell_type": "code",
   "execution_count": 14,
   "metadata": {},
   "outputs": [
    {
     "data": {
      "text/plain": [
       "unknown    12076\n",
       "failure     1777\n",
       "success     1527\n",
       "other        783\n",
       "Name: poutcome, dtype: int64"
      ]
     },
     "execution_count": 14,
     "metadata": {},
     "output_type": "execute_result"
    }
   ],
   "source": [
    "df_BANK_marketing['poutcome'].value_counts()"
   ]
  },
  {
   "cell_type": "code",
   "execution_count": 15,
   "metadata": {},
   "outputs": [],
   "source": [
    "df_BANK_vista_marketing=df_BANK_marketing[['id','contact','day','month','duration','campaign','pdays','previous','poutcome','deposit']]"
   ]
  },
  {
   "cell_type": "code",
   "execution_count": 16,
   "metadata": {},
   "outputs": [
    {
     "data": {
      "text/plain": [
       "cellular     11628\n",
       "unknown       3388\n",
       "telephone     1147\n",
       "Name: contact, dtype: int64"
      ]
     },
     "execution_count": 16,
     "metadata": {},
     "output_type": "execute_result"
    }
   ],
   "source": [
    "df_BANK_vista_marketing['contact'].value_counts()"
   ]
  },
  {
   "cell_type": "code",
   "execution_count": 17,
   "metadata": {},
   "outputs": [
    {
     "data": {
      "text/html": [
       "<div>\n",
       "<style scoped>\n",
       "    .dataframe tbody tr th:only-of-type {\n",
       "        vertical-align: middle;\n",
       "    }\n",
       "\n",
       "    .dataframe tbody tr th {\n",
       "        vertical-align: top;\n",
       "    }\n",
       "\n",
       "    .dataframe thead th {\n",
       "        text-align: right;\n",
       "    }\n",
       "</style>\n",
       "<table border=\"1\" class=\"dataframe\">\n",
       "  <thead>\n",
       "    <tr style=\"text-align: right;\">\n",
       "      <th></th>\n",
       "      <th>contact</th>\n",
       "    </tr>\n",
       "  </thead>\n",
       "  <tbody>\n",
       "    <tr>\n",
       "      <th>cellular</th>\n",
       "      <td>11628</td>\n",
       "    </tr>\n",
       "    <tr>\n",
       "      <th>unknown</th>\n",
       "      <td>3388</td>\n",
       "    </tr>\n",
       "    <tr>\n",
       "      <th>telephone</th>\n",
       "      <td>1147</td>\n",
       "    </tr>\n",
       "  </tbody>\n",
       "</table>\n",
       "</div>"
      ],
      "text/plain": [
       "           contact\n",
       "cellular     11628\n",
       "unknown       3388\n",
       "telephone     1147"
      ]
     },
     "execution_count": 17,
     "metadata": {},
     "output_type": "execute_result"
    }
   ],
   "source": [
    "count_contact=df_BANK_vista_marketing[\"contact\"].value_counts()\n",
    "df_count_contact=pd.DataFrame(count_contact)\n",
    "df_count_contact"
   ]
  },
  {
   "cell_type": "code",
   "execution_count": 18,
   "metadata": {},
   "outputs": [
    {
     "ename": "KeyError",
     "evalue": "'count'",
     "output_type": "error",
     "traceback": [
      "\u001b[1;31m---------------------------------------------------------------------------\u001b[0m",
      "\u001b[1;31mKeyError\u001b[0m                                  Traceback (most recent call last)",
      "File \u001b[1;32m~\\AppData\\Local\\anaconda3\\Lib\\site-packages\\pandas\\core\\indexes\\base.py:3802\u001b[0m, in \u001b[0;36mIndex.get_loc\u001b[1;34m(self, key, method, tolerance)\u001b[0m\n\u001b[0;32m   3801\u001b[0m \u001b[38;5;28;01mtry\u001b[39;00m:\n\u001b[1;32m-> 3802\u001b[0m     \u001b[38;5;28;01mreturn\u001b[39;00m \u001b[38;5;28mself\u001b[39m\u001b[38;5;241m.\u001b[39m_engine\u001b[38;5;241m.\u001b[39mget_loc(casted_key)\n\u001b[0;32m   3803\u001b[0m \u001b[38;5;28;01mexcept\u001b[39;00m \u001b[38;5;167;01mKeyError\u001b[39;00m \u001b[38;5;28;01mas\u001b[39;00m err:\n",
      "File \u001b[1;32m~\\AppData\\Local\\anaconda3\\Lib\\site-packages\\pandas\\_libs\\index.pyx:138\u001b[0m, in \u001b[0;36mpandas._libs.index.IndexEngine.get_loc\u001b[1;34m()\u001b[0m\n",
      "File \u001b[1;32m~\\AppData\\Local\\anaconda3\\Lib\\site-packages\\pandas\\_libs\\index.pyx:165\u001b[0m, in \u001b[0;36mpandas._libs.index.IndexEngine.get_loc\u001b[1;34m()\u001b[0m\n",
      "File \u001b[1;32mpandas\\_libs\\hashtable_class_helper.pxi:5745\u001b[0m, in \u001b[0;36mpandas._libs.hashtable.PyObjectHashTable.get_item\u001b[1;34m()\u001b[0m\n",
      "File \u001b[1;32mpandas\\_libs\\hashtable_class_helper.pxi:5753\u001b[0m, in \u001b[0;36mpandas._libs.hashtable.PyObjectHashTable.get_item\u001b[1;34m()\u001b[0m\n",
      "\u001b[1;31mKeyError\u001b[0m: 'count'",
      "\nThe above exception was the direct cause of the following exception:\n",
      "\u001b[1;31mKeyError\u001b[0m                                  Traceback (most recent call last)",
      "Cell \u001b[1;32mIn[18], line 10\u001b[0m\n\u001b[0;32m      6\u001b[0m \u001b[38;5;66;03m#Especifico una tonalitat de colors blaus per pintar el gràfic de sectors per estètica. De blau més fort a blau més clar\u001b[39;00m\n\u001b[0;32m      7\u001b[0m colors \u001b[38;5;241m=\u001b[39m [\u001b[38;5;124m'\u001b[39m\u001b[38;5;124m#004d80\u001b[39m\u001b[38;5;124m'\u001b[39m,\u001b[38;5;124m'\u001b[39m\u001b[38;5;124m#3366cc\u001b[39m\u001b[38;5;124m'\u001b[39m,\u001b[38;5;124m'\u001b[39m\u001b[38;5;124m#66b3ff\u001b[39m\u001b[38;5;124m'\u001b[39m]\n\u001b[1;32m---> 10\u001b[0m ax\u001b[38;5;241m=\u001b[39mdf_count_contact[\u001b[38;5;124m\"\u001b[39m\u001b[38;5;124mcount\u001b[39m\u001b[38;5;124m\"\u001b[39m]\u001b[38;5;241m.\u001b[39mplot\u001b[38;5;241m.\u001b[39mpie(autopct\u001b[38;5;241m=\u001b[39m\u001b[38;5;28;01mlambda\u001b[39;00m pct: func(pct, df_count_contact[\u001b[38;5;124m\"\u001b[39m\u001b[38;5;124mcount\u001b[39m\u001b[38;5;124m\"\u001b[39m]),colors\u001b[38;5;241m=\u001b[39mcolors)\n\u001b[0;32m     12\u001b[0m ax\u001b[38;5;241m.\u001b[39mset_ylabel(\u001b[38;5;124m\"\u001b[39m\u001b[38;5;124mfrecuencia\u001b[39m\u001b[38;5;124m\"\u001b[39m)\n\u001b[0;32m     13\u001b[0m ax\u001b[38;5;241m.\u001b[39mset_title(\u001b[38;5;124m\"\u001b[39m\u001b[38;5;124mTipos de contacto última llamada\u001b[39m\u001b[38;5;124m\"\u001b[39m)\n",
      "File \u001b[1;32m~\\AppData\\Local\\anaconda3\\Lib\\site-packages\\pandas\\core\\frame.py:3807\u001b[0m, in \u001b[0;36mDataFrame.__getitem__\u001b[1;34m(self, key)\u001b[0m\n\u001b[0;32m   3805\u001b[0m \u001b[38;5;28;01mif\u001b[39;00m \u001b[38;5;28mself\u001b[39m\u001b[38;5;241m.\u001b[39mcolumns\u001b[38;5;241m.\u001b[39mnlevels \u001b[38;5;241m>\u001b[39m \u001b[38;5;241m1\u001b[39m:\n\u001b[0;32m   3806\u001b[0m     \u001b[38;5;28;01mreturn\u001b[39;00m \u001b[38;5;28mself\u001b[39m\u001b[38;5;241m.\u001b[39m_getitem_multilevel(key)\n\u001b[1;32m-> 3807\u001b[0m indexer \u001b[38;5;241m=\u001b[39m \u001b[38;5;28mself\u001b[39m\u001b[38;5;241m.\u001b[39mcolumns\u001b[38;5;241m.\u001b[39mget_loc(key)\n\u001b[0;32m   3808\u001b[0m \u001b[38;5;28;01mif\u001b[39;00m is_integer(indexer):\n\u001b[0;32m   3809\u001b[0m     indexer \u001b[38;5;241m=\u001b[39m [indexer]\n",
      "File \u001b[1;32m~\\AppData\\Local\\anaconda3\\Lib\\site-packages\\pandas\\core\\indexes\\base.py:3804\u001b[0m, in \u001b[0;36mIndex.get_loc\u001b[1;34m(self, key, method, tolerance)\u001b[0m\n\u001b[0;32m   3802\u001b[0m     \u001b[38;5;28;01mreturn\u001b[39;00m \u001b[38;5;28mself\u001b[39m\u001b[38;5;241m.\u001b[39m_engine\u001b[38;5;241m.\u001b[39mget_loc(casted_key)\n\u001b[0;32m   3803\u001b[0m \u001b[38;5;28;01mexcept\u001b[39;00m \u001b[38;5;167;01mKeyError\u001b[39;00m \u001b[38;5;28;01mas\u001b[39;00m err:\n\u001b[1;32m-> 3804\u001b[0m     \u001b[38;5;28;01mraise\u001b[39;00m \u001b[38;5;167;01mKeyError\u001b[39;00m(key) \u001b[38;5;28;01mfrom\u001b[39;00m \u001b[38;5;21;01merr\u001b[39;00m\n\u001b[0;32m   3805\u001b[0m \u001b[38;5;28;01mexcept\u001b[39;00m \u001b[38;5;167;01mTypeError\u001b[39;00m:\n\u001b[0;32m   3806\u001b[0m     \u001b[38;5;66;03m# If we have a listlike key, _check_indexing_error will raise\u001b[39;00m\n\u001b[0;32m   3807\u001b[0m     \u001b[38;5;66;03m#  InvalidIndexError. Otherwise we fall through and re-raise\u001b[39;00m\n\u001b[0;32m   3808\u001b[0m     \u001b[38;5;66;03m#  the TypeError.\u001b[39;00m\n\u001b[0;32m   3809\u001b[0m     \u001b[38;5;28mself\u001b[39m\u001b[38;5;241m.\u001b[39m_check_indexing_error(key)\n",
      "\u001b[1;31mKeyError\u001b[0m: 'count'"
     ]
    }
   ],
   "source": [
    "#funció per mostrar els valors i porcentatges del pie\n",
    "def func(pct, allvalues):\n",
    "    absolute = int(round(pct/100.*sum(allvalues)))\n",
    "    return \"{:.1f}%\\n({:d})\".format(pct, absolute)\n",
    "\n",
    "#Especifico una tonalitat de colors blaus per pintar el gràfic de sectors per estètica. De blau més fort a blau més clar\n",
    "colors = ['#004d80','#3366cc','#66b3ff']\n",
    "\n",
    "\n",
    "ax=df_count_contact[\"count\"].plot.pie(autopct=lambda pct: func(pct, df_count_contact[\"count\"]),colors=colors)\n",
    "\n",
    "ax.set_ylabel(\"frecuencia\")\n",
    "ax.set_title(\"Tipos de contacto última llamada\")"
   ]
  },
  {
   "cell_type": "markdown",
   "metadata": {},
   "source": [
    "Vemos que tenemos un problema, en teoria el campo contact, solo puede valer telephone o cellular, primero porque lo dice la fuente oficial de la página web de Bank_marketing, y en segundo lugar porque en cada registro existe una duración de llamada, **pero tenemos 2346, un 21% de registros \"unknown\"**.\n",
    "\n",
    "Como tendremos que calcular la tasa de conversión del Dataset, y emplearemos rangos de duración para calcularla, de momento, no hacemos ningún tratamiento para intentar clasificar los unknown a otra etiqueta, que en principio sería cellular y telephone."
   ]
  },
  {
   "cell_type": "code",
   "execution_count": 19,
   "metadata": {},
   "outputs": [
    {
     "data": {
      "text/html": [
       "<div>\n",
       "<style scoped>\n",
       "    .dataframe tbody tr th:only-of-type {\n",
       "        vertical-align: middle;\n",
       "    }\n",
       "\n",
       "    .dataframe tbody tr th {\n",
       "        vertical-align: top;\n",
       "    }\n",
       "\n",
       "    .dataframe thead th {\n",
       "        text-align: right;\n",
       "    }\n",
       "</style>\n",
       "<table border=\"1\" class=\"dataframe\">\n",
       "  <thead>\n",
       "    <tr style=\"text-align: right;\">\n",
       "      <th></th>\n",
       "      <th>poutcome</th>\n",
       "    </tr>\n",
       "  </thead>\n",
       "  <tbody>\n",
       "    <tr>\n",
       "      <th>unknown</th>\n",
       "      <td>3360</td>\n",
       "    </tr>\n",
       "    <tr>\n",
       "      <th>failure</th>\n",
       "      <td>11</td>\n",
       "    </tr>\n",
       "    <tr>\n",
       "      <th>other</th>\n",
       "      <td>9</td>\n",
       "    </tr>\n",
       "    <tr>\n",
       "      <th>success</th>\n",
       "      <td>8</td>\n",
       "    </tr>\n",
       "  </tbody>\n",
       "</table>\n",
       "</div>"
      ],
      "text/plain": [
       "         poutcome\n",
       "unknown      3360\n",
       "failure        11\n",
       "other           9\n",
       "success         8"
      ]
     },
     "execution_count": 19,
     "metadata": {},
     "output_type": "execute_result"
    }
   ],
   "source": [
    "filtro_contact_unknown=df_BANK_vista_marketing['contact']=='unknown'\n",
    "count_contact_poutcome=df_BANK_vista_marketing['poutcome']\n",
    "\n",
    "poutcome_value_counts=df_BANK_vista_marketing[filtro_contact_unknown]['poutcome'].value_counts()\n",
    "df_poutcome_value_counts=pd.DataFrame(poutcome_value_counts)\n",
    "df_poutcome_value_counts"
   ]
  },
  {
   "cell_type": "code",
   "execution_count": 20,
   "metadata": {},
   "outputs": [
    {
     "data": {
      "text/html": [
       "<div>\n",
       "<style scoped>\n",
       "    .dataframe tbody tr th:only-of-type {\n",
       "        vertical-align: middle;\n",
       "    }\n",
       "\n",
       "    .dataframe tbody tr th {\n",
       "        vertical-align: top;\n",
       "    }\n",
       "\n",
       "    .dataframe thead th {\n",
       "        text-align: right;\n",
       "    }\n",
       "</style>\n",
       "<table border=\"1\" class=\"dataframe\">\n",
       "  <thead>\n",
       "    <tr style=\"text-align: right;\">\n",
       "      <th></th>\n",
       "      <th>index</th>\n",
       "      <th>poutcome</th>\n",
       "    </tr>\n",
       "  </thead>\n",
       "  <tbody>\n",
       "    <tr>\n",
       "      <th>0</th>\n",
       "      <td>unknown</td>\n",
       "      <td>3360</td>\n",
       "    </tr>\n",
       "    <tr>\n",
       "      <th>1</th>\n",
       "      <td>failure</td>\n",
       "      <td>11</td>\n",
       "    </tr>\n",
       "    <tr>\n",
       "      <th>2</th>\n",
       "      <td>other</td>\n",
       "      <td>9</td>\n",
       "    </tr>\n",
       "    <tr>\n",
       "      <th>3</th>\n",
       "      <td>success</td>\n",
       "      <td>8</td>\n",
       "    </tr>\n",
       "  </tbody>\n",
       "</table>\n",
       "</div>"
      ],
      "text/plain": [
       "     index  poutcome\n",
       "0  unknown      3360\n",
       "1  failure        11\n",
       "2    other         9\n",
       "3  success         8"
      ]
     },
     "execution_count": 20,
     "metadata": {},
     "output_type": "execute_result"
    }
   ],
   "source": [
    "df_poutcome_value_counts=df_poutcome_value_counts.reset_index()\n",
    "df_poutcome_value_counts"
   ]
  },
  {
   "cell_type": "code",
   "execution_count": 21,
   "metadata": {},
   "outputs": [
    {
     "ename": "KeyError",
     "evalue": "'count'",
     "output_type": "error",
     "traceback": [
      "\u001b[1;31m---------------------------------------------------------------------------\u001b[0m",
      "\u001b[1;31mKeyError\u001b[0m                                  Traceback (most recent call last)",
      "File \u001b[1;32m~\\AppData\\Local\\anaconda3\\Lib\\site-packages\\pandas\\core\\indexes\\base.py:3802\u001b[0m, in \u001b[0;36mIndex.get_loc\u001b[1;34m(self, key, method, tolerance)\u001b[0m\n\u001b[0;32m   3801\u001b[0m \u001b[38;5;28;01mtry\u001b[39;00m:\n\u001b[1;32m-> 3802\u001b[0m     \u001b[38;5;28;01mreturn\u001b[39;00m \u001b[38;5;28mself\u001b[39m\u001b[38;5;241m.\u001b[39m_engine\u001b[38;5;241m.\u001b[39mget_loc(casted_key)\n\u001b[0;32m   3803\u001b[0m \u001b[38;5;28;01mexcept\u001b[39;00m \u001b[38;5;167;01mKeyError\u001b[39;00m \u001b[38;5;28;01mas\u001b[39;00m err:\n",
      "File \u001b[1;32m~\\AppData\\Local\\anaconda3\\Lib\\site-packages\\pandas\\_libs\\index.pyx:138\u001b[0m, in \u001b[0;36mpandas._libs.index.IndexEngine.get_loc\u001b[1;34m()\u001b[0m\n",
      "File \u001b[1;32m~\\AppData\\Local\\anaconda3\\Lib\\site-packages\\pandas\\_libs\\index.pyx:165\u001b[0m, in \u001b[0;36mpandas._libs.index.IndexEngine.get_loc\u001b[1;34m()\u001b[0m\n",
      "File \u001b[1;32mpandas\\_libs\\hashtable_class_helper.pxi:5745\u001b[0m, in \u001b[0;36mpandas._libs.hashtable.PyObjectHashTable.get_item\u001b[1;34m()\u001b[0m\n",
      "File \u001b[1;32mpandas\\_libs\\hashtable_class_helper.pxi:5753\u001b[0m, in \u001b[0;36mpandas._libs.hashtable.PyObjectHashTable.get_item\u001b[1;34m()\u001b[0m\n",
      "\u001b[1;31mKeyError\u001b[0m: 'count'",
      "\nThe above exception was the direct cause of the following exception:\n",
      "\u001b[1;31mKeyError\u001b[0m                                  Traceback (most recent call last)",
      "Cell \u001b[1;32mIn[21], line 4\u001b[0m\n\u001b[0;32m      1\u001b[0m fig, ax \u001b[38;5;241m=\u001b[39m plt\u001b[38;5;241m.\u001b[39msubplots(figsize\u001b[38;5;241m=\u001b[39m(\u001b[38;5;241m8\u001b[39m, \u001b[38;5;241m6\u001b[39m))\n\u001b[0;32m      3\u001b[0m colors \u001b[38;5;241m=\u001b[39m [\u001b[38;5;124m'\u001b[39m\u001b[38;5;124mgreen\u001b[39m\u001b[38;5;124m'\u001b[39m]\n\u001b[1;32m----> 4\u001b[0m bars\u001b[38;5;241m=\u001b[39max\u001b[38;5;241m.\u001b[39mbar(df_poutcome_value_counts[\u001b[38;5;124m'\u001b[39m\u001b[38;5;124mpoutcome\u001b[39m\u001b[38;5;124m'\u001b[39m], df_poutcome_value_counts[\u001b[38;5;124m'\u001b[39m\u001b[38;5;124mcount\u001b[39m\u001b[38;5;124m'\u001b[39m],color\u001b[38;5;241m=\u001b[39mcolors)\n\u001b[0;32m      6\u001b[0m \u001b[38;5;66;03m# Añadir títulos y etiquetas\u001b[39;00m\n\u001b[0;32m      7\u001b[0m \n\u001b[0;32m      8\u001b[0m \u001b[38;5;66;03m#plt.xticks(rotation=45)\u001b[39;00m\n\u001b[0;32m     10\u001b[0m ax\u001b[38;5;241m.\u001b[39mset_ylim(\u001b[38;5;241m0\u001b[39m, \u001b[38;5;241m4000\u001b[39m)\n",
      "File \u001b[1;32m~\\AppData\\Local\\anaconda3\\Lib\\site-packages\\pandas\\core\\frame.py:3807\u001b[0m, in \u001b[0;36mDataFrame.__getitem__\u001b[1;34m(self, key)\u001b[0m\n\u001b[0;32m   3805\u001b[0m \u001b[38;5;28;01mif\u001b[39;00m \u001b[38;5;28mself\u001b[39m\u001b[38;5;241m.\u001b[39mcolumns\u001b[38;5;241m.\u001b[39mnlevels \u001b[38;5;241m>\u001b[39m \u001b[38;5;241m1\u001b[39m:\n\u001b[0;32m   3806\u001b[0m     \u001b[38;5;28;01mreturn\u001b[39;00m \u001b[38;5;28mself\u001b[39m\u001b[38;5;241m.\u001b[39m_getitem_multilevel(key)\n\u001b[1;32m-> 3807\u001b[0m indexer \u001b[38;5;241m=\u001b[39m \u001b[38;5;28mself\u001b[39m\u001b[38;5;241m.\u001b[39mcolumns\u001b[38;5;241m.\u001b[39mget_loc(key)\n\u001b[0;32m   3808\u001b[0m \u001b[38;5;28;01mif\u001b[39;00m is_integer(indexer):\n\u001b[0;32m   3809\u001b[0m     indexer \u001b[38;5;241m=\u001b[39m [indexer]\n",
      "File \u001b[1;32m~\\AppData\\Local\\anaconda3\\Lib\\site-packages\\pandas\\core\\indexes\\base.py:3804\u001b[0m, in \u001b[0;36mIndex.get_loc\u001b[1;34m(self, key, method, tolerance)\u001b[0m\n\u001b[0;32m   3802\u001b[0m     \u001b[38;5;28;01mreturn\u001b[39;00m \u001b[38;5;28mself\u001b[39m\u001b[38;5;241m.\u001b[39m_engine\u001b[38;5;241m.\u001b[39mget_loc(casted_key)\n\u001b[0;32m   3803\u001b[0m \u001b[38;5;28;01mexcept\u001b[39;00m \u001b[38;5;167;01mKeyError\u001b[39;00m \u001b[38;5;28;01mas\u001b[39;00m err:\n\u001b[1;32m-> 3804\u001b[0m     \u001b[38;5;28;01mraise\u001b[39;00m \u001b[38;5;167;01mKeyError\u001b[39;00m(key) \u001b[38;5;28;01mfrom\u001b[39;00m \u001b[38;5;21;01merr\u001b[39;00m\n\u001b[0;32m   3805\u001b[0m \u001b[38;5;28;01mexcept\u001b[39;00m \u001b[38;5;167;01mTypeError\u001b[39;00m:\n\u001b[0;32m   3806\u001b[0m     \u001b[38;5;66;03m# If we have a listlike key, _check_indexing_error will raise\u001b[39;00m\n\u001b[0;32m   3807\u001b[0m     \u001b[38;5;66;03m#  InvalidIndexError. Otherwise we fall through and re-raise\u001b[39;00m\n\u001b[0;32m   3808\u001b[0m     \u001b[38;5;66;03m#  the TypeError.\u001b[39;00m\n\u001b[0;32m   3809\u001b[0m     \u001b[38;5;28mself\u001b[39m\u001b[38;5;241m.\u001b[39m_check_indexing_error(key)\n",
      "\u001b[1;31mKeyError\u001b[0m: 'count'"
     ]
    },
    {
     "data": {
      "image/png": "[encoded data removed]",
      "text/plain": [
       "<Figure size 800x600 with 1 Axes>"
      ]
     },
     "metadata": {},
     "output_type": "display_data"
    }
   ],
   "source": [
    "fig, ax = plt.subplots(figsize=(8, 6))\n",
    "\n",
    "colors = ['green']\n",
    "bars=ax.bar(df_poutcome_value_counts['poutcome'], df_poutcome_value_counts['count'],color=colors)\n",
    "\n",
    "# Añadir títulos y etiquetas\n",
    "\n",
    "#plt.xticks(rotation=45)\n",
    "\n",
    "ax.set_ylim(0, 4000)\n",
    "ax.autoscale(False)\n",
    "plt.title(\"Distribución resultado campaña anterior por contact='unknown' \")\n",
    "plt.xlabel(\"Resultado campaña anterior\")\n",
    "plt.ylabel(\"Número registros\")\n",
    "\n",
    "# Añadir los valores encima de las barras\n",
    "for bar in bars:\n",
    "    yval = bar.get_height()\n",
    "    ax.text(bar.get_x() + bar.get_width()/2, yval, f\"{yval:.2f}\", ha='center', va='bottom')\n",
    "\n",
    "# Mostrar gráfico\n",
    "plt.show()"
   ]
  },
  {
   "cell_type": "code",
   "execution_count": null,
   "metadata": {},
   "outputs": [],
   "source": [
    "#Per poder analitzar la segona pregunta de l'exercici\n",
    "#filtro_cellular=df_BANK_vista_marketing['contact']=='telephone'\n",
    "#df_BANK_vista_marketing=df_BANK_vista_marketing[filtro_cellular]\n",
    "\n",
    "df_BANK_vista_marketing.describe()"
   ]
  },
  {
   "cell_type": "code",
   "execution_count": null,
   "metadata": {},
   "outputs": [],
   "source": [
    "Q1, Q2, Q3, min_Q, max_Q, min_Q_ext,max_Q_ext = cuartiles(df_BANK_vista_marketing['duration'])\n",
    "df_BANK_vista_marketing[\"categoria_duration\"] = df_BANK_vista_marketing[\"duration\"].apply(clasificacion_duration)"
   ]
  },
  {
   "cell_type": "code",
   "execution_count": null,
   "metadata": {},
   "outputs": [],
   "source": [
    "plt.figure(figsize=(14, 6))\n",
    "\n",
    "sns.kdeplot(data=df_BANK_vista_marketing, x='duration', hue='contact', fill=True, common_norm=False, alpha=0.6)\n",
    "\n",
    "plt.title('Densidad de duracion por método de contacto', fontsize=14)\n",
    "plt.xlabel('duration')\n",
    "plt.ylabel('Densidad')\n",
    "\n",
    "plt.xticks(range(-1000,10000,4000), fontsize=5)\n",
    "\n",
    "plt.show()"
   ]
  },
  {
   "cell_type": "code",
   "execution_count": null,
   "metadata": {},
   "outputs": [],
   "source": [
    "# Crear un boxplot per veure la distribució de la durada segons si s'ha subscrit al dipòsit\n",
    "custom_palette = ['skyblue', 'salmon']\n",
    "sns.boxplot(x='duration',data=df_BANK_vista_marketing, hue='contact')\n",
    "plt.title('Boxplot  entre la duración de las llamdas y suscripción a un depósito')\n",
    "plt.show()"
   ]
  },
  {
   "cell_type": "markdown",
   "metadata": {},
   "source": [
    "## 3. Calcular tasa de conversión por categorías de grupos y tipos de contacto"
   ]
  },
  {
   "cell_type": "markdown",
   "metadata": {},
   "source": [
    "Quiero trocear el segmento duración en trocitos más pequeños, pero para eso quiero ver los estadísticos princiaples"
   ]
  },
  {
   "cell_type": "code",
   "execution_count": 22,
   "metadata": {},
   "outputs": [
    {
     "data": {
      "text/plain": [
       "count    16163.000000\n",
       "mean       372.542288\n",
       "std        345.261981\n",
       "min          2.000000\n",
       "25%        139.000000\n",
       "50%        255.000000\n",
       "75%        498.000000\n",
       "max       3881.000000\n",
       "Name: duration, dtype: float64"
      ]
     },
     "execution_count": 22,
     "metadata": {},
     "output_type": "execute_result"
    }
   ],
   "source": [
    "df_BANK_vista_marketing['duration'].describe()"
   ]
  },
  {
   "cell_type": "code",
   "execution_count": 23,
   "metadata": {},
   "outputs": [
    {
     "ename": "NameError",
     "evalue": "name 'Q1' is not defined",
     "output_type": "error",
     "traceback": [
      "\u001b[1;31m---------------------------------------------------------------------------\u001b[0m",
      "\u001b[1;31mNameError\u001b[0m                                 Traceback (most recent call last)",
      "Cell \u001b[1;32mIn[23], line 2\u001b[0m\n\u001b[0;32m      1\u001b[0m positive_infinity \u001b[38;5;241m=\u001b[39m \u001b[38;5;28mfloat\u001b[39m(\u001b[38;5;124m'\u001b[39m\u001b[38;5;124minf\u001b[39m\u001b[38;5;124m'\u001b[39m)\n\u001b[1;32m----> 2\u001b[0m df_BANK_vista_marketing[\u001b[38;5;124m'\u001b[39m\u001b[38;5;124mrango_duracion\u001b[39m\u001b[38;5;124m'\u001b[39m] \u001b[38;5;241m=\u001b[39m pd\u001b[38;5;241m.\u001b[39mcut(df_BANK_vista_marketing[\u001b[38;5;124m'\u001b[39m\u001b[38;5;124mduration\u001b[39m\u001b[38;5;124m'\u001b[39m], bins\u001b[38;5;241m=\u001b[39m[\u001b[38;5;241m0\u001b[39m, Q1, Q2, Q3, max_Q, max_Q_ext, positive_infinity])\n\u001b[0;32m      3\u001b[0m df_BANK_vista_marketing\n",
      "\u001b[1;31mNameError\u001b[0m: name 'Q1' is not defined"
     ]
    }
   ],
   "source": [
    "positive_infinity = float('inf')\n",
    "df_BANK_vista_marketing['rango_duracion'] = pd.cut(df_BANK_vista_marketing['duration'], bins=[0, Q1, Q2, Q3, max_Q, max_Q_ext, positive_infinity])\n",
    "df_BANK_vista_marketing"
   ]
  },
  {
   "cell_type": "markdown",
   "metadata": {},
   "source": [
    "Quiero agrupar las etiquetas de range_duration y sumar los 1 de cada rango de los depósitos y los registros por depósito"
   ]
  },
  {
   "cell_type": "code",
   "execution_count": null,
   "metadata": {},
   "outputs": [],
   "source": [
    "df_BANK_vista_marketing"
   ]
  },
  {
   "cell_type": "code",
   "execution_count": null,
   "metadata": {},
   "outputs": [],
   "source": [
    "filtre_cellular=df_BANK_vista_marketing['contact']==\"cellular\"\n",
    "df_BANK_vista_marketing[filtre_cellular]"
   ]
  },
  {
   "cell_type": "code",
   "execution_count": null,
   "metadata": {},
   "outputs": [],
   "source": [
    "df_BANK_vista_marketing[filtre_cellular].describe()"
   ]
  },
  {
   "cell_type": "code",
   "execution_count": null,
   "metadata": {},
   "outputs": [],
   "source": [
    "filtre_telephone=df_BANK_vista_marketing['contact']==\"telephone\"\n",
    "df_BANK_vista_marketing[filtre_telephone].describe()"
   ]
  },
  {
   "cell_type": "code",
   "execution_count": null,
   "metadata": {},
   "outputs": [],
   "source": [
    "filtre_unknown=df_BANK_vista_marketing['contact']==\"unknown\"\n",
    "df_BANK_vista_marketing[filtre_unknown].describe()"
   ]
  },
  {
   "cell_type": "code",
   "execution_count": null,
   "metadata": {},
   "outputs": [],
   "source": [
    "df_BANK_vista_marketing.info()"
   ]
  },
  {
   "cell_type": "code",
   "execution_count": null,
   "metadata": {},
   "outputs": [],
   "source": [
    "df_marketing_group_by_categ_durat_contact = df_BANK_vista_marketing.groupby([\"categoria_duration\", \"contact\"])[\"deposit\"].agg(['mean','count'])\n",
    "columns={'mean':'tasa_de_conversión','count':'total_registros'}\n",
    "df_marketing_group_by_categ_durat_contact.rename(columns={'mean':'tasa_conversion','count':'total_registros'},inplace=True)\n",
    "df_marketing_group_by_categ_durat_contact"
   ]
  },
  {
   "cell_type": "code",
   "execution_count": null,
   "metadata": {},
   "outputs": [],
   "source": [
    "df_marketing_group_by_categ_durat_contact=df_marketing_group_by_categ_durat_contact.reset_index()\n",
    "df_marketing_group_by_categ_durat_contact"
   ]
  },
  {
   "cell_type": "code",
   "execution_count": null,
   "metadata": {},
   "outputs": [],
   "source": [
    "df_reset=df_marketing_group_by_categ_durat_contact.reset_index()\n",
    "pivot_df = df_reset.pivot(index=\"categoria_duration\", columns=\"contact\", values=\"total_registros\")\n",
    "pivot_df[\"total_registros\"]=pivot_df[\"cellular\"]+pivot_df[\"telephone\"]+pivot_df[\"unknown\"]\n",
    "pivot_df\n"
   ]
  },
  {
   "cell_type": "code",
   "execution_count": null,
   "metadata": {},
   "outputs": [],
   "source": [
    "pivot_df=pivot_df.reset_index()\n",
    "#pivot_df=pivot_df.set_index(\"categoria_duration\")\n",
    "#pivot_df\n",
    "pivot_df"
   ]
  },
  {
   "cell_type": "code",
   "execution_count": null,
   "metadata": {},
   "outputs": [],
   "source": [
    "pivot_df_copy=pd.DataFrame({\"categoria_duration\":pivot_df[\"categoria_duration\"],\n",
    "                         \"cellular\":pivot_df[\"cellular\"],\n",
    "                         \"telephone\":pivot_df[\"telephone\"],\n",
    "                         \"unknown\":pivot_df[\"unknown\"],\n",
    "                         \"total_registros\":pivot_df[\"total_registros\"]})\n",
    "pivot_df_copy\n",
    "\n",
    "\n"
   ]
  },
  {
   "cell_type": "code",
   "execution_count": null,
   "metadata": {},
   "outputs": [],
   "source": [
    "pivot_df_copy[\"ordre_categoria_duracion\"]=pivot_df_copy[\"categoria_duration\"].apply(ordenar_categoria_duration)\n",
    "pivot_df_copy=pivot_df_copy.sort_values(\"ordre_categoria_duracion\")\n",
    "pivot_df_copy=pivot_df_copy.set_index(\"categoria_duration\")\n",
    "pivot_df_copy"
   ]
  },
  {
   "cell_type": "code",
   "execution_count": null,
   "metadata": {},
   "outputs": [],
   "source": [
    "#order = ['bajo', 'medio-bajo', 'medio-alto', 'alto', 'muy-alto', 'extremo-muy-alto']\n",
    "#pivot_df = pivot_df.set_index('categoría')\n",
    "\n",
    "# Reordenar el índice del DataFrame según el orden deseado\n",
    "#pivot_df = pivot_df.reindex(order)\n",
    "\n",
    "ax=pivot_df_copy[[\"cellular\",\"telephone\",\"unknown\"]].plot.bar(stacked=True)\n",
    "\n",
    "fig = ax.figure\n",
    "# Ajustar las dimensiones de la figura\n",
    "fig.set_size_inches(10, 8)\n",
    "ax.set_title(\"Número de llamadas desglosadas por tipo de contacto y categoría duración\",fontweight='bold')\n",
    "ax.set_xlabel(\"categorias_duracion\")\n",
    "ax.set_ylabel(\"número últimas llamadas\")\n",
    "legend=ax.legend()\n",
    "legend.set_title(\"tipo de contacto\")\n",
    "\n",
    "# Cambiar los nombres de la leyenda\n",
    "new_legend_labels = ['Móvil', 'Teléfono Fijo', 'Desconocido']\n",
    "legend = ax.legend(labels=new_legend_labels)\n",
    "legend.set_title(\"Tipo de comunicación\")\n",
    "\n",
    "  \n",
    "# Iterar sobre els contenidos i les barres per pintar cada valor de cada barra al centre de la barra.\n",
    "for container in ax.containers:\n",
    "    # Obtener los valores de las barras y su posición\n",
    "    labels = []\n",
    "    for bar in container:\n",
    "        value = bar.get_height()  # Para barras apiladas se usa el alto\n",
    "        if value == 0:\n",
    "            labels.append('')  # No etiquetar barras con valor cero\n",
    "        else:\n",
    "            labels.append(f'{value:.0f}')  # Formatear los valores sin decimales\n",
    "    ax.bar_label(container, labels=labels, label_type='center')\n",
    "\n"
   ]
  },
  {
   "cell_type": "code",
   "execution_count": null,
   "metadata": {},
   "outputs": [],
   "source": [
    "df_marketing_group_by_categ_durat_contact[\"ord_categoria_duration\"]=df_marketing_group_by_categ_durat_contact[\"categoria_duration\"].apply(ordenar_categoria_duration)\n",
    "df_marketing_group_by_categ_durat_contact.sort_values(\"ord_categoria_duration\")\n",
    "\n",
    "def categoria_y_rango(cadena):\n",
    "\n",
    " match cadena:\n",
    "    case 'bajo':\n",
    "        return '(0 a 2] min, bajo'\n",
    "\n",
    "    case 'medio-bajo': \n",
    "         return '(2 a 4] min, medio-bajo'\n",
    "    \n",
    "    case 'medio-alto': \n",
    "         return '(4 a 8] min, medio-alto'\n",
    "     \n",
    "    case 'alto': \n",
    "         return '(8 a 17] min, alto'\n",
    "          \n",
    "    case 'muy-alto': \n",
    "         return '(17 a 26] min, muy-alto'\n",
    "     \n",
    "    case 'extremo-muy-alto': \n",
    "         return '(26 a inf] min, extremo-muy-alto'\n",
    "    case _:\n",
    "        return None\n",
    "    \n",
    "df_marketing_group_by_categ_durat_contact['rango_y_categ_duracion']=df_marketing_group_by_categ_durat_contact['categoria_duration'].apply(categoria_y_rango)\n",
    "df_marketing_group_by_categ_durat_contact\n"
   ]
  },
  {
   "cell_type": "code",
   "execution_count": null,
   "metadata": {},
   "outputs": [],
   "source": [
    "fig, ax = plt.subplots(figsize=(18, 10))\n",
    "order = ['(0 a 2] min, bajo', '(2 a 4] min, medio-bajo', '(4 a 8] min, medio-alto', '(8 a 17] min, alto', '(17 a 26] min, muy-alto','(26 a inf] min, extremo-muy-alto']\n",
    "ax=sns.barplot(x='rango_y_categ_duracion',y='tasa_conversion',data=df_marketing_group_by_categ_durat_contact,hue='contact',order = order,width=0.8)\n",
    "\n",
    "#plt.xticks(rotation=90,fontsize=10)\n",
    "plt.title(\"Tasa conversion por categorías de rangos duracion\")\n",
    "plt.xlabel(\"Categorias rangos duración\")\n",
    "plt.ylabel(\"Tasa de conversión\")\n",
    "#ax.set_ylim(0, 0.95)\n",
    "\n",
    "# Añadir los valores encima de las barras\n",
    "for container in ax.containers:\n",
    "    ax.bar_label(container, fmt='%.2f', label_type='edge')\n",
    "    \n",
    "# Cambiar etiquetas de la leyenda\n",
    "#new_labels = ['Móvil', 'Telefónico', 'Desconocidos']\n",
    "#ax.legend(title='Contact', labels=new_labels)\n",
    "\n",
    "\n",
    "# Cambiar etiquetas de la leyenda, manteniendo los colores\n",
    "# Mapeo de valores originales de 'contact' a nuevos nombres\n",
    "label_map = {'cellular': 'Móvil', 'telephone': 'Telefónico', 'unknown': 'Desconocidos'}\n",
    "\n",
    "# Obtener los handles y labels de la leyenda original\n",
    "handles, labels = ax.get_legend_handles_labels()\n",
    "\n",
    "# Crear nueva leyenda con etiquetas mapeadas\n",
    "new_labels = [label_map[label] for label in labels]\n",
    "ax.legend(handles=handles, labels=new_labels, title='Contacto',loc='upper left')\n",
    "\n",
    "# Mostrar gráfico\n",
    "plt.show()"
   ]
  },
  {
   "cell_type": "markdown",
   "metadata": {},
   "source": [
    "Del Sprint 1, vimos que era más probable que hubiera conversiones en los rangos medio alto y alto (ver probabilidades del diagrama de barras de abajo), así pues **centraremos los esfuerzos en estudiar la categoría medio-alto y la categoría alto**. \n"
   ]
  },
  {
   "attachments": {
    "image.png": {
     "image/png": "[encoded data removed]"
    }
   },
   "cell_type": "markdown",
   "metadata": {},
   "source": [
    "![image.png](attachment:image.png)"
   ]
  },
  {
   "cell_type": "markdown",
   "metadata": {},
   "source": [
    "El peso de estas categorías en cuánto a registros las podemos calcular tal como sigue, para **medio-alto** son 2797 registros que supone el 25% y el 19,3% para alto."
   ]
  },
  {
   "cell_type": "code",
   "execution_count": null,
   "metadata": {},
   "outputs": [],
   "source": [
    "total_registros=df_BANK_vista_marketing.shape[0]\n",
    "filtro_categoria_medio_alto=df_marketing_group_by_categ_durat_contact['categoria_duration']==\"medio-alto\"\n",
    "df_marketing_group_by_categ_durat_contact[filtro_categoria_medio_alto]['total_registros'].sum()\n",
    "por_medio_alto=df_marketing_group_by_categ_durat_contact[filtro_categoria_medio_alto]['total_registros'].sum()/total_registros\n",
    "por_medio_alto\n"
   ]
  },
  {
   "cell_type": "code",
   "execution_count": null,
   "metadata": {},
   "outputs": [],
   "source": [
    "total_registros=df_BANK_vista_marketing.shape[0]\n",
    "filtro_categoria_medio_alto=df_marketing_group_by_categ_durat_contact['categoria_duration']==\"alto\"\n",
    "df_marketing_group_by_categ_durat_contact[filtro_categoria_medio_alto]['total_registros'].sum()\n",
    "por_medio_alto=df_marketing_group_by_categ_durat_contact[filtro_categoria_medio_alto]['total_registros'].sum()/total_registros\n",
    "por_medio_alto\n"
   ]
  },
  {
   "cell_type": "markdown",
   "metadata": {},
   "source": [
    "## 4. ¿Es estadísticamente significativo que las tasas de conversión de telefónica són superiores a las tasas de conversión para móviles en las 2 categorías de estudio?"
   ]
  },
  {
   "cell_type": "code",
   "execution_count": null,
   "metadata": {},
   "outputs": [],
   "source": [
    "filtro_categorias_estudio=(df_marketing_group_by_categ_durat_contact['categoria_duration']==\"medio-alto\") | (df_marketing_group_by_categ_durat_contact['categoria_duration']==\"alto\")\n",
    "order = [ 'medio-alto', 'alto']\n",
    "ax=sns.barplot(x='categoria_duration',y='tasa_conversion',data=df_marketing_group_by_categ_durat_contact[filtro_categorias_estudio],hue='contact',order = order)\n",
    "\n",
    "plt.xticks(rotation=90,fontsize=10)\n",
    "plt.title(\"Tasa conversion por categorías de rangos duracion\")\n",
    "plt.xlabel(\"Categorias rangos duración\")\n",
    "plt.ylabel(\"Tasa de conversión\")\n",
    "\n",
    "# Añadir los valores encima de las barras\n",
    "for container in ax.containers:\n",
    "    ax.bar_label(container, fmt='%.2f', label_type='edge',fontsize=8)\n",
    "    \n",
    "# Cambiar etiquetas de la leyenda\n",
    "#new_labels = ['Móvil', 'Telefónico', 'Desconocidos']\n",
    "#ax.legend(title='Contact', labels=new_labels)\n",
    "\n",
    "\n",
    "# Cambiar etiquetas de la leyenda, manteniendo los colores\n",
    "# Mapeo de valores originales de 'contact' a nuevos nombres\n",
    "label_map = {'cellular': 'Móvil', 'telephone': 'Telefónico', 'unknown': 'Desconocidos'}\n",
    "\n",
    "# Obtener los handles y labels de la leyenda original\n",
    "handles, labels = ax.get_legend_handles_labels()\n",
    "\n",
    "# Crear nueva leyenda con etiquetas mapeadas\n",
    "new_labels = [label_map[label] for label in labels]\n",
    "ax.legend(handles=handles, labels=new_labels, title='Contacto', loc='lower right', bbox_to_anchor=(1.15, 1))\n",
    "\n",
    "# Mostrar gráfico\n",
    "plt.show()\n"
   ]
  },
  {
   "cell_type": "markdown",
   "metadata": {},
   "source": [
    "Podremos utilizar la **prueba de proporciones (Z-Test)** que es una herramienta estadística utilizada para comparar dos proporciones o tasas de conversion y determinar si la diferencia es estadísticamente significativa entre ellas. La proporción, es decir la tasa de conversión, como en realidad es como si fuera una media, es un estadística que tendrá una distribución normal por el teorema central del límite. Esta asumpción es importante, pues sinó no podríamos aplicar el Z-test"
   ]
  },
  {
   "cell_type": "markdown",
   "metadata": {},
   "source": [
    "### 4.1 Determinar si la proporcion de cada muestra tiene un tamaño razonable para aplicar Z-test"
   ]
  },
  {
   "cell_type": "markdown",
   "metadata": {},
   "source": [
    "Se debe cumplir n x p>5 y n x (1-p) > 5, donde n es el tamaño de la muestra y p es la proporcion de éxitos.\n",
    "\n"
   ]
  },
  {
   "cell_type": "markdown",
   "metadata": {},
   "source": [
    "**Categoría medio-alto**"
   ]
  },
  {
   "cell_type": "code",
   "execution_count": null,
   "metadata": {},
   "outputs": [],
   "source": [
    "filtro_categoria_medio_alto=df_marketing_group_by_categ_durat_contact['categoria_duration']==\"medio-alto\"\n",
    "df_marketing_group_by_categ_durat_contact[filtro_categoria_medio_alto].iloc[0,3]"
   ]
  },
  {
   "cell_type": "code",
   "execution_count": null,
   "metadata": {},
   "outputs": [],
   "source": [
    "df_marketing_group_by_categ_durat_contact[filtro_categoria_medio_alto]"
   ]
  },
  {
   "cell_type": "code",
   "execution_count": null,
   "metadata": {},
   "outputs": [],
   "source": [
    "n_cellular_ma=df_marketing_group_by_categ_durat_contact[filtro_categoria_medio_alto].iloc[0,3]\n",
    "n_cellular_ma\n"
   ]
  },
  {
   "cell_type": "code",
   "execution_count": null,
   "metadata": {},
   "outputs": [],
   "source": [
    "p_cellular_ma=df_marketing_group_by_categ_durat_contact[filtro_categoria_medio_alto].iloc[0,2]\n",
    "p_cellular_ma"
   ]
  },
  {
   "cell_type": "code",
   "execution_count": null,
   "metadata": {},
   "outputs": [],
   "source": [
    "tamaño_muestra_razonable_grupo_cellular=((n_cellular_ma*p_cellular_ma)>5) and ((n_cellular_ma*(1-p_cellular_ma))>5)\n",
    "tamaño_muestra_razonable_grupo_cellular"
   ]
  },
  {
   "cell_type": "code",
   "execution_count": null,
   "metadata": {},
   "outputs": [],
   "source": [
    "n_telephone_ma=df_marketing_group_by_categ_durat_contact[filtro_categoria_medio_alto].iloc[1,3]\n",
    "n_telephone_ma"
   ]
  },
  {
   "cell_type": "code",
   "execution_count": null,
   "metadata": {},
   "outputs": [],
   "source": [
    "p_telephone_ma=df_marketing_group_by_categ_durat_contact[filtro_categoria_medio_alto].iloc[1,2]\n",
    "p_telephone_ma"
   ]
  },
  {
   "cell_type": "code",
   "execution_count": null,
   "metadata": {},
   "outputs": [],
   "source": [
    "tamaño_muestra_razonable_grupo_telephone=((n_telephone_ma*p_telephone_ma)>5) and (n_telephone_ma*(1-p_telephone_ma)>5)\n",
    "tamaño_muestra_razonable_grupo_telephone"
   ]
  },
  {
   "cell_type": "markdown",
   "metadata": {},
   "source": [
    "**1. Cálculo de proporción combinada**"
   ]
  },
  {
   "cell_type": "code",
   "execution_count": null,
   "metadata": {},
   "outputs": [],
   "source": [
    "pcombinada_ma=(p_cellular_ma*n_cellular_ma+p_telephone_ma*n_telephone_ma)/(n_cellular_ma+n_telephone_ma)\n",
    "pcombinada_ma"
   ]
  },
  {
   "cell_type": "markdown",
   "metadata": {},
   "source": [
    "**2. Cálculo varianza de la diferencia de las proporciones**\n"
   ]
  },
  {
   "cell_type": "code",
   "execution_count": null,
   "metadata": {},
   "outputs": [],
   "source": [
    "Varianza_dif_proporciones_ma=pcombinada_ma*(1-pcombinada_ma)*((1/n_cellular_ma)+(1/n_telephone_ma))\n",
    "Varianza_dif_proporciones_ma"
   ]
  },
  {
   "cell_type": "markdown",
   "metadata": {},
   "source": [
    "**3. Cálculo de Z**"
   ]
  },
  {
   "cell_type": "markdown",
   "metadata": {},
   "source": [
    "**Podemos concluir que la tasa de conversión por llamada telefónica sí estará por encima de la de móvil en esta categoria de duración \"medio-alta\", ya que nos da por encima de 1,96 en valor absolut, con un p_valor=0,05**. Al dar en negativo, significa que tasa telefónica>tasa móvil. "
   ]
  },
  {
   "cell_type": "code",
   "execution_count": null,
   "metadata": {},
   "outputs": [],
   "source": [
    "Z_ma=(p_cellular_ma-p_telephone_ma)/np.sqrt(Varianza_dif_proporciones_ma)\n",
    "Z_ma"
   ]
  },
  {
   "cell_type": "markdown",
   "metadata": {},
   "source": [
    "**Categoría alta**"
   ]
  },
  {
   "cell_type": "code",
   "execution_count": null,
   "metadata": {},
   "outputs": [],
   "source": [
    "filtro_categoria_alto=df_marketing_group_by_categ_durat_contact['categoria_duration']==\"alto\""
   ]
  },
  {
   "cell_type": "code",
   "execution_count": null,
   "metadata": {},
   "outputs": [],
   "source": [
    "df_marketing_group_by_categ_durat_contact[filtro_categoria_alto]"
   ]
  },
  {
   "cell_type": "code",
   "execution_count": null,
   "metadata": {},
   "outputs": [],
   "source": [
    "n_cellular_a=df_marketing_group_by_categ_durat_contact[filtro_categoria_alto].iloc[0,3]\n",
    "n_cellular_a\n"
   ]
  },
  {
   "cell_type": "code",
   "execution_count": null,
   "metadata": {},
   "outputs": [],
   "source": [
    "p_cellular_a=df_marketing_group_by_categ_durat_contact[filtro_categoria_alto].iloc[0,2]\n",
    "p_cellular_a"
   ]
  },
  {
   "cell_type": "code",
   "execution_count": null,
   "metadata": {},
   "outputs": [],
   "source": [
    "tamaño_muestra_razonable_grupo_cellular_a=((n_cellular_a*p_cellular_a)>5) and ((n_cellular_a*(1-p_cellular_a))>5)\n",
    "tamaño_muestra_razonable_grupo_cellular_a"
   ]
  },
  {
   "cell_type": "code",
   "execution_count": null,
   "metadata": {},
   "outputs": [],
   "source": [
    "n_telephone_a=df_marketing_group_by_categ_durat_contact[filtro_categoria_alto].iloc[1,3]\n",
    "n_telephone_a"
   ]
  },
  {
   "cell_type": "code",
   "execution_count": null,
   "metadata": {},
   "outputs": [],
   "source": [
    "p_telephone_a=df_marketing_group_by_categ_durat_contact[filtro_categoria_alto].iloc[1,2]\n",
    "p_telephone_a"
   ]
  },
  {
   "cell_type": "code",
   "execution_count": null,
   "metadata": {},
   "outputs": [],
   "source": [
    "tamaño_muestra_razonable_grupo_telephone_a=((n_telephone_a*p_telephone_a)>5) and ((n_telephone_a*(1-p_telephone_a))>5)\n",
    "tamaño_muestra_razonable_grupo_telephone_a"
   ]
  },
  {
   "cell_type": "markdown",
   "metadata": {},
   "source": [
    "**1. Cálculo de proporción combinada**"
   ]
  },
  {
   "cell_type": "code",
   "execution_count": null,
   "metadata": {},
   "outputs": [],
   "source": [
    "pcombinada_a=(p_cellular_a*n_cellular_a+p_telephone_a*n_telephone_a)/(n_cellular_a+n_telephone_a)\n",
    "pcombinada_a"
   ]
  },
  {
   "cell_type": "markdown",
   "metadata": {},
   "source": [
    "**2. Cálculo varianza de la diferencia de las proporciones**"
   ]
  },
  {
   "cell_type": "code",
   "execution_count": null,
   "metadata": {},
   "outputs": [],
   "source": [
    "Varianza_dif_proporciones_a=pcombinada_a*(1-pcombinada_a)*((1/n_cellular_a)+(1/n_telephone_a))\n",
    "Varianza_dif_proporciones_a"
   ]
  },
  {
   "cell_type": "markdown",
   "metadata": {},
   "source": [
    "**3. Cálculo de Z**"
   ]
  },
  {
   "cell_type": "markdown",
   "metadata": {},
   "source": [
    "**En este caso al no darnos una Z<-1,96 NO podemos asegurar que llamar por teléfono tenga una tasa de conversión superior a la tasa de conversión de llamar con móvil** para este rango de duración \"alto\", con un p_valor=0,05."
   ]
  },
  {
   "cell_type": "code",
   "execution_count": null,
   "metadata": {},
   "outputs": [],
   "source": [
    "Z_a=(p_cellular_a-p_telephone_a)/np.sqrt(Varianza_dif_proporciones_a)\n",
    "Z_a"
   ]
  },
  {
   "cell_type": "markdown",
   "metadata": {},
   "source": [
    "## 5. Juntar el grupo medio-alto y alto para estudiar la realción balance y edad con la tasación por contacto"
   ]
  },
  {
   "cell_type": "code",
   "execution_count": null,
   "metadata": {},
   "outputs": [],
   "source": [
    "filtro_duration_medio_alto_o_alto=(df_BANK_vista_marketing[\"categoria_duration\"]==\"medio-alto\") | (df_BANK_vista_marketing[\"categoria_duration\"]==\"alto\")\n",
    "df_BANK_vista_marketing[filtro_duration_medio_alto_o_alto]"
   ]
  },
  {
   "cell_type": "code",
   "execution_count": null,
   "metadata": {},
   "outputs": [],
   "source": [
    "df_group_by_categ_durat_contact_medio_alto_o_alto = df_BANK_vista_marketing[filtro_duration_medio_alto_o_alto].groupby([\"contact\"])[\"deposit\"].agg(['mean','count'])\n",
    "columns={'mean':'tasa_de_conversión','count':'total_registros'}\n",
    "df_group_by_categ_durat_contact_medio_alto_o_alto.rename(columns={'mean':'tasa_conversion','count':'total_registros'},inplace=True)\n",
    "df_group_by_categ_durat_contact_medio_alto_o_alto"
   ]
  },
  {
   "cell_type": "code",
   "execution_count": null,
   "metadata": {},
   "outputs": [],
   "source": [
    "df_group_by_categ_durat_contact_medio_alto_o_alto=df_group_by_categ_durat_contact_medio_alto_o_alto.reset_index()\n",
    "df_group_by_categ_durat_contact_medio_alto_o_alto"
   ]
  },
  {
   "cell_type": "code",
   "execution_count": null,
   "metadata": {},
   "outputs": [],
   "source": [
    "fig, ax = plt.subplots(figsize=(8, 6))\n",
    "bars=ax.bar(df_group_by_categ_durat_contact_medio_alto_o_alto['contact'], df_group_by_categ_durat_contact_medio_alto_o_alto['tasa_conversion'],width=0.5)\n",
    "# Añadir títulos y etiquetas\n",
    "#plt.xticks(rotation=90,fontsize=10)\n",
    "plt.title(\"Tasa conversion por contacto para llamadas entre 4 i 17 min\")\n",
    "plt.xlabel(\"Tipos de contacto\")\n",
    "plt.ylabel(\"Tasa de conversión\")\n",
    "ax.set_xticklabels(['móvil', 'teléfono','desconocidos'])\n",
    "\n",
    "# Añadir los valores encima de las barras\n",
    "for bar in bars:\n",
    "    yval = bar.get_height()\n",
    "    ax.text(bar.get_x() + bar.get_width()/2, yval, f\"{yval:.2f}\", ha='center', va='bottom')\n",
    "\n",
    "# Mostrar gráfico\n",
    "plt.show()"
   ]
  },
  {
   "cell_type": "code",
   "execution_count": null,
   "metadata": {},
   "outputs": [],
   "source": [
    "cols=[\"id\",\"age\",\"balance\",\"contact\",\"duration\",\"deposit\"]\n",
    "df_marketing_age_bal=df_BANK_marketing[cols]\n",
    "df_marketing_age_bal[\"duration min\"]=round(df_marketing_age_bal[\"duration\"]/60,2)\n",
    "df_marketing_age_bal"
   ]
  },
  {
   "cell_type": "code",
   "execution_count": null,
   "metadata": {},
   "outputs": [],
   "source": [
    "def cuartiles_2(df):\n",
    "    #calcular cuartiles\n",
    "    Q1 = df.quantile(0.25)\n",
    "    Q2 = df.quantile(0.50)\n",
    "    Q3 = df.quantile(0.75)\n",
    "\n",
    "    #calcular IQR (rango intercuartílico)\n",
    "    IQR = Q3 - Q1\n",
    "\n",
    "    #calcular límite outliers\n",
    "    min_Q = Q1 - 1.5*IQR\n",
    "    max_Q = Q3 + 1.5*IQR\n",
    "\n",
    "    min_Q_ext=Q1 - 3*IQR\n",
    "    max_Q_ext=Q3 + 3*IQR\n",
    "    \n",
    "    return Q1, Q2, Q3, min_Q, max_Q, min_Q_ext,max_Q_ext\n",
    "\n",
    "def clasificacion_duration_2(valor):\n",
    "    \n",
    "    if  valor < min_Q_ext:\n",
    "        return (\"extremo-muy-bajo inf a \"+str(min_Q_ext)) \n",
    "    elif valor < min_Q:\n",
    "        return (\"muy-bajo \"+str(min_Q_ext)+\" a \"+str(min_Q))\n",
    "    elif valor < Q1:\n",
    "        return (\"bajo \"+str(min_Q)+\" a \"+str(Q1))\n",
    "    elif valor < Q2:\n",
    "        return (\"medio-bajo \"+str(Q1)+\" a \"+str(Q2))\n",
    "    elif valor < Q3:\n",
    "        return (\"medio-alto \"+str(Q2)+\" a \"+str(Q3))\n",
    "    elif valor < max_Q:\n",
    "        return (\"alto \"+str(Q3)+\" a \"+str(max_Q))\n",
    "    elif valor < max_Q_ext:\n",
    "        return (\"muy-alto \"+str(max_Q)+\" a \"+str(max_Q_ext))\n",
    "    else:\n",
    "        return (\"extremo-muy-alto \"+str(max_Q_ext)+\"a  inf\")"
   ]
  },
  {
   "cell_type": "code",
   "execution_count": null,
   "metadata": {},
   "outputs": [],
   "source": [
    "Q1, Q2, Q3, min_Q, max_Q, min_Q_ext,max_Q_ext = cuartiles_2(df_marketing_age_bal['duration min'])\n",
    "\n",
    "Q1=round(Q1,1)\n",
    "Q2=round(Q2,1)\n",
    "Q3=round(Q3,1)\n",
    "min_Q=round(min_Q,1)\n",
    "min_Q_ext=round(min_Q_ext,1)\n",
    "max_Q=round(max_Q,1)\n",
    "max_Q_ext=round(max_Q_ext,1)\n",
    "df_marketing_age_bal[\"categoria_duration\"] = df_marketing_age_bal[\"duration min\"].apply(clasificacion_duration_2)"
   ]
  },
  {
   "cell_type": "code",
   "execution_count": null,
   "metadata": {},
   "outputs": [],
   "source": [
    "def cuartiles_3(df):\n",
    "    #calcular cuartiles\n",
    "    Q33 = df.quantile(0.33)\n",
    "    Q66 = df.quantile(0.66)\n",
    "       \n",
    "    return Q33, Q66\n",
    "\n",
    "def clasificacion_variable(valor):\n",
    "    \n",
    "    if  valor  <Q33:\n",
    "        return (\"bajo infer a \"+str(Q33)) \n",
    "    elif valor <Q66:\n",
    "        return (\"medio \"+str(Q33)+\" a \"+str(Q66))\n",
    "    else:\n",
    "        return (\"alto super a \"+str(Q66))"
   ]
  },
  {
   "cell_type": "code",
   "execution_count": null,
   "metadata": {},
   "outputs": [],
   "source": [
    "Q33, Q66 = cuartiles_3(df_marketing_age_bal['age'])\n",
    "df_marketing_age_bal[\"categoria_age\"] = df_marketing_age_bal[\"age\"].apply(clasificacion_variable)\n",
    "Q33, Q66 = cuartiles_3(df_marketing_age_bal['balance'])\n",
    "df_marketing_age_bal[\"categoria_balance\"] = df_marketing_age_bal[\"balance\"].apply(clasificacion_variable)\n",
    "\n",
    "#filtre=df_marketing_age_bal['age']<=45\n",
    "#df_marketing_age_bal[filtre]\n",
    "df_marketing_age_bal"
   ]
  },
  {
   "cell_type": "code",
   "execution_count": null,
   "metadata": {},
   "outputs": [],
   "source": [
    "df_marketing_age_bal[df_marketing_age_bal[\"contact\"]=='cellular']"
   ]
  },
  {
   "cell_type": "code",
   "execution_count": null,
   "metadata": {},
   "outputs": [],
   "source": []
  },
  {
   "cell_type": "code",
   "execution_count": null,
   "metadata": {},
   "outputs": [],
   "source": [
    "df_marketing_age_bal[\"categoria_duration\"].value_counts()"
   ]
  },
  {
   "cell_type": "code",
   "execution_count": null,
   "metadata": {},
   "outputs": [],
   "source": [
    "is_duration_medio_alto=df_marketing_age_bal[\"categoria_duration\"]==\"medio-alto 4.2 a 8.3\"\n",
    "is_duration_alto=df_marketing_age_bal[\"categoria_duration\"]==\"alto 8.3 a 17.3\"\n",
    "filtro_duration_medio_alto_0_alto=(is_duration_medio_alto | is_duration_alto)\n",
    "df_mark_age_bal_medio_alto_o_alto=df_marketing_age_bal[filtro_duration_medio_alto_0_alto]\n",
    "\n",
    "\n",
    "df_groupby=df_mark_age_bal_medio_alto_o_alto.groupby([\"contact\",\"categoria_age\",\"categoria_balance\"])[\"deposit\"].agg(['mean','count'])\n",
    "df_groupby.rename(columns={'mean':'tasa_conversion','count':'total_registros'},inplace=True)\n",
    "df_groupby=df_groupby.reset_index()\n",
    "df_groupby[df_groupby[\"contact\"] == 'telephone'].sort_values(\"tasa_conversion\",ascending=False)\n",
    "\n",
    "filter_cellular=df_groupby['contact']==\"cellular\"\n",
    "cols=[\"categoria_age\",\"categoria_balance\",\"tasa_conversion\"]\n",
    "df_groupby_cellular=df_groupby[filter_cellular][cols]\n",
    "df_groupby_cellular\n",
    "\n",
    "# Mostrar todas las filas temporalmente\n",
    "#with pd.option_context('display.max_rows', None):\n",
    "#    print(df_groupby[df_groupby[\"contact\"] == 'cellular'])\n"
   ]
  },
  {
   "cell_type": "code",
   "execution_count": null,
   "metadata": {},
   "outputs": [],
   "source": [
    "df_groupby_cellular_reset=df_groupby_cellular.reset_index()\n",
    "df_groupby_cellular_pivot = df_groupby_cellular.pivot(index=\"categoria_age\", columns=\"categoria_balance\", values=\"tasa_conversion\")\n",
    "#pivot_df[\"total_registros\"]=pivot_df[\"cellular\"]+pivot_df[\"telephone\"]+pivot_df[\"unknown\"]\n",
    "df_groupby_cellular_pivot\n"
   ]
  },
  {
   "cell_type": "code",
   "execution_count": null,
   "metadata": {},
   "outputs": [],
   "source": [
    "df_groupby_cellular_pivot=df_groupby_cellular_pivot.reset_index()\n",
    "df_groupby_cellular_pivot"
   ]
  },
  {
   "cell_type": "code",
   "execution_count": null,
   "metadata": {},
   "outputs": [],
   "source": [
    "df_groupby_cellular_pivot['categoria_age']"
   ]
  },
  {
   "cell_type": "code",
   "execution_count": null,
   "metadata": {},
   "outputs": [],
   "source": [
    "ordre_age = ['alto super a 45.0','medio 34.0 a 45.0','bajo infer a 34.0']\n",
    "\n",
    "#print(df_groupby_cellular_pivot['categoria_age'].unique())\n",
    "\n",
    "# Convertir 'categoria_age' a categórica con el orden deseado\n",
    "df_groupby_cellular_pivot['categoria_age'] = pd.Categorical(df_groupby_cellular_pivot['categoria_age'], categories=ordre_age, ordered=True)\n",
    "\n",
    "# Ordenar el DataFrame por 'categoria_age'\n",
    "df_groupby_cellular_pivot = df_groupby_cellular_pivot.sort_values('categoria_age')\n",
    "\n",
    "# Definir el nuevo orden de las columnas\n",
    "column_order = ['categoria_age','bajo infer a 230.0', 'medio 230.0 a 1125.0', 'alto super a 1125.0']\n",
    "\n",
    "# Reordenar las columnas\n",
    "df_groupby_cellular_pivot = df_groupby_cellular_pivot [column_order]\n",
    "\n",
    "# Mostrar el DataFrame ordenado\n",
    "df_groupby_cellular_pivot\n",
    "df_groupby_cellular_pivot=df_groupby_cellular_pivot.set_index(\"categoria_age\")\n",
    "df_groupby_cellular_pivot"
   ]
  },
  {
   "cell_type": "code",
   "execution_count": null,
   "metadata": {},
   "outputs": [],
   "source": [
    "# Default heatmap\n",
    "p1 = sns.heatmap(df_groupby_cellular_pivot,annot=True,cmap=\"YlGnBu\",vmin=0.5,vmax=0.86)\n",
    "plt.title(\"Tasa conversion móvil [4 y 17 minutos] por rangos balance y edad\")\n",
    "plt.xlabel(\"Rangos de balance\")\n",
    "plt.ylabel(\"Rangos de edad\")\n",
    "\n"
   ]
  },
  {
   "cell_type": "code",
   "execution_count": null,
   "metadata": {},
   "outputs": [],
   "source": [
    "filtro_estudio=df_groupby['contact']==\"cellular\"\n",
    "order = [ 'bajo infer a 230.0', 'medio 230.0 a 1125.0','alto super a 1125.0']\n",
    "hue_order=['bajo infer a 34.0','medio 34.0 a 45.0', 'alto super a 45.0']\n",
    "ax=sns.barplot(x='categoria_balance',y='tasa_conversion',data=df_groupby[filtro_estudio],hue='categoria_age', order=order, hue_order=hue_order)\n",
    "\n",
    "#plt.xticks(rotation=90,fontsize=10)\n",
    "plt.title(\"Tasa conversion por categorías de rangos duracion\")\n",
    "plt.xlabel(\"Categorias rangos duración\")\n",
    "plt.ylabel(\"Tasa de conversión\")\n",
    "\n",
    "# Añadir los valores encima de las barras\n",
    "for container in ax.containers:\n",
    "    ax.bar_label(container, fmt='%.2f', label_type='edge',fontsize=8)\n",
    "    \n",
    "# Cambiar etiquetas de la leyenda\n",
    "#new_labels = ['Móvil', 'Telefónico', 'Desconocidos']\n",
    "#ax.legend(title='Contact', labels=new_labels)\n",
    "\n",
    "\n",
    "# Cambiar etiquetas de la leyenda, manteniendo los colores\n",
    "# Mapeo de valores originales de 'contact' a nuevos nombres\n",
    "#label_map = {'cellular': 'Móvil', 'telephone': 'Telefónico', 'unknown': 'Desconocidos'}\n",
    "\n",
    "# Obtener los handles y labels de la leyenda original\n",
    "handles, labels = ax.get_legend_handles_labels()\n",
    "\n",
    "# Crear nueva leyenda con etiquetas mapeadas\n",
    "#new_labels = [label_map[label] for label in labels]\n",
    "ax.legend(handles=handles, title='categoria_age', loc='lower right')\n",
    "\n",
    "# Mostrar gráfico\n",
    "plt.show()"
   ]
  },
  {
   "cell_type": "code",
   "execution_count": null,
   "metadata": {},
   "outputs": [],
   "source": [
    "df_mark_age_bal_medio_alto_o_alto[df_mark_age_bal_medio_alto_o_alto[\"contact\"]=='telephone']"
   ]
  }
 ],
 "metadata": {
  "kernelspec": {
   "display_name": "Python 3 (ipykernel)",
   "language": "python",
   "name": "python3"
  },
  "language_info": {
   "codemirror_mode": {
    "name": "ipython",
    "version": 3
   },
   "file_extension": ".py",
   "mimetype": "text/x-python",
   "name": "python",
   "nbconvert_exporter": "python",
   "pygments_lexer": "ipython3",
   "version": "3.11.4"
  }
 },
 "nbformat": 4,
 "nbformat_minor": 2
}
