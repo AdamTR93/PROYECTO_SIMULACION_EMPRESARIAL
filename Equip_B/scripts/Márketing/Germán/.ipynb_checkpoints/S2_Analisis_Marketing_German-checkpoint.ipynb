{
 "cells": [
  {
   "cell_type": "code",
   "execution_count": 2,
   "id": "b540d5d9",
   "metadata": {},
   "outputs": [
    {
     "name": "stdout",
     "output_type": "stream",
     "text": [
      "conexió correcta\n",
      "Taula 'BANK_marketing' carregada correctament.\n",
      "Taula 'BANK_marketing131024' carregada correctament.\n"
     ]
    }
   ],
   "source": [
    "from sqlalchemy import create_engine, inspect\n",
    "import pandas as pd\n",
    "import numpy as np\n",
    "import matplotlib.pyplot as plt\n",
    "import seaborn as sns\n",
    "from datetime import date, time, datetime\n",
    "\n",
    "#Dades de connexió\n",
    "\n",
    "usuario='EquipoB'\n",
    "\n",
    "contraseña=\"E1q2u3i4p5oB\"\n",
    "host='212.227.90.6'\n",
    "puerto=3306\n",
    "nombre_base_datos='EquipB'\n",
    "\n",
    "#Crear la URL de la connexió\n",
    "url_conexion=f\"mysql+pymysql://{usuario}:{contraseña}@{host}:{puerto}/{nombre_base_datos}\"\n",
    "\n",
    "try:\n",
    "    #Crear el engine de SQLAlchemy\n",
    "    engine=create_engine(url_conexion)\n",
    "    cnx=engine.connect()\n",
    "\n",
    "    print(\"conexió correcta\")\n",
    "    #cnx.close()\n",
    "except Exception as e:\n",
    "    print(f\"Error al conectar con SQLAlchemy: {e}\")\n",
    "    \n",
    "#Recordar que inspect del codi anterior quan creo la connexió amb sqlalchemy\n",
    "#from sqlalchemy import create_engine, inspect\n",
    "inspector=inspect(engine)\n",
    "nombre_tablas=inspector.get_table_names()\n",
    "\n",
    "# Diccionario para almacenar los DataFrames\n",
    "df= {}\n",
    "\n",
    "for taula in nombre_tablas:\n",
    "    query=f\"select * from {taula}\"\n",
    "    \n",
    "    try:\n",
    "        df[taula] = pd.read_sql(query, cnx)\n",
    "        print(f\"Taula '{taula}' carregada correctament.\")\n",
    "    except Exception as e:\n",
    "        print(f\"Error al carregar la taula '{taula}':{e}\")\n",
    "  \n",
    "# Tancar la connexió\n",
    "cnx.close()"
   ]
  },
  {
   "cell_type": "code",
   "execution_count": 3,
   "id": "9077e0b4",
   "metadata": {},
   "outputs": [],
   "source": [
    "df_BANK_marketing=df['BANK_marketing131024']"
   ]
  },
  {
   "cell_type": "code",
   "execution_count": 4,
   "id": "3e86d810",
   "metadata": {},
   "outputs": [
    {
     "data": {
      "text/html": [
       "<div>\n",
       "<style scoped>\n",
       "    .dataframe tbody tr th:only-of-type {\n",
       "        vertical-align: middle;\n",
       "    }\n",
       "\n",
       "    .dataframe tbody tr th {\n",
       "        vertical-align: top;\n",
       "    }\n",
       "\n",
       "    .dataframe thead th {\n",
       "        text-align: right;\n",
       "    }\n",
       "</style>\n",
       "<table border=\"1\" class=\"dataframe\">\n",
       "  <thead>\n",
       "    <tr style=\"text-align: right;\">\n",
       "      <th></th>\n",
       "      <th>id</th>\n",
       "      <th>age</th>\n",
       "      <th>job</th>\n",
       "      <th>marital</th>\n",
       "      <th>education</th>\n",
       "      <th>default</th>\n",
       "      <th>balance</th>\n",
       "      <th>housing</th>\n",
       "      <th>loan</th>\n",
       "      <th>contact</th>\n",
       "      <th>day</th>\n",
       "      <th>month</th>\n",
       "      <th>duration</th>\n",
       "      <th>campaign</th>\n",
       "      <th>pdays</th>\n",
       "      <th>previous</th>\n",
       "      <th>poutcome</th>\n",
       "      <th>deposit</th>\n",
       "    </tr>\n",
       "  </thead>\n",
       "  <tbody>\n",
       "    <tr>\n",
       "      <th>0</th>\n",
       "      <td>1</td>\n",
       "      <td>59</td>\n",
       "      <td>admin.</td>\n",
       "      <td>married</td>\n",
       "      <td>secondary</td>\n",
       "      <td>0</td>\n",
       "      <td>2343</td>\n",
       "      <td>1</td>\n",
       "      <td>0</td>\n",
       "      <td>unknown</td>\n",
       "      <td>5</td>\n",
       "      <td>may</td>\n",
       "      <td>1042</td>\n",
       "      <td>1</td>\n",
       "      <td>-1</td>\n",
       "      <td>0</td>\n",
       "      <td>unknown</td>\n",
       "      <td>1</td>\n",
       "    </tr>\n",
       "    <tr>\n",
       "      <th>1</th>\n",
       "      <td>2</td>\n",
       "      <td>59</td>\n",
       "      <td>admin.</td>\n",
       "      <td>married</td>\n",
       "      <td>secondary</td>\n",
       "      <td>0</td>\n",
       "      <td>2343</td>\n",
       "      <td>1</td>\n",
       "      <td>0</td>\n",
       "      <td>unknown</td>\n",
       "      <td>5</td>\n",
       "      <td>may</td>\n",
       "      <td>1042</td>\n",
       "      <td>1</td>\n",
       "      <td>-1</td>\n",
       "      <td>0</td>\n",
       "      <td>unknown</td>\n",
       "      <td>1</td>\n",
       "    </tr>\n",
       "    <tr>\n",
       "      <th>2</th>\n",
       "      <td>3</td>\n",
       "      <td>56</td>\n",
       "      <td>admin.</td>\n",
       "      <td>married</td>\n",
       "      <td>secondary</td>\n",
       "      <td>0</td>\n",
       "      <td>45</td>\n",
       "      <td>0</td>\n",
       "      <td>0</td>\n",
       "      <td>unknown</td>\n",
       "      <td>5</td>\n",
       "      <td>may</td>\n",
       "      <td>1467</td>\n",
       "      <td>1</td>\n",
       "      <td>-1</td>\n",
       "      <td>0</td>\n",
       "      <td>unknown</td>\n",
       "      <td>1</td>\n",
       "    </tr>\n",
       "    <tr>\n",
       "      <th>3</th>\n",
       "      <td>4</td>\n",
       "      <td>41</td>\n",
       "      <td>technician</td>\n",
       "      <td>married</td>\n",
       "      <td>secondary</td>\n",
       "      <td>0</td>\n",
       "      <td>1270</td>\n",
       "      <td>1</td>\n",
       "      <td>0</td>\n",
       "      <td>unknown</td>\n",
       "      <td>5</td>\n",
       "      <td>may</td>\n",
       "      <td>1389</td>\n",
       "      <td>1</td>\n",
       "      <td>-1</td>\n",
       "      <td>0</td>\n",
       "      <td>unknown</td>\n",
       "      <td>1</td>\n",
       "    </tr>\n",
       "    <tr>\n",
       "      <th>4</th>\n",
       "      <td>5</td>\n",
       "      <td>55</td>\n",
       "      <td>services</td>\n",
       "      <td>married</td>\n",
       "      <td>secondary</td>\n",
       "      <td>0</td>\n",
       "      <td>2476</td>\n",
       "      <td>1</td>\n",
       "      <td>0</td>\n",
       "      <td>unknown</td>\n",
       "      <td>5</td>\n",
       "      <td>may</td>\n",
       "      <td>579</td>\n",
       "      <td>1</td>\n",
       "      <td>-1</td>\n",
       "      <td>0</td>\n",
       "      <td>unknown</td>\n",
       "      <td>1</td>\n",
       "    </tr>\n",
       "  </tbody>\n",
       "</table>\n",
       "</div>"
      ],
      "text/plain": [
       "   id  age         job  marital  education  default  balance  housing  loan  \\\n",
       "0   1   59      admin.  married  secondary        0     2343        1     0   \n",
       "1   2   59      admin.  married  secondary        0     2343        1     0   \n",
       "2   3   56      admin.  married  secondary        0       45        0     0   \n",
       "3   4   41  technician  married  secondary        0     1270        1     0   \n",
       "4   5   55    services  married  secondary        0     2476        1     0   \n",
       "\n",
       "   contact  day month  duration  campaign  pdays  previous poutcome  deposit  \n",
       "0  unknown    5   may      1042         1     -1         0  unknown        1  \n",
       "1  unknown    5   may      1042         1     -1         0  unknown        1  \n",
       "2  unknown    5   may      1467         1     -1         0  unknown        1  \n",
       "3  unknown    5   may      1389         1     -1         0  unknown        1  \n",
       "4  unknown    5   may       579         1     -1         0  unknown        1  "
      ]
     },
     "execution_count": 4,
     "metadata": {},
     "output_type": "execute_result"
    }
   ],
   "source": [
    "df_BANK_marketing.head()"
   ]
  },
  {
   "cell_type": "code",
   "execution_count": 6,
   "id": "3f9065aa",
   "metadata": {},
   "outputs": [],
   "source": [
    "df_BANK_vista_marketing=df_BANK_marketing[['id','contact','day','month','duration','campaign','pdays','previous','poutcome','deposit']]"
   ]
  },
  {
   "cell_type": "code",
   "execution_count": 7,
   "id": "e281989c",
   "metadata": {},
   "outputs": [
    {
     "data": {
      "text/html": [
       "<div>\n",
       "<style scoped>\n",
       "    .dataframe tbody tr th:only-of-type {\n",
       "        vertical-align: middle;\n",
       "    }\n",
       "\n",
       "    .dataframe tbody tr th {\n",
       "        vertical-align: top;\n",
       "    }\n",
       "\n",
       "    .dataframe thead th {\n",
       "        text-align: right;\n",
       "    }\n",
       "</style>\n",
       "<table border=\"1\" class=\"dataframe\">\n",
       "  <thead>\n",
       "    <tr style=\"text-align: right;\">\n",
       "      <th></th>\n",
       "      <th>id</th>\n",
       "      <th>day</th>\n",
       "      <th>duration</th>\n",
       "      <th>campaign</th>\n",
       "      <th>pdays</th>\n",
       "      <th>previous</th>\n",
       "      <th>deposit</th>\n",
       "    </tr>\n",
       "  </thead>\n",
       "  <tbody>\n",
       "    <tr>\n",
       "      <th>count</th>\n",
       "      <td>16163.000000</td>\n",
       "      <td>16163.000000</td>\n",
       "      <td>16163.000000</td>\n",
       "      <td>16163.000000</td>\n",
       "      <td>16163.000000</td>\n",
       "      <td>16163.000000</td>\n",
       "      <td>16163.000000</td>\n",
       "    </tr>\n",
       "    <tr>\n",
       "      <th>mean</th>\n",
       "      <td>9696.799233</td>\n",
       "      <td>15.647157</td>\n",
       "      <td>372.542288</td>\n",
       "      <td>2.508816</td>\n",
       "      <td>51.326734</td>\n",
       "      <td>0.824909</td>\n",
       "      <td>0.473860</td>\n",
       "    </tr>\n",
       "    <tr>\n",
       "      <th>std</th>\n",
       "      <td>6754.310906</td>\n",
       "      <td>8.417469</td>\n",
       "      <td>345.261981</td>\n",
       "      <td>2.751196</td>\n",
       "      <td>109.031324</td>\n",
       "      <td>2.241574</td>\n",
       "      <td>0.499332</td>\n",
       "    </tr>\n",
       "    <tr>\n",
       "      <th>min</th>\n",
       "      <td>1.000000</td>\n",
       "      <td>1.000000</td>\n",
       "      <td>2.000000</td>\n",
       "      <td>1.000000</td>\n",
       "      <td>-1.000000</td>\n",
       "      <td>0.000000</td>\n",
       "      <td>0.000000</td>\n",
       "    </tr>\n",
       "    <tr>\n",
       "      <th>25%</th>\n",
       "      <td>4041.500000</td>\n",
       "      <td>8.000000</td>\n",
       "      <td>139.000000</td>\n",
       "      <td>1.000000</td>\n",
       "      <td>-1.000000</td>\n",
       "      <td>0.000000</td>\n",
       "      <td>0.000000</td>\n",
       "    </tr>\n",
       "    <tr>\n",
       "      <th>50%</th>\n",
       "      <td>8082.000000</td>\n",
       "      <td>15.000000</td>\n",
       "      <td>255.000000</td>\n",
       "      <td>2.000000</td>\n",
       "      <td>-1.000000</td>\n",
       "      <td>0.000000</td>\n",
       "      <td>0.000000</td>\n",
       "    </tr>\n",
       "    <tr>\n",
       "      <th>75%</th>\n",
       "      <td>17342.500000</td>\n",
       "      <td>22.000000</td>\n",
       "      <td>498.000000</td>\n",
       "      <td>3.000000</td>\n",
       "      <td>10.000000</td>\n",
       "      <td>1.000000</td>\n",
       "      <td>1.000000</td>\n",
       "    </tr>\n",
       "    <tr>\n",
       "      <th>max</th>\n",
       "      <td>21383.000000</td>\n",
       "      <td>31.000000</td>\n",
       "      <td>3881.000000</td>\n",
       "      <td>63.000000</td>\n",
       "      <td>854.000000</td>\n",
       "      <td>58.000000</td>\n",
       "      <td>1.000000</td>\n",
       "    </tr>\n",
       "  </tbody>\n",
       "</table>\n",
       "</div>"
      ],
      "text/plain": [
       "                 id           day      duration      campaign         pdays  \\\n",
       "count  16163.000000  16163.000000  16163.000000  16163.000000  16163.000000   \n",
       "mean    9696.799233     15.647157    372.542288      2.508816     51.326734   \n",
       "std     6754.310906      8.417469    345.261981      2.751196    109.031324   \n",
       "min        1.000000      1.000000      2.000000      1.000000     -1.000000   \n",
       "25%     4041.500000      8.000000    139.000000      1.000000     -1.000000   \n",
       "50%     8082.000000     15.000000    255.000000      2.000000     -1.000000   \n",
       "75%    17342.500000     22.000000    498.000000      3.000000     10.000000   \n",
       "max    21383.000000     31.000000   3881.000000     63.000000    854.000000   \n",
       "\n",
       "           previous       deposit  \n",
       "count  16163.000000  16163.000000  \n",
       "mean       0.824909      0.473860  \n",
       "std        2.241574      0.499332  \n",
       "min        0.000000      0.000000  \n",
       "25%        0.000000      0.000000  \n",
       "50%        0.000000      0.000000  \n",
       "75%        1.000000      1.000000  \n",
       "max       58.000000      1.000000  "
      ]
     },
     "execution_count": 7,
     "metadata": {},
     "output_type": "execute_result"
    }
   ],
   "source": [
    "df_BANK_vista_marketing.describe()"
   ]
  },
  {
   "cell_type": "code",
   "execution_count": 8,
   "id": "ade17358",
   "metadata": {},
   "outputs": [
    {
     "name": "stdout",
     "output_type": "stream",
     "text": [
      "<class 'pandas.core.frame.DataFrame'>\n",
      "RangeIndex: 16163 entries, 0 to 16162\n",
      "Data columns (total 10 columns):\n",
      " #   Column    Non-Null Count  Dtype \n",
      "---  ------    --------------  ----- \n",
      " 0   id        16163 non-null  int64 \n",
      " 1   contact   16163 non-null  object\n",
      " 2   day       16163 non-null  int64 \n",
      " 3   month     16163 non-null  object\n",
      " 4   duration  16163 non-null  int64 \n",
      " 5   campaign  16163 non-null  int64 \n",
      " 6   pdays     16163 non-null  int64 \n",
      " 7   previous  16163 non-null  int64 \n",
      " 8   poutcome  16163 non-null  object\n",
      " 9   deposit   16163 non-null  int64 \n",
      "dtypes: int64(7), object(3)\n",
      "memory usage: 1.2+ MB\n"
     ]
    }
   ],
   "source": [
    "df_BANK_vista_marketing.info()"
   ]
  },
  {
   "cell_type": "code",
   "execution_count": 11,
   "id": "1adf55f4",
   "metadata": {},
   "outputs": [],
   "source": [
    "df_BANK_vista_marketing = df_BANK_vista_marketing.copy()\n",
    "\n",
    "df_BANK_vista_marketing['contact'] = df_BANK_vista_marketing['contact'].astype('category')\n",
    "df_BANK_vista_marketing['month'] = df_BANK_vista_marketing['month'].astype('category')\n",
    "df_BANK_vista_marketing['poutcome'] = df_BANK_vista_marketing['poutcome'].astype('category')\n",
    "\n",
    "\n"
   ]
  },
  {
   "cell_type": "code",
   "execution_count": 12,
   "id": "2aa6a35b",
   "metadata": {},
   "outputs": [
    {
     "name": "stdout",
     "output_type": "stream",
     "text": [
      "<class 'pandas.core.frame.DataFrame'>\n",
      "RangeIndex: 16163 entries, 0 to 16162\n",
      "Data columns (total 10 columns):\n",
      " #   Column    Non-Null Count  Dtype   \n",
      "---  ------    --------------  -----   \n",
      " 0   id        16163 non-null  int64   \n",
      " 1   contact   16163 non-null  category\n",
      " 2   day       16163 non-null  int64   \n",
      " 3   month     16163 non-null  category\n",
      " 4   duration  16163 non-null  int64   \n",
      " 5   campaign  16163 non-null  int64   \n",
      " 6   pdays     16163 non-null  int64   \n",
      " 7   previous  16163 non-null  int64   \n",
      " 8   poutcome  16163 non-null  category\n",
      " 9   deposit   16163 non-null  int64   \n",
      "dtypes: category(3), int64(7)\n",
      "memory usage: 932.1 KB\n"
     ]
    }
   ],
   "source": [
    "df_BANK_vista_marketing.info()"
   ]
  },
  {
   "cell_type": "code",
   "execution_count": 13,
   "id": "ca8ce5f2",
   "metadata": {},
   "outputs": [],
   "source": [
    "df_BANK_vista_marketing['previous_contact'] = df_BANK_vista_marketing['pdays'].apply(lambda x: 0 if x == -1 else 1)\n"
   ]
  },
  {
   "cell_type": "markdown",
   "id": "ac374cc2",
   "metadata": {},
   "source": [
    "# Agrupación por tipo de contacto:\n",
    "\n",
    "Agrupa los datos por el tipo de contacto (móvil o telefónico) y calcula la tasa de conversión para cada uno de ellos."
   ]
  },
  {
   "cell_type": "code",
   "execution_count": 14,
   "id": "8f4608bc",
   "metadata": {},
   "outputs": [
    {
     "name": "stdout",
     "output_type": "stream",
     "text": [
      "contact\n",
      "cellular     0.542570\n",
      "telephone    0.503923\n",
      "unknown      0.227863\n",
      "Name: deposit, dtype: float64\n"
     ]
    }
   ],
   "source": [
    "conversion_rate = df_BANK_vista_marketing.groupby('contact')['deposit'].mean()\n",
    "print(conversion_rate)\n"
   ]
  },
  {
   "cell_type": "markdown",
   "id": "55b3e09c",
   "metadata": {},
   "source": [
    "# Análisis estadístico"
   ]
  },
  {
   "cell_type": "code",
   "execution_count": 15,
   "id": "a14a5791",
   "metadata": {},
   "outputs": [
    {
     "name": "stdout",
     "output_type": "stream",
     "text": [
      "Chi2: 1046.6839002852457, p-value: 5.193724448879824e-228\n"
     ]
    }
   ],
   "source": [
    "from scipy.stats import chi2_contingency\n",
    "\n",
    "# Crear una tabla de contingencia\n",
    "contingency_table = pd.crosstab(df_BANK_vista_marketing['contact'], df_BANK_vista_marketing['deposit'])\n",
    "\n",
    "# Realizar la prueba de chi-cuadrado\n",
    "chi2, p, dof, expected = chi2_contingency(contingency_table)\n",
    "print(f\"Chi2: {chi2}, p-value: {p}\")\n"
   ]
  },
  {
   "cell_type": "markdown",
   "id": "541d8418",
   "metadata": {},
   "source": [
    "    Chi2: 1046.68: Este valor del estadístico de chi-cuadrado es bastante alto. Un valor elevado indica que hay una gran discrepancia entre los valores observados y los esperados bajo la hipótesis nula (la hipótesis de que no hay asociación entre el tipo de contacto y la tasa de conversión).\n",
    "\n",
    "    p-value: 5.19e-228: El valor p es extremadamente pequeño (prácticamente 0). Esto significa que hay una probabilidad muy baja de que las diferencias observadas entre los tipos de contacto (móvil o telefónico) sean debidas al azar.\n",
    "\n",
    "Interpretación:\n",
    "\n",
    "    Dado que el valor p es mucho menor que el umbral comúnmente aceptado de 0.05, rechazas la hipótesis nula. Esto implica que existe una relación significativa entre el tipo de contacto (móvil o telefónico) y la tasa de conversión de las campañas de marketing.\n",
    "\n",
    "    En términos más simples, la manera en que se contacta a los clientes (ya sea móvil o telefónicamente) tiene un impacto notable en si hacen un depósito o no."
   ]
  },
  {
   "cell_type": "code",
   "execution_count": 17,
   "id": "db6c3257",
   "metadata": {},
   "outputs": [
    {
     "data": {
      "image/png": "[encoded data removed]",
      "text/plain": [
       "<Figure size 800x600 with 1 Axes>"
      ]
     },
     "metadata": {},
     "output_type": "display_data"
    }
   ],
   "source": [
    "import matplotlib.pyplot as plt\n",
    "\n",
    "# Calcular la tasa de conversión por tipo de contacto\n",
    "conversion_rate = df_BANK_vista_marketing.groupby('contact')['deposit'].mean()\n",
    "\n",
    "# Crear una gráfica de barras\n",
    "plt.figure(figsize=(8,6))\n",
    "plt.bar(conversion_rate.index, conversion_rate.values, color=['blue', 'green'])\n",
    "plt.title('Tasa de Conversión por Tipo de Contacto', fontsize=14)\n",
    "plt.xlabel('Tipo de Contacto', fontsize=12)\n",
    "plt.ylabel('Tasa de Conversión', fontsize=12)\n",
    "plt.ylim(0, 1)  # Limitar el eje y a 1 (100%)\n",
    "plt.show()\n"
   ]
  },
  {
   "cell_type": "markdown",
   "id": "e2e8852c",
   "metadata": {},
   "source": [
    "## A partir de la gráfica que muestra la tasa de conversión por tipo de contacto, podemos extraer las siguientes conclusiones:\n",
    "\n",
    "    Contacto por móvil (\"cellular\") tiene la tasa de conversión más alta: Esto indica que las campañas de marketing que utilizan el contacto a través de móviles son más efectivas, ya que logran que una mayor proporción de clientes realicen un depósito en comparación con otros tipos de contacto.\n",
    "\n",
    "    Contacto telefónico (\"telephone\") también es efectivo, pero ligeramente inferior al móvil: La tasa de conversión para el contacto telefónico es menor que la del contacto móvil, lo que sugiere que este tipo de contacto es menos efectivo, aunque todavía tiene buenos resultados en comparación con otros métodos.\n",
    "\n",
    "\n",
    "## Recomendaciones basadas en estos resultados:\n",
    "\n",
    "    Priorizar el contacto móvil en las campañas futuras: Dado que el contacto por móvil tiene la mayor tasa de conversión, podrías redirigir una mayor parte del esfuerzo y los recursos de marketing hacia este canal.\n",
    "\n",
    "    Optimizar el contacto telefónico: Aunque el contacto telefónico tiene una tasa de conversión más baja que el móvil, sigue siendo un canal relevante. Podrías mejorar la eficiencia de este canal ajustando los guiones de venta, capacitando mejor a los agentes o personalizando las campañas.\n",
    "\n"
   ]
  },
  {
   "cell_type": "code",
   "execution_count": null,
   "id": "34fd72ec",
   "metadata": {},
   "outputs": [],
   "source": []
  }
 ],
 "metadata": {
  "kernelspec": {
   "display_name": "Python 3 (ipykernel)",
   "language": "python",
   "name": "python3"
  },
  "language_info": {
   "codemirror_mode": {
    "name": "ipython",
    "version": 3
   },
   "file_extension": ".py",
   "mimetype": "text/x-python",
   "name": "python",
   "nbconvert_exporter": "python",
   "pygments_lexer": "ipython3",
   "version": "3.11.4"
  }
 },
 "nbformat": 4,
 "nbformat_minor": 5
}
