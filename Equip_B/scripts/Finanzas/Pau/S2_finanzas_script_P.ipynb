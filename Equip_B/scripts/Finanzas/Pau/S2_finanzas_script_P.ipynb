{
 "cells": [
  {
   "cell_type": "markdown",
   "metadata": {},
   "source": [
    "# SPRINT 2\n",
    "Analistes de Finances i Risc Crediticio: Els clients amb préstecs i hipoteques tendeixen a tenir un \n",
    "saldo mitjà més baix o més risc d'incompliment? Com hauríem d'ajustar les nostres ofertes i \n",
    "estratègies de gestió de riscos en funció d'aquestes troballes?\n",
    "\n",
    "CATEGORICAS : LOAN / HOUSING\n",
    "NUMÉRICAS : BALANCE / DEFAULT\n"
   ]
  },
  {
   "cell_type": "code",
   "execution_count": 1,
   "metadata": {},
   "outputs": [
    {
     "name": "stdout",
     "output_type": "stream",
     "text": [
      "Requirement already satisfied: pymysql in c:\\users\\ueret\\appdata\\local\\packages\\pythonsoftwarefoundation.python.3.11_qbz5n2kfra8p0\\localcache\\local-packages\\python311\\site-packages (1.1.1)\n",
      "Note: you may need to restart the kernel to use updated packages.\n",
      "conexió correcta\n",
      "Taula 'BANK_marketing' carregada correctament.\n",
      "Taula 'BANK_marketing131024' carregada correctament.\n"
     ]
    }
   ],
   "source": [
    "from sqlalchemy import create_engine, inspect\n",
    "import pandas as pd\n",
    "import numpy as np\n",
    "import matplotlib.pyplot as plt\n",
    "import seaborn as sns\n",
    "from datetime import date, time, datetime\n",
    "%pip install pymysql\n",
    "import pymysql\n",
    "#Dades de connexió\n",
    "\n",
    "usuario='EquipoB'\n",
    "contraseña=\"E1q2u3i4p5oB\"\n",
    "host='212.227.90.6'\n",
    "puerto=3306\n",
    "nombre_base_datos='EquipB'\n",
    "\n",
    "#URL de la connexió\n",
    "url_conexion=f\"mysql+pymysql://{usuario}:{contraseña}@{host}:{puerto}/{nombre_base_datos}\"\n",
    "\n",
    "#Crear l'engine de SQLAlchemy\n",
    "try:\n",
    "    engine=create_engine(url_conexion)\n",
    "    cnx=engine.connect()\n",
    "    print(\"conexió correcta\")\n",
    "except Exception as e:\n",
    "    print(f\"Error al conectar con SQLAlchemy: {e}\")\n",
    "    \n",
    "#Obtenir nom de les taules\n",
    "inspector=inspect(engine)\n",
    "nombre_tablas=inspector.get_table_names()\n",
    "\n",
    "\n",
    "#Emmagatzemar el DataFrames en una llista\n",
    "df= {}\n",
    "\n",
    "for taula in nombre_tablas:\n",
    "    query=f\"select * from {taula}\"\n",
    "    \n",
    "    try:\n",
    "        df[taula] = pd.read_sql(query, cnx)\n",
    "        print(f\"Taula '{taula}' carregada correctament.\")\n",
    "    except Exception as e:\n",
    "        print(f\"Error al carregar la taula '{taula}':{e}\")\n",
    "\n",
    "#cnx.close()"
   ]
  },
  {
   "cell_type": "code",
   "execution_count": 2,
   "metadata": {},
   "outputs": [
    {
     "data": {
      "text/html": [
       "<div>\n",
       "<style scoped>\n",
       "    .dataframe tbody tr th:only-of-type {\n",
       "        vertical-align: middle;\n",
       "    }\n",
       "\n",
       "    .dataframe tbody tr th {\n",
       "        vertical-align: top;\n",
       "    }\n",
       "\n",
       "    .dataframe thead th {\n",
       "        text-align: right;\n",
       "    }\n",
       "</style>\n",
       "<table border=\"1\" class=\"dataframe\">\n",
       "  <thead>\n",
       "    <tr style=\"text-align: right;\">\n",
       "      <th></th>\n",
       "      <th>id</th>\n",
       "      <th>age</th>\n",
       "      <th>job</th>\n",
       "      <th>marital</th>\n",
       "      <th>education</th>\n",
       "      <th>default</th>\n",
       "      <th>balance</th>\n",
       "      <th>housing</th>\n",
       "      <th>loan</th>\n",
       "    </tr>\n",
       "  </thead>\n",
       "  <tbody>\n",
       "    <tr>\n",
       "      <th>0</th>\n",
       "      <td>1</td>\n",
       "      <td>59</td>\n",
       "      <td>admin.</td>\n",
       "      <td>married</td>\n",
       "      <td>secondary</td>\n",
       "      <td>0</td>\n",
       "      <td>2343</td>\n",
       "      <td>1</td>\n",
       "      <td>0</td>\n",
       "    </tr>\n",
       "    <tr>\n",
       "      <th>1</th>\n",
       "      <td>3</td>\n",
       "      <td>56</td>\n",
       "      <td>admin.</td>\n",
       "      <td>married</td>\n",
       "      <td>secondary</td>\n",
       "      <td>0</td>\n",
       "      <td>45</td>\n",
       "      <td>0</td>\n",
       "      <td>0</td>\n",
       "    </tr>\n",
       "    <tr>\n",
       "      <th>2</th>\n",
       "      <td>4</td>\n",
       "      <td>41</td>\n",
       "      <td>technician</td>\n",
       "      <td>married</td>\n",
       "      <td>secondary</td>\n",
       "      <td>0</td>\n",
       "      <td>1270</td>\n",
       "      <td>1</td>\n",
       "      <td>0</td>\n",
       "    </tr>\n",
       "    <tr>\n",
       "      <th>3</th>\n",
       "      <td>5</td>\n",
       "      <td>55</td>\n",
       "      <td>services</td>\n",
       "      <td>married</td>\n",
       "      <td>secondary</td>\n",
       "      <td>0</td>\n",
       "      <td>2476</td>\n",
       "      <td>1</td>\n",
       "      <td>0</td>\n",
       "    </tr>\n",
       "    <tr>\n",
       "      <th>4</th>\n",
       "      <td>6</td>\n",
       "      <td>54</td>\n",
       "      <td>admin.</td>\n",
       "      <td>married</td>\n",
       "      <td>tertiary</td>\n",
       "      <td>0</td>\n",
       "      <td>184</td>\n",
       "      <td>0</td>\n",
       "      <td>0</td>\n",
       "    </tr>\n",
       "  </tbody>\n",
       "</table>\n",
       "</div>"
      ],
      "text/plain": [
       "   id  age         job  marital  education  default  balance  housing  loan\n",
       "0   1   59      admin.  married  secondary        0     2343        1     0\n",
       "1   3   56      admin.  married  secondary        0       45        0     0\n",
       "2   4   41  technician  married  secondary        0     1270        1     0\n",
       "3   5   55    services  married  secondary        0     2476        1     0\n",
       "4   6   54      admin.  married   tertiary        0      184        0     0"
      ]
     },
     "execution_count": 2,
     "metadata": {},
     "output_type": "execute_result"
    }
   ],
   "source": [
    "df_bank = df['BANK_marketing131024']\n",
    "\n",
    "df_finanzas = df_bank[['id','age','job','marital','education','default','balance','housing','loan']]\n",
    "df_finanzas.head()\n"
   ]
  },
  {
   "cell_type": "code",
   "execution_count": 3,
   "metadata": {},
   "outputs": [
    {
     "data": {
      "text/html": [
       "<div>\n",
       "<style scoped>\n",
       "    .dataframe tbody tr th:only-of-type {\n",
       "        vertical-align: middle;\n",
       "    }\n",
       "\n",
       "    .dataframe tbody tr th {\n",
       "        vertical-align: top;\n",
       "    }\n",
       "\n",
       "    .dataframe thead th {\n",
       "        text-align: right;\n",
       "    }\n",
       "</style>\n",
       "<table border=\"1\" class=\"dataframe\">\n",
       "  <thead>\n",
       "    <tr style=\"text-align: right;\">\n",
       "      <th></th>\n",
       "      <th>id</th>\n",
       "      <th>age</th>\n",
       "      <th>default</th>\n",
       "      <th>balance</th>\n",
       "      <th>housing</th>\n",
       "      <th>loan</th>\n",
       "    </tr>\n",
       "  </thead>\n",
       "  <tbody>\n",
       "    <tr>\n",
       "      <th>count</th>\n",
       "      <td>11175.000000</td>\n",
       "      <td>11175.000000</td>\n",
       "      <td>11175.000000</td>\n",
       "      <td>11175.000000</td>\n",
       "      <td>11175.000000</td>\n",
       "      <td>11175.000000</td>\n",
       "    </tr>\n",
       "    <tr>\n",
       "      <th>mean</th>\n",
       "      <td>5598.212975</td>\n",
       "      <td>41.235168</td>\n",
       "      <td>0.015123</td>\n",
       "      <td>1528.314004</td>\n",
       "      <td>0.473020</td>\n",
       "      <td>0.130828</td>\n",
       "    </tr>\n",
       "    <tr>\n",
       "      <th>std</th>\n",
       "      <td>3253.427177</td>\n",
       "      <td>11.915016</td>\n",
       "      <td>0.122048</td>\n",
       "      <td>3223.780891</td>\n",
       "      <td>0.499294</td>\n",
       "      <td>0.337227</td>\n",
       "    </tr>\n",
       "    <tr>\n",
       "      <th>min</th>\n",
       "      <td>1.000000</td>\n",
       "      <td>18.000000</td>\n",
       "      <td>0.000000</td>\n",
       "      <td>-6847.000000</td>\n",
       "      <td>0.000000</td>\n",
       "      <td>0.000000</td>\n",
       "    </tr>\n",
       "    <tr>\n",
       "      <th>25%</th>\n",
       "      <td>2795.500000</td>\n",
       "      <td>32.000000</td>\n",
       "      <td>0.000000</td>\n",
       "      <td>122.500000</td>\n",
       "      <td>0.000000</td>\n",
       "      <td>0.000000</td>\n",
       "    </tr>\n",
       "    <tr>\n",
       "      <th>50%</th>\n",
       "      <td>5589.000000</td>\n",
       "      <td>39.000000</td>\n",
       "      <td>0.000000</td>\n",
       "      <td>551.000000</td>\n",
       "      <td>0.000000</td>\n",
       "      <td>0.000000</td>\n",
       "    </tr>\n",
       "    <tr>\n",
       "      <th>75%</th>\n",
       "      <td>8382.500000</td>\n",
       "      <td>49.000000</td>\n",
       "      <td>0.000000</td>\n",
       "      <td>1708.500000</td>\n",
       "      <td>1.000000</td>\n",
       "      <td>0.000000</td>\n",
       "    </tr>\n",
       "    <tr>\n",
       "      <th>max</th>\n",
       "      <td>21200.000000</td>\n",
       "      <td>95.000000</td>\n",
       "      <td>1.000000</td>\n",
       "      <td>81204.000000</td>\n",
       "      <td>1.000000</td>\n",
       "      <td>1.000000</td>\n",
       "    </tr>\n",
       "  </tbody>\n",
       "</table>\n",
       "</div>"
      ],
      "text/plain": [
       "                 id           age       default       balance       housing  \\\n",
       "count  11175.000000  11175.000000  11175.000000  11175.000000  11175.000000   \n",
       "mean    5598.212975     41.235168      0.015123   1528.314004      0.473020   \n",
       "std     3253.427177     11.915016      0.122048   3223.780891      0.499294   \n",
       "min        1.000000     18.000000      0.000000  -6847.000000      0.000000   \n",
       "25%     2795.500000     32.000000      0.000000    122.500000      0.000000   \n",
       "50%     5589.000000     39.000000      0.000000    551.000000      0.000000   \n",
       "75%     8382.500000     49.000000      0.000000   1708.500000      1.000000   \n",
       "max    21200.000000     95.000000      1.000000  81204.000000      1.000000   \n",
       "\n",
       "               loan  \n",
       "count  11175.000000  \n",
       "mean       0.130828  \n",
       "std        0.337227  \n",
       "min        0.000000  \n",
       "25%        0.000000  \n",
       "50%        0.000000  \n",
       "75%        0.000000  \n",
       "max        1.000000  "
      ]
     },
     "execution_count": 3,
     "metadata": {},
     "output_type": "execute_result"
    }
   ],
   "source": [
    "df_finanzas.describe()"
   ]
  },
  {
   "cell_type": "code",
   "execution_count": 11,
   "metadata": {},
   "outputs": [
    {
     "data": {
      "text/plain": [
       "loan\n",
       "0    9713\n",
       "1    1462\n",
       "Name: count, dtype: int64"
      ]
     },
     "execution_count": 11,
     "metadata": {},
     "output_type": "execute_result"
    }
   ],
   "source": [
    "df_finanzas['loan'].value_counts()"
   ]
  },
  {
   "cell_type": "code",
   "execution_count": 12,
   "metadata": {},
   "outputs": [
    {
     "data": {
      "text/plain": [
       "0"
      ]
     },
     "execution_count": 12,
     "metadata": {},
     "output_type": "execute_result"
    }
   ],
   "source": [
    "df_finanzas['loan'].isnull().sum()"
   ]
  },
  {
   "cell_type": "code",
   "execution_count": 7,
   "metadata": {},
   "outputs": [
    {
     "data": {
      "image/png": "[encoded data removed]",
      "text/plain": [
       "<Figure size 640x480 with 1 Axes>"
      ]
     },
     "metadata": {},
     "output_type": "display_data"
    }
   ],
   "source": [
    "sns.countplot(x='loan', data= df_finanzas)\n",
    "plt.title('Distribución de Crédito')\n",
    "plt.xlabel('Crédito')\n",
    "plt.ylabel('Número de Registros')\n",
    "plt.show()\n"
   ]
  },
  {
   "cell_type": "markdown",
   "metadata": {},
   "source": [
    "y seguiré viendo prestamos en funcion de saldo e incumplimiento con un par de graficos de densidad (de prestamos) con hue (de saldo y de incumplimiento) ¿Te parece?"
   ]
  },
  {
   "cell_type": "code",
   "execution_count": 13,
   "metadata": {},
   "outputs": [
    {
     "data": {
      "image/png": "[encoded data removed]",
      "text/plain": [
       "<Figure size 1400x600 with 1 Axes>"
      ]
     },
     "metadata": {},
     "output_type": "display_data"
    }
   ],
   "source": [
    "plt.figure(figsize=(14, 6))\n",
    "\n",
    "sns.kdeplot(data=df_finanzas, x='balance', hue='loan', fill=True, common_norm=False, alpha=0.6)\n",
    "\n",
    "plt.title('Densidad de Saldo segmentado por Crédito', fontsize=14)\n",
    "plt.xlabel('Balance')\n",
    "plt.ylabel('Densidad')\n",
    "\n",
    "plt.xticks(range(-7000,10000,2000), fontsize=5)\n",
    "\n",
    "plt.show()"
   ]
  },
  {
   "cell_type": "code",
   "execution_count": null,
   "metadata": {},
   "outputs": [],
   "source": [
    "#df_vistaf['faltante']= df_vistaf['faltante'].replace({\"no\":0,\"si\":1})"
   ]
  }
 ],
 "metadata": {
  "kernelspec": {
   "display_name": "Python 3",
   "language": "python",
   "name": "python3"
  },
  "language_info": {
   "codemirror_mode": {
    "name": "ipython",
    "version": 3
   },
   "file_extension": ".py",
   "mimetype": "text/x-python",
   "name": "python",
   "nbconvert_exporter": "python",
   "pygments_lexer": "ipython3",
   "version": "3.11.9"
  }
 },
 "nbformat": 4,
 "nbformat_minor": 2
}
